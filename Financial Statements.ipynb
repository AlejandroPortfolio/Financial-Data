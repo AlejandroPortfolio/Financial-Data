{
 "cells": [
  {
   "cell_type": "code",
   "execution_count": 16,
   "id": "30468bec",
   "metadata": {},
   "outputs": [],
   "source": [
    "#Importing the neccessary libraries\n",
    "import os\n",
    "import dotenv\n",
    "import matplotlib.pyplot as plt\n",
    "import numpy as np\n",
    "from statsmodels.tsa.stattools import adfuller\n",
    "import pandas as pd\n",
    "from statsmodels.tsa.seasonal import seasonal_decompose\n",
    "''\n",
    "dotenv.load_dotenv('Api_Data')\n",
    "\n",
    "Api_Key = os.environ['Api_Key']\n",
    "Api = os.environ['API-KEY']\n",
    "stock = 'ENPH'"
   ]
  },
  {
   "cell_type": "code",
   "execution_count": 17,
   "id": "7c4d0089",
   "metadata": {
    "scrolled": true
   },
   "outputs": [
    {
     "name": "stdout",
     "output_type": "stream",
     "text": [
      "{'symbol': 'ENPH', 'annualReports': [{'fiscalDateEnding': '2022-12-31', 'reportedCurrency': 'USD', 'grossProfit': '974595000', 'totalRevenue': '2330853000', 'costOfRevenue': '1356258000', 'costofGoodsAndServicesSold': '1356258000', 'operatingIncome': '448261000', 'sellingGeneralAndAdministrative': '355104000', 'researchAndDevelopment': '168846000', 'operatingExpenses': '526334000', 'investmentIncomeNet': 'None', 'netInterestIncome': '4218000', 'interestIncome': '13656000', 'interestExpense': '9438000', 'nonInterestIncome': '2330853000', 'otherNonOperatingIncome': '-431000', 'depreciation': '27700000', 'depreciationAndAmortization': '24696000', 'incomeBeforeTax': '452048000', 'incomeTaxExpense': '54686000', 'interestAndDebtExpense': '9438000', 'netIncomeFromContinuingOperations': '397362000', 'comprehensiveIncomeNetOfTax': '388500000', 'ebit': '461486000', 'ebitda': '486182000', 'netIncome': '397362000'}, {'fiscalDateEnding': '2021-12-31', 'reportedCurrency': 'USD', 'grossProfit': '554422000', 'totalRevenue': '1382049000', 'costOfRevenue': '827627000', 'costofGoodsAndServicesSold': '827627000', 'operatingIncome': '215832000', 'sellingGeneralAndAdministrative': '233064000', 'researchAndDevelopment': '105526000', 'operatingExpenses': '338590000', 'investmentIncomeNet': 'None', 'netInterestIncome': '-44457000', 'interestIncome': '695000', 'interestExpense': '45152000', 'nonInterestIncome': '1382049000', 'otherNonOperatingIncome': '6050000', 'depreciation': '16700000', 'depreciationAndAmortization': '9500000', 'incomeBeforeTax': '120928000', 'incomeTaxExpense': '-24521000', 'interestAndDebtExpense': '101649000', 'netIncomeFromContinuingOperations': '145449000', 'comprehensiveIncomeNetOfTax': '142995000', 'ebit': '166080000', 'ebitda': '175580000', 'netIncome': '145449000'}, {'fiscalDateEnding': '2020-12-31', 'reportedCurrency': 'USD', 'grossProfit': '345981000', 'totalRevenue': '774425000', 'costOfRevenue': '428444000', 'costofGoodsAndServicesSold': '428444000', 'operatingIncome': '186439000', 'sellingGeneralAndAdministrative': '103621000', 'researchAndDevelopment': '55921000', 'operatingExpenses': '159542000', 'investmentIncomeNet': 'None', 'netInterestIncome': '-18845000', 'interestIncome': '2156000', 'interestExpense': '21001000', 'nonInterestIncome': '730077000', 'otherNonOperatingIncome': '-799000', 'depreciation': '9700000', 'depreciationAndAmortization': '5092000', 'incomeBeforeTax': '119410000', 'incomeTaxExpense': '-14585000', 'interestAndDebtExpense': '21001000', 'netIncomeFromContinuingOperations': '133995000', 'comprehensiveIncomeNetOfTax': '135352000', 'ebit': '140411000', 'ebitda': '145503000', 'netIncome': '133995000'}, {'fiscalDateEnding': '2019-12-31', 'reportedCurrency': 'USD', 'grossProfit': '221245000', 'totalRevenue': '624333000', 'costOfRevenue': '403088000', 'costofGoodsAndServicesSold': '403088000', 'operatingIncome': '102729000', 'sellingGeneralAndAdministrative': '75536000', 'researchAndDevelopment': '40381000', 'operatingExpenses': '118516000', 'investmentIncomeNet': 'None', 'netInterestIncome': '-7178000', 'interestIncome': '2513000', 'interestExpense': '9691000', 'nonInterestIncome': '622181000', 'otherNonOperatingIncome': '-5437000', 'depreciation': '7300000', 'depreciationAndAmortization': '4727000', 'incomeBeforeTax': '90114000', 'incomeTaxExpense': '-71034000', 'interestAndDebtExpense': '17843000', 'netIncomeFromContinuingOperations': '161148000', 'comprehensiveIncomeNetOfTax': '159483000', 'ebit': '99805000', 'ebitda': '104532000', 'netIncome': '161148000'}, {'fiscalDateEnding': '2018-12-31', 'reportedCurrency': 'USD', 'grossProfit': '94445000', 'totalRevenue': '316159000', 'costOfRevenue': '221714000', 'costofGoodsAndServicesSold': '221714000', 'operatingIncome': '1596000', 'sellingGeneralAndAdministrative': '56133000', 'researchAndDevelopment': '32587000', 'operatingExpenses': '92849000', 'investmentIncomeNet': 'None', 'netInterestIncome': '-9635000', 'interestIncome': '1058000', 'interestExpense': '10693000', 'nonInterestIncome': '316159000', 'otherNonOperatingIncome': '-2190000', 'depreciation': '8300000', 'depreciationAndAmortization': '1400000', 'incomeBeforeTax': '-10229000', 'incomeTaxExpense': '1398000', 'interestAndDebtExpense': '9635000', 'netIncomeFromContinuingOperations': '-11627000', 'comprehensiveIncomeNetOfTax': '-10229000', 'ebit': '464000', 'ebitda': '1864000', 'netIncome': '-11627000'}], 'quarterlyReports': [{'fiscalDateEnding': '2022-12-31', 'reportedCurrency': 'USD', 'grossProfit': '310701000', 'totalRevenue': '724652000', 'costOfRevenue': '413951000', 'costofGoodsAndServicesSold': '413951000', 'operatingIncome': '156960000', 'sellingGeneralAndAdministrative': '102268000', 'researchAndDevelopment': '49683000', 'operatingExpenses': '153741000', 'investmentIncomeNet': 'None', 'netInterestIncome': '6441000', 'interestIncome': '8720000', 'interestExpense': '2279000', 'nonInterestIncome': '724652000', 'otherNonOperatingIncome': '4777000', 'depreciation': 'None', 'depreciationAndAmortization': '6662000', 'incomeBeforeTax': '168139000', 'incomeTaxExpense': '14386000', 'interestAndDebtExpense': '2279000', 'netIncomeFromContinuingOperations': '153792000', 'comprehensiveIncomeNetOfTax': '158413000', 'ebit': '170418000', 'ebitda': '177080000', 'netIncome': '153753000'}, {'fiscalDateEnding': '2022-09-30', 'reportedCurrency': 'USD', 'grossProfit': '267916000', 'totalRevenue': '634713000', 'costOfRevenue': '366797000', 'costofGoodsAndServicesSold': '366797000', 'operatingIncome': '135441000', 'sellingGeneralAndAdministrative': '87693000', 'researchAndDevelopment': '44188000', 'operatingExpenses': '132475000', 'investmentIncomeNet': 'None', 'netInterestIncome': '1425000', 'interestIncome': '3680000', 'interestExpense': '2255000', 'nonInterestIncome': '634713000', 'otherNonOperatingIncome': '-2611000', 'depreciation': 'None', 'depreciationAndAmortization': '5963000', 'incomeBeforeTax': '134212000', 'incomeTaxExpense': '19400000', 'interestAndDebtExpense': '2255000', 'netIncomeFromContinuingOperations': '114855000', 'comprehensiveIncomeNetOfTax': '110515000', 'ebit': '136467000', 'ebitda': '142430000', 'netIncome': '114812000'}, {'fiscalDateEnding': '2022-06-30', 'reportedCurrency': 'USD', 'grossProfit': '219005000', 'totalRevenue': '530196000', 'costOfRevenue': '311191000', 'costofGoodsAndServicesSold': '311191000', 'operatingIncome': '94036000', 'sellingGeneralAndAdministrative': '85713000', 'researchAndDevelopment': '39256000', 'operatingExpenses': '124969000', 'investmentIncomeNet': 'None', 'netInterestIncome': '-1372000', 'interestIncome': '796000', 'interestExpense': '2168000', 'nonInterestIncome': '530196000', 'otherNonOperatingIncome': '-456000', 'depreciation': 'None', 'depreciationAndAmortization': '6285000', 'incomeBeforeTax': '92208000', 'incomeTaxExpense': '15232000', 'interestAndDebtExpense': '2168000', 'netIncomeFromContinuingOperations': '76976000', 'comprehensiveIncomeNetOfTax': '73055000', 'ebit': '94376000', 'ebitda': '100661000', 'netIncome': '76976000'}, {'fiscalDateEnding': '2022-03-31', 'reportedCurrency': 'USD', 'grossProfit': '176973000', 'totalRevenue': '441292000', 'costOfRevenue': '264319000', 'costofGoodsAndServicesSold': '264319000', 'operatingIncome': '61824000', 'sellingGeneralAndAdministrative': '79430000', 'researchAndDevelopment': '35719000', 'operatingExpenses': '115149000', 'investmentIncomeNet': 'None', 'netInterestIncome': '-2276000', 'interestIncome': '460000', 'interestExpense': '2736000', 'nonInterestIncome': '441292000', 'otherNonOperatingIncome': '-2141000', 'depreciation': 'None', 'depreciationAndAmortization': '5786000', 'incomeBeforeTax': '57407000', 'incomeTaxExpense': '5586000', 'interestAndDebtExpense': '2736000', 'netIncomeFromContinuingOperations': '51814000', 'comprehensiveIncomeNetOfTax': '46517000', 'ebit': '60143000', 'ebitda': '65929000', 'netIncome': '51821000'}, {'fiscalDateEnding': '2021-12-31', 'reportedCurrency': 'USD', 'grossProfit': '163314000', 'totalRevenue': '412719000', 'costOfRevenue': '249405000', 'costofGoodsAndServicesSold': '249405000', 'operatingIncome': '57695000', 'sellingGeneralAndAdministrative': '74030000', 'researchAndDevelopment': '31589000', 'operatingExpenses': '105619000', 'investmentIncomeNet': 'None', 'netInterestIncome': '-12275000', 'interestIncome': '414000', 'interestExpense': '12689000', 'nonInterestIncome': '412719000', 'otherNonOperatingIncome': '5236000', 'depreciation': 'None', 'depreciationAndAmortization': '2688000', 'incomeBeforeTax': '50541000', 'incomeTaxExpense': '-2050000', 'interestAndDebtExpense': '12804000', 'netIncomeFromContinuingOperations': '52591000', 'comprehensiveIncomeNetOfTax': '50723000', 'ebit': '63230000', 'ebitda': '65918000', 'netIncome': '52591000'}, {'fiscalDateEnding': '2021-09-30', 'reportedCurrency': 'USD', 'grossProfit': '140358000', 'totalRevenue': '351519000', 'costOfRevenue': '211161000', 'costofGoodsAndServicesSold': '211161000', 'operatingIncome': '37351000', 'sellingGeneralAndAdministrative': '73596000', 'researchAndDevelopment': '29411000', 'operatingExpenses': '103007000', 'investmentIncomeNet': 'None', 'netInterestIncome': '-12518000', 'interestIncome': '110000', 'interestExpense': '12628000', 'nonInterestIncome': '351519000', 'otherNonOperatingIncome': '874000', 'depreciation': 'None', 'depreciationAndAmortization': '2513000', 'incomeBeforeTax': '25709000', 'incomeTaxExpense': '3900000', 'interestAndDebtExpense': '12628000', 'netIncomeFromContinuingOperations': '21809000', 'comprehensiveIncomeNetOfTax': '19733000', 'ebit': '38337000', 'ebitda': '40850000', 'netIncome': '21809000'}, {'fiscalDateEnding': '2021-06-30', 'reportedCurrency': 'USD', 'grossProfit': '127801000', 'totalRevenue': '316057000', 'costOfRevenue': '188256000', 'costofGoodsAndServicesSold': '188256000', 'operatingIncome': '59400000', 'sellingGeneralAndAdministrative': '45693000', 'researchAndDevelopment': '22708000', 'operatingExpenses': '68401000', 'investmentIncomeNet': 'None', 'netInterestIncome': '-12408000', 'interestIncome': '98000', 'interestExpense': '12506000', 'nonInterestIncome': '316057000', 'otherNonOperatingIncome': '-633000', 'depreciation': 'None', 'depreciationAndAmortization': '2508000', 'incomeBeforeTax': '46346000', 'incomeTaxExpense': '6995000', 'interestAndDebtExpense': '12519000', 'netIncomeFromContinuingOperations': '39346000', 'comprehensiveIncomeNetOfTax': '40635000', 'ebit': '58852000', 'ebitda': '61360000', 'netIncome': '39351000'}, {'fiscalDateEnding': '2021-03-31', 'reportedCurrency': 'USD', 'grossProfit': '122949000', 'totalRevenue': '301754000', 'costOfRevenue': '178805000', 'costofGoodsAndServicesSold': '178805000', 'operatingIncome': '61386000', 'sellingGeneralAndAdministrative': '39745000', 'researchAndDevelopment': '21818000', 'operatingExpenses': '61563000', 'investmentIncomeNet': 'None', 'netInterestIncome': '-7256000', 'interestIncome': '73000', 'interestExpense': '7329000', 'nonInterestIncome': '301754000', 'otherNonOperatingIncome': '573000', 'depreciation': 'None', 'depreciationAndAmortization': '1791000', 'incomeBeforeTax': '-1666000', 'incomeTaxExpense': '-33364000', 'interestAndDebtExpense': '63698000', 'netIncomeFromContinuingOperations': '31698000', 'comprehensiveIncomeNetOfTax': '31904000', 'ebit': '5663000', 'ebitda': '7454000', 'netIncome': '31698000'}, {'fiscalDateEnding': '2020-12-31', 'reportedCurrency': 'USD', 'grossProfit': '121938000', 'totalRevenue': '264839000', 'costOfRevenue': '142901000', 'costofGoodsAndServicesSold': '142901000', 'operatingIncome': '79114000', 'sellingGeneralAndAdministrative': '27023000', 'researchAndDevelopment': '15801000', 'operatingExpenses': '42824000', 'investmentIncomeNet': 'None', 'netInterestIncome': '-5228000', 'interestIncome': '673000', 'interestExpense': '5901000', 'nonInterestIncome': '264039000', 'otherNonOperatingIncome': '-2534000', 'depreciation': 'None', 'depreciationAndAmortization': '1352000', 'incomeBeforeTax': '71352000', 'incomeTaxExpense': '-1639000', 'interestAndDebtExpense': '6701000', 'netIncomeFromContinuingOperations': '72991000', 'comprehensiveIncomeNetOfTax': '73781000', 'ebit': '77253000', 'ebitda': '78605000', 'netIncome': '72991000'}, {'fiscalDateEnding': '2020-09-30', 'reportedCurrency': 'USD', 'grossProfit': '94981000', 'totalRevenue': '178503000', 'costOfRevenue': '83522000', 'costofGoodsAndServicesSold': '83522000', 'operatingIncome': '51759000', 'sellingGeneralAndAdministrative': '28170000', 'researchAndDevelopment': '15052000', 'operatingExpenses': '43222000', 'investmentIncomeNet': 'None', 'netInterestIncome': '-5883000', 'interestIncome': '110000', 'interestExpense': '5993000', 'nonInterestIncome': '178503000', 'otherNonOperatingIncome': '-1031000', 'depreciation': 'None', 'depreciationAndAmortization': '1247000', 'incomeBeforeTax': '44845000', 'incomeTaxExpense': '5483000', 'interestAndDebtExpense': '5993000', 'netIncomeFromContinuingOperations': '39362000', 'comprehensiveIncomeNetOfTax': '40159000', 'ebit': '50838000', 'ebitda': '52085000', 'netIncome': '39362000'}, {'fiscalDateEnding': '2020-06-30', 'reportedCurrency': 'USD', 'grossProfit': '48387000', 'totalRevenue': '125538000', 'costOfRevenue': '77151000', 'costofGoodsAndServicesSold': '77151000', 'operatingIncome': '10854000', 'sellingGeneralAndAdministrative': '24341000', 'researchAndDevelopment': '13192000', 'operatingExpenses': '37533000', 'investmentIncomeNet': 'None', 'netInterestIncome': '-5670000', 'interestIncome': '282000', 'interestExpense': '5952000', 'nonInterestIncome': '65846000', 'otherNonOperatingIncome': '653000', 'depreciation': 'None', 'depreciationAndAmortization': '1246000', 'incomeBeforeTax': '-53855000', 'incomeTaxExpense': '-6561000', 'interestAndDebtExpense': '5952000', 'netIncomeFromContinuingOperations': '-47255000', 'comprehensiveIncomeNetOfTax': '-47356000', 'ebit': '-47903000', 'ebitda': '-46657000', 'netIncome': '-47294000'}, {'fiscalDateEnding': '2020-03-31', 'reportedCurrency': 'USD', 'grossProfit': '80675000', 'totalRevenue': '205545000', 'costOfRevenue': '124870000', 'costofGoodsAndServicesSold': '124870000', 'operatingIncome': '44712000', 'sellingGeneralAndAdministrative': '24087000', 'researchAndDevelopment': '11876000', 'operatingExpenses': '35963000', 'investmentIncomeNet': 'None', 'netInterestIncome': '-2064000', 'interestIncome': '1091000', 'interestExpense': '3155000', 'nonInterestIncome': '220889000', 'otherNonOperatingIncome': '-924000', 'depreciation': 'None', 'depreciationAndAmortization': '1247000', 'incomeBeforeTax': '57068000', 'incomeTaxExpense': '-11868000', 'interestAndDebtExpense': '3155000', 'netIncomeFromContinuingOperations': '68968000', 'comprehensiveIncomeNetOfTax': '68768000', 'ebit': '60223000', 'ebitda': '61470000', 'netIncome': '68936000'}, {'fiscalDateEnding': '2019-12-31', 'reportedCurrency': 'USD', 'grossProfit': '77881000', 'totalRevenue': '210032000', 'costOfRevenue': '132151000', 'costofGoodsAndServicesSold': '132151000', 'operatingIncome': '44442000', 'sellingGeneralAndAdministrative': '21140000', 'researchAndDevelopment': '11168000', 'operatingExpenses': '33439000', 'investmentIncomeNet': 'None', 'netInterestIncome': '-1488000', 'interestIncome': '815000', 'interestExpense': '2303000', 'nonInterestIncome': '210032000', 'otherNonOperatingIncome': '1467000', 'depreciation': 'None', 'depreciationAndAmortization': '1182000', 'incomeBeforeTax': '44421000', 'incomeTaxExpense': '-72245000', 'interestAndDebtExpense': '2303000', 'netIncomeFromContinuingOperations': '116666000', 'comprehensiveIncomeNetOfTax': '115174000', 'ebit': '46724000', 'ebitda': '47906000', 'netIncome': '116666000'}, {'fiscalDateEnding': '2019-09-30', 'reportedCurrency': 'USD', 'grossProfit': '64706000', 'totalRevenue': '180057000', 'costOfRevenue': '115351000', 'costofGoodsAndServicesSold': '115351000', 'operatingIncome': '33706000', 'sellingGeneralAndAdministrative': '19446000', 'researchAndDevelopment': '11085000', 'operatingExpenses': '31000000', 'investmentIncomeNet': 'None', 'netInterestIncome': '-1392000', 'interestIncome': '894000', 'interestExpense': '2286000', 'nonInterestIncome': '180057000', 'otherNonOperatingIncome': '-943000', 'depreciation': 'None', 'depreciationAndAmortization': '1182000', 'incomeBeforeTax': '31371000', 'incomeTaxExpense': '272000', 'interestAndDebtExpense': '2286000', 'netIncomeFromContinuingOperations': '31099000', 'comprehensiveIncomeNetOfTax': '31254000', 'ebit': '33657000', 'ebitda': '34839000', 'netIncome': '31099000'}, {'fiscalDateEnding': '2019-06-30', 'reportedCurrency': 'USD', 'grossProfit': '45319000', 'totalRevenue': '134094000', 'costOfRevenue': '88775000', 'costofGoodsAndServicesSold': '88775000', 'operatingIncome': '17447000', 'sellingGeneralAndAdministrative': '17637000', 'researchAndDevelopment': '9604000', 'operatingExpenses': '27872000', 'investmentIncomeNet': 'None', 'netInterestIncome': '-758000', 'interestIncome': '593000', 'interestExpense': '1351000', 'nonInterestIncome': '134094000', 'otherNonOperatingIncome': '-5480000', 'depreciation': 'None', 'depreciationAndAmortization': '1181000', 'incomeBeforeTax': '11209000', 'incomeTaxExpense': '591000', 'interestAndDebtExpense': '1351000', 'netIncomeFromContinuingOperations': '10618000', 'comprehensiveIncomeNetOfTax': '10369000', 'ebit': '12560000', 'ebitda': '13741000', 'netIncome': '10618000'}, {'fiscalDateEnding': '2019-03-31', 'reportedCurrency': 'USD', 'grossProfit': '33339000', 'totalRevenue': '100150000', 'costOfRevenue': '66811000', 'costofGoodsAndServicesSold': '66811000', 'operatingIncome': '7134000', 'sellingGeneralAndAdministrative': '17313000', 'researchAndDevelopment': '8524000', 'operatingExpenses': '26205000', 'investmentIncomeNet': 'None', 'netInterestIncome': '-3540000', 'interestIncome': '211000', 'interestExpense': '3751000', 'nonInterestIncome': '97998000', 'otherNonOperatingIncome': '-481000', 'depreciation': 'None', 'depreciationAndAmortization': '1182000', 'incomeBeforeTax': '3113000', 'incomeTaxExpense': '348000', 'interestAndDebtExpense': '5692000', 'netIncomeFromContinuingOperations': '2765000', 'comprehensiveIncomeNetOfTax': '2686000', 'ebit': '6864000', 'ebitda': '8046000', 'netIncome': '2765000'}, {'fiscalDateEnding': '2018-12-31', 'reportedCurrency': 'USD', 'grossProfit': '28165000', 'totalRevenue': '92289000', 'costOfRevenue': '64124000', 'costofGoodsAndServicesSold': '64125000', 'operatingIncome': '5003000', 'sellingGeneralAndAdministrative': '14281000', 'researchAndDevelopment': '7340000', 'operatingExpenses': '23162000', 'investmentIncomeNet': 'None', 'netInterestIncome': '-2605000', 'interestIncome': '490000', 'interestExpense': '3095000', 'nonInterestIncome': '92289000', 'otherNonOperatingIncome': '-1113000', 'depreciation': 'None', 'depreciationAndAmortization': '800000', 'incomeBeforeTax': '1285000', 'incomeTaxExpense': '576000', 'interestAndDebtExpense': '3095000', 'netIncomeFromContinuingOperations': '709000', 'comprehensiveIncomeNetOfTax': '1458000', 'ebit': '4380000', 'ebitda': '5180000', 'netIncome': '709000'}, {'fiscalDateEnding': '2018-09-30', 'reportedCurrency': 'USD', 'grossProfit': '25264000', 'totalRevenue': '78002000', 'costOfRevenue': '52738000', 'costofGoodsAndServicesSold': '52738000', 'operatingIncome': '-374000', 'sellingGeneralAndAdministrative': '14885000', 'researchAndDevelopment': '8165000', 'operatingExpenses': '25638000', 'investmentIncomeNet': 'None', 'netInterestIncome': '-2469000', 'interestIncome': '321000', 'interestExpense': '2790000', 'nonInterestIncome': '78002000', 'otherNonOperatingIncome': '-379000', 'depreciation': 'None', 'depreciationAndAmortization': '500000', 'incomeBeforeTax': '-3222000', 'incomeTaxExpense': '248000', 'interestAndDebtExpense': '2469000', 'netIncomeFromContinuingOperations': '-3470000', 'comprehensiveIncomeNetOfTax': '-3124000', 'ebit': '-432000', 'ebitda': '68000', 'netIncome': '-3470000'}, {'fiscalDateEnding': '2018-06-30', 'reportedCurrency': 'USD', 'grossProfit': '22701000', 'totalRevenue': '75896000', 'costOfRevenue': '53195000', 'costofGoodsAndServicesSold': '53195000', 'operatingIncome': '-558000', 'sellingGeneralAndAdministrative': '13797000', 'researchAndDevelopment': '9462000', 'operatingExpenses': '23259000', 'investmentIncomeNet': 'None', 'netInterestIncome': '-2269000', 'interestIncome': '154000', 'interestExpense': '2423000', 'nonInterestIncome': '75896000', 'otherNonOperatingIncome': '-572000', 'depreciation': 'None', 'depreciationAndAmortization': '76000', 'incomeBeforeTax': '-3399000', 'incomeTaxExpense': '339000', 'interestAndDebtExpense': '2269000', 'netIncomeFromContinuingOperations': '-3738000', 'comprehensiveIncomeNetOfTax': '-3723000', 'ebit': '-976000', 'ebitda': '-900000', 'netIncome': '-3738000'}, {'fiscalDateEnding': '2018-03-31', 'reportedCurrency': 'USD', 'grossProfit': '18315000', 'totalRevenue': '69972000', 'costOfRevenue': '51657000', 'costofGoodsAndServicesSold': '60685000', 'operatingIncome': '-2475000', 'sellingGeneralAndAdministrative': '13170000', 'researchAndDevelopment': '7620000', 'operatingExpenses': '20790000', 'investmentIncomeNet': 'None', 'netInterestIncome': '-2292000', 'interestIncome': '93000', 'interestExpense': '2385000', 'nonInterestIncome': '69972000', 'otherNonOperatingIncome': '-126000', 'depreciation': 'None', 'depreciationAndAmortization': '100000', 'incomeBeforeTax': '-4893000', 'incomeTaxExpense': '235000', 'interestAndDebtExpense': '2292000', 'netIncomeFromContinuingOperations': '-5128000', 'comprehensiveIncomeNetOfTax': '-4840000', 'ebit': '-2508000', 'ebitda': '-2408000', 'netIncome': '-5128000'}]}\n"
     ]
    }
   ],
   "source": [
    "#Use for Income Statements\n",
    "\n",
    "import requests\n",
    "\n",
    "# replace the \"demo\" apikey below with your own key from https://www.alphavantage.co/support/#api-key\n",
    "url = 'https://www.alphavantage.co/query?function=INCOME_STATEMENT&symbol='+stock+'&apikey=Api_Key'\n",
    "r = requests.get(url)\n",
    "data = r.json()\n",
    "\n",
    "print(data)"
   ]
  },
  {
   "cell_type": "code",
   "execution_count": 18,
   "id": "7dc3ecdd",
   "metadata": {
    "scrolled": true
   },
   "outputs": [
    {
     "name": "stdout",
     "output_type": "stream",
     "text": [
      "{'symbol': 'ENPH', 'annualReports': [{'fiscalDateEnding': '2022-12-31', 'reportedCurrency': 'USD', 'totalAssets': '3084280000', 'totalCurrentAssets': '2264271000', 'cashAndCashEquivalentsAtCarryingValue': '473244000', 'cashAndShortTermInvestments': '1612843000', 'inventory': '149708000', 'currentNetReceivables': '440896000', 'totalNonCurrentAssets': '921000000', 'propertyPlantEquipment': '111367000', 'accumulatedDepreciationAmortizationPPE': '104089000', 'intangibleAssets': '313100000', 'intangibleAssetsExcludingGoodwill': '99541000', 'goodwill': '213559000', 'investments': '2402326000', 'longTermInvestments': 'None', 'shortTermInvestments': '1139599000', 'otherCurrentAssets': '51270000', 'otherNonCurrentAssets': '169291000', 'totalLiabilities': '2258707000', 'totalCurrentLiabilities': '638219000', 'currentAccountsPayable': '125085000', 'deferredRevenue': '744720000', 'currentDebt': '90892000', 'shortTermDebt': '89654000', 'totalNonCurrentLiabilities': '1639565000', 'capitalLeaseObligations': '5371000', 'longTermDebt': '1290357000', 'currentLongTermDebt': '90892000', 'longTermDebtNoncurrent': '1199465000', 'shortLongTermDebtTotal': '1290357000', 'otherCurrentLiabilities': '288150000', 'otherNonCurrentLiabilities': '43520000', 'totalShareholderEquity': '825573000', 'treasuryStock': 'None', 'retainedEarnings': '17335000', 'commonStock': '1000', 'commonStockSharesOutstanding': '136441000'}, {'fiscalDateEnding': '2021-12-31', 'reportedCurrency': 'USD', 'totalAssets': '2079256000', 'totalCurrentAssets': '1462461000', 'cashAndCashEquivalentsAtCarryingValue': '119316000', 'cashAndShortTermInvestments': '1016651000', 'inventory': '74400000', 'currentNetReceivables': '333626000', 'totalNonCurrentAssets': '686378000', 'propertyPlantEquipment': '82167000', 'accumulatedDepreciationAmortizationPPE': '77366000', 'intangibleAssets': '279012000', 'intangibleAssetsExcludingGoodwill': '97758000', 'goodwill': '181254000', 'investments': '1430024000', 'longTermInvestments': 'None', 'shortTermInvestments': '897335000', 'otherCurrentAssets': '37784000', 'otherNonCurrentAssets': '118726000', 'totalLiabilities': '1649088000', 'totalCurrentLiabilities': '439796000', 'currentAccountsPayable': '113767000', 'deferredRevenue': '499712000', 'currentDebt': '86052000', 'shortTermDebt': '89882000', 'totalNonCurrentLiabilities': '1221212000', 'capitalLeaseObligations': '3830000', 'longTermDebt': '1037646000', 'currentLongTermDebt': '86052000', 'longTermDebtNoncurrent': '951594000', 'shortLongTermDebtTotal': '1037646000', 'otherCurrentLiabilities': '173477000', 'otherNonCurrentLiabilities': '16530000', 'totalShareholderEquity': '430168000', 'treasuryStock': 'None', 'retainedEarnings': '-405737000', 'commonStock': '1000', 'commonStockSharesOutstanding': '133894000'}, {'fiscalDateEnding': '2020-12-31', 'reportedCurrency': 'USD', 'totalAssets': '1200102000', 'totalCurrentAssets': '933064000', 'cashAndCashEquivalentsAtCarryingValue': '679379000', 'cashAndShortTermInvestments': '679379000', 'inventory': '41764000', 'currentNetReceivables': '182165000', 'totalNonCurrentAssets': '319024000', 'propertyPlantEquipment': '42985000', 'accumulatedDepreciationAmortizationPPE': '61702000', 'intangibleAssets': '53591000', 'intangibleAssetsExcludingGoodwill': '28808000', 'goodwill': '24783000', 'investments': 'None', 'longTermInvestments': 'None', 'shortTermInvestments': '0', 'otherCurrentAssets': '29756000', 'otherNonCurrentAssets': '59875000', 'totalLiabilities': '716109000', 'totalCurrentLiabilities': '534043000', 'currentAccountsPayable': '72609000', 'deferredRevenue': '346276000', 'currentDebt': '325967000', 'shortTermDebt': '330509000', 'totalNonCurrentLiabilities': '197275000', 'capitalLeaseObligations': '4542000', 'longTermDebt': '330865000', 'currentLongTermDebt': '325967000', 'longTermDebtNoncurrent': '4898000', 'shortLongTermDebtTotal': '330865000', 'otherCurrentLiabilities': '83260000', 'otherNonCurrentLiabilities': '17042000', 'totalShareholderEquity': '483993000', 'treasuryStock': 'None', 'retainedEarnings': '-51186000', 'commonStock': '1000', 'commonStockSharesOutstanding': '128962000'}, {'fiscalDateEnding': '2019-12-31', 'reportedCurrency': 'USD', 'totalAssets': '713223000', 'totalCurrentAssets': '499657000', 'cashAndCashEquivalentsAtCarryingValue': '251409000', 'cashAndShortTermInvestments': '251409000', 'inventory': '32056000', 'currentNetReceivables': '145413000', 'totalNonCurrentAssets': '255653000', 'propertyPlantEquipment': '28936000', 'accumulatedDepreciationAmortizationPPE': '52095000', 'intangibleAssets': '55362000', 'intangibleAssetsExcludingGoodwill': '30579000', 'goodwill': '24783000', 'investments': 'None', 'longTermInvestments': 'None', 'shortTermInvestments': 'None', 'otherCurrentAssets': '70779000', 'otherNonCurrentAssets': '44620000', 'totalLiabilities': '441011000', 'totalCurrentLiabilities': '199311000', 'currentAccountsPayable': '57474000', 'deferredRevenue': '363974000', 'currentDebt': '6054000', 'shortTermDebt': '6054000', 'totalNonCurrentLiabilities': '251242000', 'capitalLeaseObligations': '3170000', 'longTermDebt': '105543000', 'currentLongTermDebt': '2884000', 'longTermDebtNoncurrent': '102659000', 'shortLongTermDebtTotal': '105543000', 'otherCurrentLiabilities': '54000000', 'otherNonCurrentLiabilities': '11817000', 'totalShareholderEquity': '272212000', 'treasuryStock': 'None', 'retainedEarnings': '-185181000', 'commonStock': '1000', 'commonStockSharesOutstanding': '123109000'}, {'fiscalDateEnding': '2018-12-31', 'reportedCurrency': 'USD', 'totalAssets': '339937000', 'totalCurrentAssets': '222302000', 'cashAndCashEquivalentsAtCarryingValue': '106237000', 'cashAndShortTermInvestments': '106237000', 'inventory': '16267000', 'currentNetReceivables': '78938000', 'totalNonCurrentAssets': '151783000', 'propertyPlantEquipment': '20998000', 'accumulatedDepreciationAmortizationPPE': '51897000', 'intangibleAssets': '60089000', 'intangibleAssetsExcludingGoodwill': '35306000', 'goodwill': '24783000', 'investments': 'None', 'longTermInvestments': 'None', 'shortTermInvestments': 'None', 'otherCurrentAssets': '20860000', 'otherNonCurrentAssets': '36548000', 'totalLiabilities': '332161000', 'totalCurrentLiabilities': '147161000', 'currentAccountsPayable': '48794000', 'deferredRevenue': '220060000', 'currentDebt': '28155000', 'shortTermDebt': '28155000', 'totalNonCurrentLiabilities': '185000000', 'capitalLeaseObligations': 'None', 'longTermDebt': '109783000', 'currentLongTermDebt': '28155000', 'longTermDebtNoncurrent': '81628000', 'shortLongTermDebtTotal': '109783000', 'otherCurrentLiabilities': '37093000', 'otherNonCurrentLiabilities': '3250000', 'totalShareholderEquity': '7776000', 'treasuryStock': 'None', 'retainedEarnings': '-346302000', 'commonStock': '1000', 'commonStockSharesOutstanding': '107035000'}], 'quarterlyReports': [{'fiscalDateEnding': '2022-12-31', 'reportedCurrency': 'USD', 'totalAssets': '3084280000', 'totalCurrentAssets': '2264271000', 'cashAndCashEquivalentsAtCarryingValue': '473244000', 'cashAndShortTermInvestments': '1612843000', 'inventory': '149708000', 'currentNetReceivables': '440896000', 'totalNonCurrentAssets': '921000000', 'propertyPlantEquipment': '111367000', 'accumulatedDepreciationAmortizationPPE': '104089000', 'intangibleAssets': '313100000', 'intangibleAssetsExcludingGoodwill': '99541000', 'goodwill': '213559000', 'investments': '2402326000', 'longTermInvestments': 'None', 'shortTermInvestments': '1139599000', 'otherCurrentAssets': '60824000', 'otherNonCurrentAssets': '169291000', 'totalLiabilities': '2258707000', 'totalCurrentLiabilities': '638219000', 'currentAccountsPayable': '125085000', 'deferredRevenue': '744720000', 'currentDebt': '90892000', 'shortTermDebt': '90892000', 'totalNonCurrentLiabilities': '1639565000', 'capitalLeaseObligations': '5371000', 'longTermDebt': '1290357000', 'currentLongTermDebt': '90892000', 'longTermDebtNoncurrent': '1199465000', 'shortLongTermDebtTotal': '1290357000', 'otherCurrentLiabilities': '331495000', 'otherNonCurrentLiabilities': '43520000', 'totalShareholderEquity': '825573000', 'treasuryStock': 'None', 'retainedEarnings': '17335000', 'commonStock': '1000', 'commonStockSharesOutstanding': '136441000'}, {'fiscalDateEnding': '2022-09-30', 'reportedCurrency': 'USD', 'totalAssets': '2697835000', 'totalCurrentAssets': '1982664000', 'cashAndCashEquivalentsAtCarryingValue': '337583000', 'cashAndShortTermInvestments': '1417296000', 'inventory': '146451000', 'currentNetReceivables': '367647000', 'totalNonCurrentAssets': '802798000', 'propertyPlantEquipment': '91801000', 'accumulatedDepreciationAmortizationPPE': 'None', 'intangibleAssets': '286432000', 'intangibleAssetsExcludingGoodwill': '90924000', 'goodwill': '195508000', 'investments': '2280832000', 'longTermInvestments': 'None', 'shortTermInvestments': '1079713000', 'otherCurrentAssets': '51270000', 'otherNonCurrentAssets': '140439000', 'totalLiabilities': '2087782000', 'totalCurrentLiabilities': '550236000', 'currentAccountsPayable': '92823000', 'deferredRevenue': '639160000', 'currentDebt': '89654000', 'shortTermDebt': '93847000', 'totalNonCurrentLiabilities': '1554501000', 'capitalLeaseObligations': '4193000', 'longTermDebt': '1288281000', 'currentLongTermDebt': '89654000', 'longTermDebtNoncurrent': '1198627000', 'shortLongTermDebtTotal': '1288281000', 'otherCurrentLiabilities': '251977000', 'otherNonCurrentLiabilities': '25418000', 'totalShareholderEquity': '610053000', 'treasuryStock': 'None', 'retainedEarnings': '-136418000', 'commonStock': '1000', 'commonStockSharesOutstanding': '135857000'}, {'fiscalDateEnding': '2022-06-30', 'reportedCurrency': 'USD', 'totalAssets': '2437108000', 'totalCurrentAssets': '1735992000', 'cashAndCashEquivalentsAtCarryingValue': '495473000', 'cashAndShortTermInvestments': '1247801000', 'inventory': '130266000', 'currentNetReceivables': '312451000', 'totalNonCurrentAssets': '779255000', 'propertyPlantEquipment': '86778000', 'accumulatedDepreciationAmortizationPPE': 'None', 'intangibleAssets': '293891000', 'intangibleAssetsExcludingGoodwill': '96887000', 'goodwill': '197004000', 'investments': '1769457000', 'longTermInvestments': 'None', 'shortTermInvestments': '752328000', 'otherCurrentAssets': '45474000', 'otherNonCurrentAssets': '129153000', 'totalLiabilities': '1986109000', 'totalCurrentLiabilities': '480010000', 'currentAccountsPayable': '90398000', 'deferredRevenue': '582324000', 'currentDebt': '88429000', 'shortTermDebt': '92233000', 'totalNonCurrentLiabilities': '1522280000', 'capitalLeaseObligations': '3804000', 'longTermDebt': '1286215000', 'currentLongTermDebt': '88429000', 'longTermDebtNoncurrent': '1197786000', 'shortLongTermDebtTotal': '1286215000', 'otherCurrentLiabilities': '212360000', 'otherNonCurrentLiabilities': '23864000', 'totalShareholderEquity': '450999000', 'treasuryStock': 'None', 'retainedEarnings': '-251230000', 'commonStock': '1000', 'commonStockSharesOutstanding': '135426000'}, {'fiscalDateEnding': '2022-03-31', 'reportedCurrency': 'USD', 'totalAssets': '2263277000', 'totalCurrentAssets': '1558783000', 'cashAndCashEquivalentsAtCarryingValue': '251850000', 'cashAndShortTermInvestments': '1063471000', 'inventory': '96436000', 'currentNetReceivables': '358310000', 'totalNonCurrentAssets': '777632000', 'propertyPlantEquipment': '85073000', 'accumulatedDepreciationAmortizationPPE': 'None', 'intangibleAssets': '298810000', 'intangibleAssetsExcludingGoodwill': '103173000', 'goodwill': '195637000', 'investments': '1501209000', 'longTermInvestments': 'None', 'shortTermInvestments': '811621000', 'otherCurrentAssets': '40566000', 'otherNonCurrentAssets': '120878000', 'totalLiabilities': '1932295000', 'totalCurrentLiabilities': '453756000', 'currentAccountsPayable': '104738000', 'deferredRevenue': '542808000', 'currentDebt': '87219000', 'shortTermDebt': '90941000', 'totalNonCurrentLiabilities': '1496130000', 'capitalLeaseObligations': '3722000', 'longTermDebt': '1284169000', 'currentLongTermDebt': '87219000', 'longTermDebtNoncurrent': '1196950000', 'shortLongTermDebtTotal': '1284169000', 'otherCurrentLiabilities': '189384000', 'otherNonCurrentLiabilities': '19259000', 'totalShareholderEquity': '330982000', 'treasuryStock': 'None', 'retainedEarnings': '-328206000', 'commonStock': '1000', 'commonStockSharesOutstanding': '134959000'}, {'fiscalDateEnding': '2021-12-31', 'reportedCurrency': 'USD', 'totalAssets': '2079256000', 'totalCurrentAssets': '1462461000', 'cashAndCashEquivalentsAtCarryingValue': '119316000', 'cashAndShortTermInvestments': '1016651000', 'inventory': '74400000', 'currentNetReceivables': '333626000', 'totalNonCurrentAssets': '686378000', 'propertyPlantEquipment': '82167000', 'accumulatedDepreciationAmortizationPPE': '77366000', 'intangibleAssets': '279012000', 'intangibleAssetsExcludingGoodwill': '97758000', 'goodwill': '181254000', 'investments': '1430024000', 'longTermInvestments': 'None', 'shortTermInvestments': '897335000', 'otherCurrentAssets': '37784000', 'otherNonCurrentAssets': '118726000', 'totalLiabilities': '1649088000', 'totalCurrentLiabilities': '439796000', 'currentAccountsPayable': '113767000', 'deferredRevenue': '499712000', 'currentDebt': '86052000', 'shortTermDebt': '951594000', 'totalNonCurrentLiabilities': '1221212000', 'capitalLeaseObligations': '3830000', 'longTermDebt': '1037646000', 'currentLongTermDebt': '86052000', 'longTermDebtNoncurrent': '951594000', 'shortLongTermDebtTotal': '1037646000', 'otherCurrentLiabilities': '-688235000', 'otherNonCurrentLiabilities': '16530000', 'totalShareholderEquity': '430168000', 'treasuryStock': 'None', 'retainedEarnings': '-405737000', 'commonStock': '1000', 'commonStockSharesOutstanding': '133894000'}, {'fiscalDateEnding': '2021-09-30', 'reportedCurrency': 'USD', 'totalAssets': '2230164000', 'totalCurrentAssets': '1768081000', 'cashAndCashEquivalentsAtCarryingValue': '885546000', 'cashAndShortTermInvestments': '1394123000', 'inventory': '65405000', 'currentNetReceivables': '273012000', 'totalNonCurrentAssets': '529463000', 'propertyPlantEquipment': '73445000', 'accumulatedDepreciationAmortizationPPE': 'None', 'intangibleAssets': '104184000', 'intangibleAssetsExcludingGoodwill': '43146000', 'goodwill': '61038000', 'investments': '1161312000', 'longTermInvestments': 'None', 'shortTermInvestments': '508577000', 'otherCurrentAssets': '35541000', 'otherNonCurrentAssets': '136111000', 'totalLiabilities': '1582349000', 'totalCurrentLiabilities': '393455000', 'currentAccountsPayable': '92213000', 'deferredRevenue': '472962000', 'currentDebt': '86039000', 'shortTermDebt': '90300000', 'totalNonCurrentLiabilities': '1201386000', 'capitalLeaseObligations': '4261000', 'longTermDebt': '1026283000', 'currentLongTermDebt': '86039000', 'longTermDebtNoncurrent': '940244000', 'shortLongTermDebtTotal': '1026283000', 'otherCurrentLiabilities': '144232000', 'otherNonCurrentLiabilities': '20617000', 'totalShareholderEquity': '647815000', 'treasuryStock': 'None', 'retainedEarnings': '-158328000', 'commonStock': '1000', 'commonStockSharesOutstanding': '134848000'}, {'fiscalDateEnding': '2021-06-30', 'reportedCurrency': 'USD', 'totalAssets': '2100656000', 'totalCurrentAssets': '1665919000', 'cashAndCashEquivalentsAtCarryingValue': '1312261000', 'cashAndShortTermInvestments': '1312261000', 'inventory': '37756000', 'currentNetReceivables': '281154000', 'totalNonCurrentAssets': '498489000', 'propertyPlantEquipment': '63211000', 'accumulatedDepreciationAmortizationPPE': 'None', 'intangibleAssets': '106730000', 'intangibleAssetsExcludingGoodwill': '45409000', 'goodwill': '61321000', 'investments': 'None', 'longTermInvestments': 'None', 'shortTermInvestments': 'None', 'otherCurrentAssets': '34748000', 'otherNonCurrentAssets': '118532000', 'totalLiabilities': '1516257000', 'totalCurrentLiabilities': '356593000', 'currentAccountsPayable': '82141000', 'deferredRevenue': '441458000', 'currentDebt': '85125000', 'shortTermDebt': '89728000', 'totalNonCurrentLiabilities': '1172579000', 'capitalLeaseObligations': '4603000', 'longTermDebt': '1014140000', 'currentLongTermDebt': '85125000', 'longTermDebtNoncurrent': '929015000', 'shortLongTermDebtTotal': '1014140000', 'otherCurrentLiabilities': '129640000', 'otherNonCurrentLiabilities': '20075000', 'totalShareholderEquity': '584399000', 'treasuryStock': 'None', 'retainedEarnings': '-180137000', 'commonStock': '1000', 'commonStockSharesOutstanding': '134571000'}, {'fiscalDateEnding': '2021-03-31', 'reportedCurrency': 'USD', 'totalAssets': '2194199000', 'totalCurrentAssets': '1791362000', 'cashAndCashEquivalentsAtCarryingValue': '1489010000', 'cashAndShortTermInvestments': '1489010000', 'inventory': '34876000', 'currentNetReceivables': '236090000', 'totalNonCurrentAssets': '460237000', 'propertyPlantEquipment': '53648000', 'accumulatedDepreciationAmortizationPPE': 'None', 'intangibleAssets': '108955000', 'intangibleAssetsExcludingGoodwill': '47917000', 'goodwill': '61038000', 'investments': 'None', 'longTermInvestments': 'None', 'shortTermInvestments': 'None', 'otherCurrentAssets': '31386000', 'otherNonCurrentAssets': '91315000', 'totalLiabilities': '1461358000', 'totalCurrentLiabilities': '344473000', 'currentAccountsPayable': '81524000', 'deferredRevenue': '384206000', 'currentDebt': '84356000', 'shortTermDebt': '89128000', 'totalNonCurrentLiabilities': '1130784000', 'capitalLeaseObligations': '4772000', 'longTermDebt': '1002229000', 'currentLongTermDebt': '84356000', 'longTermDebtNoncurrent': '917873000', 'shortLongTermDebtTotal': '1002229000', 'otherCurrentLiabilities': '124703000', 'otherNonCurrentLiabilities': '15777000', 'totalShareholderEquity': '732841000', 'treasuryStock': 'None', 'retainedEarnings': '-19488000', 'commonStock': '1000', 'commonStockSharesOutstanding': '135691000'}, {'fiscalDateEnding': '2020-12-31', 'reportedCurrency': 'USD', 'totalAssets': '1200102000', 'totalCurrentAssets': '933064000', 'cashAndCashEquivalentsAtCarryingValue': '679379000', 'cashAndShortTermInvestments': '679379000', 'inventory': '41764000', 'currentNetReceivables': '182165000', 'totalNonCurrentAssets': '319024000', 'propertyPlantEquipment': '42985000', 'accumulatedDepreciationAmortizationPPE': '61702000', 'intangibleAssets': '53591000', 'intangibleAssetsExcludingGoodwill': '28808000', 'goodwill': '24783000', 'investments': 'None', 'longTermInvestments': 'None', 'shortTermInvestments': '0', 'otherCurrentAssets': '29756000', 'otherNonCurrentAssets': '59875000', 'totalLiabilities': '716109000', 'totalCurrentLiabilities': '534043000', 'currentAccountsPayable': '72609000', 'deferredRevenue': '346276000', 'currentDebt': '325967000', 'shortTermDebt': '330509000', 'totalNonCurrentLiabilities': '197275000', 'capitalLeaseObligations': '4542000', 'longTermDebt': '330865000', 'currentLongTermDebt': '325967000', 'longTermDebtNoncurrent': '4898000', 'shortLongTermDebtTotal': '330865000', 'otherCurrentLiabilities': '83260000', 'otherNonCurrentLiabilities': '17042000', 'totalShareholderEquity': '483993000', 'treasuryStock': 'None', 'retainedEarnings': '-51186000', 'commonStock': '1000', 'commonStockSharesOutstanding': '128962000'}, {'fiscalDateEnding': '2020-09-30', 'reportedCurrency': 'USD', 'totalAssets': '1092340000', 'totalCurrentAssets': '850234000', 'cashAndCashEquivalentsAtCarryingValue': '661792000', 'cashAndShortTermInvestments': '661792000', 'inventory': '37535000', 'currentNetReceivables': '122386000', 'totalNonCurrentAssets': '290898000', 'propertyPlantEquipment': '35187000', 'accumulatedDepreciationAmortizationPPE': 'None', 'intangibleAssets': '51622000', 'intangibleAssetsExcludingGoodwill': '26839000', 'goodwill': '24783000', 'investments': 'None', 'longTermInvestments': 'None', 'shortTermInvestments': 'None', 'otherCurrentAssets': '28521000', 'otherNonCurrentAssets': '51998000', 'totalLiabilities': '676134000', 'totalCurrentLiabilities': '256519000', 'currentAccountsPayable': '48148000', 'deferredRevenue': '314990000', 'currentDebt': '103670000', 'shortTermDebt': '107915000', 'totalNonCurrentLiabilities': '432032000', 'capitalLeaseObligations': '4245000', 'longTermDebt': '360122000', 'currentLongTermDebt': '103670000', 'longTermDebtNoncurrent': '256452000', 'shortLongTermDebtTotal': '360122000', 'otherCurrentLiabilities': '58718000', 'otherNonCurrentLiabilities': '14387000', 'totalShareholderEquity': '416206000', 'treasuryStock': 'None', 'retainedEarnings': '-124177000', 'commonStock': '1000', 'commonStockSharesOutstanding': '126270000'}, {'fiscalDateEnding': '2020-06-30', 'reportedCurrency': 'USD', 'totalAssets': '997927000', 'totalCurrentAssets': '757201000', 'cashAndCashEquivalentsAtCarryingValue': '607254000', 'cashAndShortTermInvestments': '607254000', 'inventory': '31186000', 'currentNetReceivables': '89504000', 'totalNonCurrentAssets': '287686000', 'propertyPlantEquipment': '32972000', 'accumulatedDepreciationAmortizationPPE': 'None', 'intangibleAssets': '52869000', 'intangibleAssetsExcludingGoodwill': '28086000', 'goodwill': '24783000', 'investments': 'None', 'longTermInvestments': 'None', 'shortTermInvestments': 'None', 'otherCurrentAssets': '29257000', 'otherNonCurrentAssets': '49551000', 'totalLiabilities': '627751000', 'totalCurrentLiabilities': '223523000', 'currentAccountsPayable': '24135000', 'deferredRevenue': '302466000', 'currentDebt': '102271000', 'shortTermDebt': '105841000', 'totalNonCurrentLiabilities': '414430000', 'capitalLeaseObligations': '3570000', 'longTermDebt': '355445000', 'currentLongTermDebt': '102271000', 'longTermDebtNoncurrent': '253174000', 'shortLongTermDebtTotal': '355445000', 'otherCurrentLiabilities': '53291000', 'otherNonCurrentLiabilities': '12340000', 'totalShareholderEquity': '370176000', 'treasuryStock': 'None', 'retainedEarnings': '-163539000', 'commonStock': '1000', 'commonStockSharesOutstanding': '125979000'}, {'fiscalDateEnding': '2020-03-31', 'reportedCurrency': 'USD', 'totalAssets': '1030787000', 'totalCurrentAssets': '751697000', 'cashAndCashEquivalentsAtCarryingValue': '549144000', 'cashAndShortTermInvestments': '549144000', 'inventory': '34617000', 'currentNetReceivables': '95484000', 'totalNonCurrentAssets': '324451000', 'propertyPlantEquipment': '30500000', 'accumulatedDepreciationAmortizationPPE': 'None', 'intangibleAssets': '54115000', 'intangibleAssetsExcludingGoodwill': '29332000', 'goodwill': '24783000', 'investments': 'None', 'longTermInvestments': '47885000', 'shortTermInvestments': 'None', 'otherCurrentAssets': '72452000', 'otherNonCurrentAssets': '47798000', 'totalLiabilities': '714580000', 'totalCurrentLiabilities': '233622000', 'currentAccountsPayable': '34538000', 'deferredRevenue': '290454000', 'currentDebt': '104078000', 'shortTermDebt': '104078000', 'totalNonCurrentLiabilities': '453293000', 'capitalLeaseObligations': '3511000', 'longTermDebt': '395783000', 'currentLongTermDebt': '100567000', 'longTermDebtNoncurrent': '295216000', 'shortLongTermDebtTotal': '395783000', 'otherCurrentLiabilities': '55984000', 'otherNonCurrentLiabilities': '13077000', 'totalShareholderEquity': '316207000', 'treasuryStock': 'None', 'retainedEarnings': '-116245000', 'commonStock': '1000', 'commonStockSharesOutstanding': '125072000'}, {'fiscalDateEnding': '2019-12-31', 'reportedCurrency': 'USD', 'totalAssets': '713223000', 'totalCurrentAssets': '499657000', 'cashAndCashEquivalentsAtCarryingValue': '251409000', 'cashAndShortTermInvestments': '251409000', 'inventory': '32056000', 'currentNetReceivables': '145413000', 'totalNonCurrentAssets': '255653000', 'propertyPlantEquipment': '28936000', 'accumulatedDepreciationAmortizationPPE': '52095000', 'intangibleAssets': '55362000', 'intangibleAssetsExcludingGoodwill': '30579000', 'goodwill': '24783000', 'investments': 'None', 'longTermInvestments': 'None', 'shortTermInvestments': 'None', 'otherCurrentAssets': '70779000', 'otherNonCurrentAssets': '44620000', 'totalLiabilities': '441011000', 'totalCurrentLiabilities': '199311000', 'currentAccountsPayable': '57474000', 'deferredRevenue': '363974000', 'currentDebt': '6054000', 'shortTermDebt': '6054000', 'totalNonCurrentLiabilities': '251242000', 'capitalLeaseObligations': '3170000', 'longTermDebt': '105543000', 'currentLongTermDebt': '2884000', 'longTermDebtNoncurrent': '102659000', 'shortLongTermDebtTotal': '105543000', 'otherCurrentLiabilities': '54000000', 'otherNonCurrentLiabilities': '11817000', 'totalShareholderEquity': '272212000', 'treasuryStock': 'None', 'retainedEarnings': '-185181000', 'commonStock': '1000', 'commonStockSharesOutstanding': '123109000'}, {'fiscalDateEnding': '2019-09-30', 'reportedCurrency': 'USD', 'totalAssets': '523669000', 'totalCurrentAssets': '391517000', 'cashAndCashEquivalentsAtCarryingValue': '203046000', 'cashAndShortTermInvestments': '203046000', 'inventory': '30231000', 'currentNetReceivables': '133689000', 'totalNonCurrentAssets': '169363000', 'propertyPlantEquipment': '23532000', 'accumulatedDepreciationAmortizationPPE': 'None', 'intangibleAssets': '56544000', 'intangibleAssetsExcludingGoodwill': '31761000', 'goodwill': '24783000', 'investments': 'None', 'longTermInvestments': 'None', 'shortTermInvestments': 'None', 'otherCurrentAssets': '24551000', 'otherNonCurrentAssets': '40669000', 'totalLiabilities': '371380000', 'totalCurrentLiabilities': '146819000', 'currentAccountsPayable': '60692000', 'deferredRevenue': '240082000', 'currentDebt': '6151000', 'shortTermDebt': '6151000', 'totalNonCurrentLiabilities': '234829000', 'capitalLeaseObligations': '3067000', 'longTermDebt': '104062000', 'currentLongTermDebt': '3084000', 'longTermDebtNoncurrent': '100978000', 'shortLongTermDebtTotal': '104062000', 'otherCurrentLiabilities': '45681000', 'otherNonCurrentLiabilities': '11970000', 'totalShareholderEquity': '152289000', 'treasuryStock': 'None', 'retainedEarnings': '-301847000', 'commonStock': '1000', 'commonStockSharesOutstanding': '122306000'}, {'fiscalDateEnding': '2019-06-30', 'reportedCurrency': 'USD', 'totalAssets': '481518000', 'totalCurrentAssets': '349851000', 'cashAndCashEquivalentsAtCarryingValue': '205959000', 'cashAndShortTermInvestments': '205959000', 'inventory': '20094000', 'currentNetReceivables': '97537000', 'totalNonCurrentAssets': '168085000', 'propertyPlantEquipment': '21532000', 'accumulatedDepreciationAmortizationPPE': 'None', 'intangibleAssets': '57726000', 'intangibleAssetsExcludingGoodwill': '32943000', 'goodwill': '24783000', 'investments': 'None', 'longTermInvestments': 'None', 'shortTermInvestments': 'None', 'otherCurrentAssets': '26261000', 'otherNonCurrentAssets': '40105000', 'totalLiabilities': '364247000', 'totalCurrentLiabilities': '143613000', 'currentAccountsPayable': '65989000', 'deferredRevenue': '231730000', 'currentDebt': '6050000', 'shortTermDebt': '3043000', 'totalNonCurrentLiabilities': '231939000', 'capitalLeaseObligations': 'None', 'longTermDebt': '102933000', 'currentLongTermDebt': '3043000', 'longTermDebtNoncurrent': '99890000', 'shortLongTermDebtTotal': '102933000', 'otherCurrentLiabilities': '41004000', 'otherNonCurrentLiabilities': '12930000', 'totalShareholderEquity': '117271000', 'treasuryStock': 'None', 'retainedEarnings': '-332946000', 'commonStock': '1000', 'commonStockSharesOutstanding': '121950000'}, {'fiscalDateEnding': '2019-03-31', 'reportedCurrency': 'USD', 'totalAssets': '319252000', 'totalCurrentAssets': '195442000', 'cashAndCashEquivalentsAtCarryingValue': '78087000', 'cashAndShortTermInvestments': '78087000', 'inventory': '12971000', 'currentNetReceivables': '81715000', 'totalNonCurrentAssets': '150530000', 'propertyPlantEquipment': '20178000', 'accumulatedDepreciationAmortizationPPE': 'None', 'intangibleAssets': '58907000', 'intangibleAssetsExcludingGoodwill': '34124000', 'goodwill': '24783000', 'investments': 'None', 'longTermInvestments': 'None', 'shortTermInvestments': 'None', 'otherCurrentAssets': '22669000', 'otherNonCurrentAssets': '36762000', 'totalLiabilities': '305128000', 'totalCurrentLiabilities': '128746000', 'currentAccountsPayable': '52489000', 'deferredRevenue': 'None', 'currentDebt': '2985000', 'shortTermDebt': '2985000', 'totalNonCurrentLiabilities': '176382000', 'capitalLeaseObligations': 'None', 'longTermDebt': '68391000', 'currentLongTermDebt': '2985000', 'longTermDebtNoncurrent': '65406000', 'shortLongTermDebtTotal': '68391000', 'otherCurrentLiabilities': '40356000', 'otherNonCurrentLiabilities': '9466000', 'totalShareholderEquity': '14124000', 'treasuryStock': 'None', 'retainedEarnings': '-343563000', 'commonStock': '1000', 'commonStockSharesOutstanding': '110211000'}, {'fiscalDateEnding': '2018-12-31', 'reportedCurrency': 'USD', 'totalAssets': '339937000', 'totalCurrentAssets': '222302000', 'cashAndCashEquivalentsAtCarryingValue': '106237000', 'cashAndShortTermInvestments': '106237000', 'inventory': '16267000', 'currentNetReceivables': '78938000', 'totalNonCurrentAssets': '151783000', 'propertyPlantEquipment': '20998000', 'accumulatedDepreciationAmortizationPPE': '51897000', 'intangibleAssets': '60089000', 'intangibleAssetsExcludingGoodwill': '35306000', 'goodwill': '24783000', 'investments': 'None', 'longTermInvestments': 'None', 'shortTermInvestments': 'None', 'otherCurrentAssets': '20860000', 'otherNonCurrentAssets': '36548000', 'totalLiabilities': '332161000', 'totalCurrentLiabilities': '147161000', 'currentAccountsPayable': '48794000', 'deferredRevenue': '220060000', 'currentDebt': '28155000', 'shortTermDebt': '28155000', 'totalNonCurrentLiabilities': '185000000', 'capitalLeaseObligations': 'None', 'longTermDebt': '109783000', 'currentLongTermDebt': '28155000', 'longTermDebtNoncurrent': '81628000', 'shortLongTermDebtTotal': '109783000', 'otherCurrentLiabilities': '37093000', 'otherNonCurrentLiabilities': '3250000', 'totalShareholderEquity': '7776000', 'treasuryStock': 'None', 'retainedEarnings': '-346302000', 'commonStock': '1000', 'commonStockSharesOutstanding': '107035000'}, {'fiscalDateEnding': '2018-09-30', 'reportedCurrency': 'USD', 'totalAssets': '326510000', 'totalCurrentAssets': '209798000', 'cashAndCashEquivalentsAtCarryingValue': '116164000', 'cashAndShortTermInvestments': '116164000', 'inventory': '17886000', 'currentNetReceivables': '54117000', 'totalNonCurrentAssets': '149679000', 'propertyPlantEquipment': '20331000', 'accumulatedDepreciationAmortizationPPE': 'None', 'intangibleAssets': '60861000', 'intangibleAssetsExcludingGoodwill': '36078000', 'goodwill': '24783000', 'investments': 'None', 'longTermInvestments': 'None', 'shortTermInvestments': 'None', 'otherCurrentAssets': '21631000', 'otherNonCurrentAssets': '35520000', 'totalLiabilities': '322354000', 'totalCurrentLiabilities': '134922000', 'currentAccountsPayable': '28103000', 'deferredRevenue': 'None', 'currentDebt': '24125000', 'shortTermDebt': '24125000', 'totalNonCurrentLiabilities': '187432000', 'capitalLeaseObligations': 'None', 'longTermDebt': '112032000', 'currentLongTermDebt': '24125000', 'longTermDebtNoncurrent': '87907000', 'shortLongTermDebtTotal': '112032000', 'otherCurrentLiabilities': '50679000', 'otherNonCurrentLiabilities': '2393000', 'totalShareholderEquity': '4156000', 'treasuryStock': 'None', 'retainedEarnings': '-347011000', 'commonStock': '1000', 'commonStockSharesOutstanding': '106322000'}, {'fiscalDateEnding': '2018-06-30', 'reportedCurrency': 'USD', 'totalAssets': '218536000', 'totalCurrentAssets': '155379000', 'cashAndCashEquivalentsAtCarryingValue': '58471000', 'cashAndShortTermInvestments': '58471000', 'inventory': '17471000', 'currentNetReceivables': '58696000', 'totalNonCurrentAssets': '96291000', 'propertyPlantEquipment': '23100000', 'accumulatedDepreciationAmortizationPPE': 'None', 'intangibleAssets': '4027000', 'intangibleAssetsExcludingGoodwill': '363000', 'goodwill': '3664000', 'investments': 'None', 'longTermInvestments': 'None', 'shortTermInvestments': 'None', 'otherCurrentAssets': '20741000', 'otherNonCurrentAssets': '36030000', 'totalLiabilities': '248651000', 'totalCurrentLiabilities': '114648000', 'currentAccountsPayable': '21895000', 'deferredRevenue': 'None', 'currentDebt': '18429000', 'shortTermDebt': '18429000', 'totalNonCurrentLiabilities': '134003000', 'capitalLeaseObligations': 'None', 'longTermDebt': '51988000', 'currentLongTermDebt': '18429000', 'longTermDebtNoncurrent': '33559000', 'shortLongTermDebtTotal': '51988000', 'otherCurrentLiabilities': '39370000', 'otherNonCurrentLiabilities': '1970000', 'totalShareholderEquity': '-30115000', 'treasuryStock': 'None', 'retainedEarnings': '-343541000', 'commonStock': '1000', 'commonStockSharesOutstanding': '98082000'}, {'fiscalDateEnding': '2018-03-31', 'reportedCurrency': 'USD', 'totalAssets': '212118000', 'totalCurrentAssets': '147853000', 'cashAndCashEquivalentsAtCarryingValue': '53255000', 'cashAndShortTermInvestments': '53255000', 'inventory': '18541000', 'currentNetReceivables': '55622000', 'totalNonCurrentAssets': '64265000', 'propertyPlantEquipment': '24926000', 'accumulatedDepreciationAmortizationPPE': 'None', 'intangibleAssets': '4103000', 'intangibleAssetsExcludingGoodwill': '439000', 'goodwill': '3664000', 'investments': 'None', 'longTermInvestments': 'None', 'shortTermInvestments': 'None', 'otherCurrentAssets': '9957000', 'otherNonCurrentAssets': '35236000', 'totalLiabilities': '243269000', 'totalCurrentLiabilities': '103685000', 'currentAccountsPayable': '14087000', 'deferredRevenue': 'None', 'currentDebt': '14268000', 'shortTermDebt': '17429000', 'totalNonCurrentLiabilities': '61319000', 'capitalLeaseObligations': 'None', 'longTermDebt': '50727000', 'currentLongTermDebt': '14268000', 'longTermDebtNoncurrent': '36459000', 'shortLongTermDebtTotal': '50727000', 'otherCurrentLiabilities': '29874000', 'otherNonCurrentLiabilities': '1934000', 'totalShareholderEquity': '-31151000', 'treasuryStock': 'None', 'retainedEarnings': '-295727000', 'commonStock': '1000', 'commonStockSharesOutstanding': '96765000'}]}\n"
     ]
    }
   ],
   "source": [
    "#Use for Balance Sheets\n",
    "# replace the \"demo\" apikey below with your own key from https://www.alphavantage.co/support/#api-key\n",
    "url_balance = 'https://www.alphavantage.co/query?function=BALANCE_SHEET&symbol='+stock+'&apikey=Api'\n",
    "r_balance = requests.get(url_balance)\n",
    "balance = r_balance.json()\n",
    "\n",
    "print(balance)"
   ]
  },
  {
   "cell_type": "code",
   "execution_count": 19,
   "id": "7feec706",
   "metadata": {},
   "outputs": [
    {
     "name": "stdout",
     "output_type": "stream",
     "text": [
      "{'symbol': 'ENPH', 'annualReports': [{'fiscalDateEnding': '2022-12-31', 'reportedCurrency': 'USD', 'operatingCashflow': '744817000', 'paymentsForOperatingActivities': '39314000', 'proceedsFromOperatingActivities': 'None', 'changeInOperatingLiabilities': '255605000', 'changeInOperatingAssets': '251252000', 'depreciationDepletionAndAmortization': '58775000', 'capitalExpenditures': '46443000', 'changeInReceivables': '107556000', 'changeInInventory': '75273000', 'profitLoss': '397362000', 'cashflowFromInvestment': '-371906000', 'cashflowFromFinancing': '-17126000', 'proceedsFromRepaymentsOfShortTermDebt': 'None', 'paymentsForRepurchaseOfCommonStock': '0', 'paymentsForRepurchaseOfEquity': '0', 'paymentsForRepurchaseOfPreferredStock': 'None', 'dividendPayout': 'None', 'dividendPayoutCommonStock': 'None', 'dividendPayoutPreferredStock': 'None', 'proceedsFromIssuanceOfCommonStock': 'None', 'proceedsFromIssuanceOfLongTermDebtAndCapitalSecuritiesNet': 'None', 'proceedsFromIssuanceOfPreferredStock': '0', 'proceedsFromRepurchaseOfEquity': '10370000', 'proceedsFromSaleOfTreasuryStock': 'None', 'changeInCashAndCashEquivalents': '355785000', 'changeInExchangeRate': 'None', 'netIncome': '397362000'}, {'fiscalDateEnding': '2021-12-31', 'reportedCurrency': 'USD', 'operatingCashflow': '352028000', 'paymentsForOperatingActivities': '11411000', 'proceedsFromOperatingActivities': 'None', 'changeInOperatingLiabilities': '195350000', 'changeInOperatingAssets': '207303000', 'depreciationDepletionAndAmortization': '30846000', 'capitalExpenditures': '52508000', 'changeInReceivables': '151160000', 'changeInInventory': '29258000', 'profitLoss': '145449000', 'cashflowFromInvestment': '-1219547000', 'cashflowFromFinancing': '309411000', 'proceedsFromRepaymentsOfShortTermDebt': 'None', 'paymentsForRepurchaseOfCommonStock': '500000000', 'paymentsForRepurchaseOfEquity': '500000000', 'paymentsForRepurchaseOfPreferredStock': 'None', 'dividendPayout': 'None', 'dividendPayoutCommonStock': 'None', 'dividendPayoutPreferredStock': 'None', 'proceedsFromIssuanceOfCommonStock': 'None', 'proceedsFromIssuanceOfLongTermDebtAndCapitalSecuritiesNet': 'None', 'proceedsFromIssuanceOfPreferredStock': '220800000', 'proceedsFromRepurchaseOfEquity': '-271716000', 'proceedsFromSaleOfTreasuryStock': 'None', 'changeInCashAndCashEquivalents': '-558108000', 'changeInExchangeRate': 'None', 'netIncome': '145449000'}, {'fiscalDateEnding': '2020-12-31', 'reportedCurrency': 'USD', 'operatingCashflow': '216334000', 'paymentsForOperatingActivities': '10089000', 'proceedsFromOperatingActivities': 'None', 'changeInOperatingLiabilities': '25197000', 'changeInOperatingAssets': '75782000', 'depreciationDepletionAndAmortization': '18103000', 'capitalExpenditures': '20558000', 'changeInReceivables': '34321000', 'changeInInventory': '9708000', 'profitLoss': '133995000', 'cashflowFromInvestment': '-25568000', 'cashflowFromFinancing': '191678000', 'proceedsFromRepaymentsOfShortTermDebt': 'None', 'paymentsForRepurchaseOfCommonStock': '0', 'paymentsForRepurchaseOfEquity': '0', 'paymentsForRepurchaseOfPreferredStock': 'None', 'dividendPayout': 'None', 'dividendPayoutCommonStock': 'None', 'dividendPayoutPreferredStock': 'None', 'proceedsFromIssuanceOfCommonStock': '0', 'proceedsFromIssuanceOfLongTermDebtAndCapitalSecuritiesNet': '0', 'proceedsFromIssuanceOfPreferredStock': '71552000', 'proceedsFromRepurchaseOfEquity': '79947000', 'proceedsFromSaleOfTreasuryStock': 'None', 'changeInCashAndCashEquivalents': '382444000', 'changeInExchangeRate': 'None', 'netIncome': '133995000'}, {'fiscalDateEnding': '2019-12-31', 'reportedCurrency': 'USD', 'operatingCashflow': '139067000', 'paymentsForOperatingActivities': '8080000', 'proceedsFromOperatingActivities': 'None', 'changeInOperatingLiabilities': '94448000', 'changeInOperatingAssets': '172202000', 'depreciationDepletionAndAmortization': '14119000', 'capitalExpenditures': '14788000', 'changeInReceivables': '68745000', 'changeInInventory': '15789000', 'profitLoss': '161148000', 'cashflowFromInvestment': '-14788000', 'cashflowFromFinancing': '65850000', 'proceedsFromRepaymentsOfShortTermDebt': 'None', 'paymentsForRepurchaseOfCommonStock': '0', 'paymentsForRepurchaseOfEquity': '0', 'paymentsForRepurchaseOfPreferredStock': 'None', 'dividendPayout': 'None', 'dividendPayoutCommonStock': 'None', 'dividendPayoutPreferredStock': 'None', 'proceedsFromIssuanceOfCommonStock': '0', 'proceedsFromIssuanceOfLongTermDebtAndCapitalSecuritiesNet': '0', 'proceedsFromIssuanceOfPreferredStock': '29818000', 'proceedsFromRepurchaseOfEquity': '34803000', 'proceedsFromSaleOfTreasuryStock': 'None', 'changeInCashAndCashEquivalents': '190129000', 'changeInExchangeRate': 'None', 'netIncome': '161148000'}, {'fiscalDateEnding': '2018-12-31', 'reportedCurrency': 'USD', 'operatingCashflow': '16132000', 'paymentsForOperatingActivities': '7118000', 'proceedsFromOperatingActivities': 'None', 'changeInOperatingLiabilities': '16959000', 'changeInOperatingAssets': '16790000', 'depreciationDepletionAndAmortization': '9667000', 'capitalExpenditures': '4151000', 'changeInReceivables': '13515000', 'changeInInventory': '-9732000', 'profitLoss': '-11627000', 'cashflowFromInvestment': '-19151000', 'cashflowFromFinancing': '80614000', 'proceedsFromRepaymentsOfShortTermDebt': 'None', 'paymentsForRepurchaseOfCommonStock': 'None', 'paymentsForRepurchaseOfEquity': 'None', 'paymentsForRepurchaseOfPreferredStock': 'None', 'dividendPayout': 'None', 'dividendPayoutCommonStock': 'None', 'dividendPayoutPreferredStock': 'None', 'proceedsFromIssuanceOfCommonStock': '19766000', 'proceedsFromIssuanceOfLongTermDebtAndCapitalSecuritiesNet': '68024000', 'proceedsFromIssuanceOfPreferredStock': '0', 'proceedsFromRepurchaseOfEquity': '22566000', 'proceedsFromSaleOfTreasuryStock': 'None', 'changeInCashAndCashEquivalents': '77093000', 'changeInExchangeRate': '-502000', 'netIncome': '-11627000'}], 'quarterlyReports': [{'fiscalDateEnding': '2022-12-31', 'reportedCurrency': 'USD', 'operatingCashflow': '253714000', 'paymentsForOperatingActivities': '35206000', 'proceedsFromOperatingActivities': 'None', 'changeInOperatingLiabilities': '149459000', 'changeInOperatingAssets': '139695000', 'depreciationDepletionAndAmortization': '16009000', 'capitalExpenditures': '16429000', 'changeInReceivables': '88876000', 'changeInInventory': '3222000', 'profitLoss': '153792000', 'cashflowFromInvestment': '-118131000', 'cashflowFromFinancing': '-3010000', 'proceedsFromRepaymentsOfShortTermDebt': '0', 'paymentsForRepurchaseOfCommonStock': '0', 'paymentsForRepurchaseOfEquity': '0', 'paymentsForRepurchaseOfPreferredStock': 'None', 'dividendPayout': 'None', 'dividendPayoutCommonStock': 'None', 'dividendPayoutPreferredStock': 'None', 'proceedsFromIssuanceOfCommonStock': '0', 'proceedsFromIssuanceOfLongTermDebtAndCapitalSecuritiesNet': '0', 'proceedsFromIssuanceOfPreferredStock': '0', 'proceedsFromRepurchaseOfEquity': '5090000', 'proceedsFromSaleOfTreasuryStock': 'None', 'changeInCashAndCashEquivalents': '132573000', 'changeInExchangeRate': 'None', 'netIncome': '153753000'}, {'fiscalDateEnding': '2022-09-30', 'reportedCurrency': 'USD', 'operatingCashflow': '188010000', 'paymentsForOperatingActivities': '1265000', 'proceedsFromOperatingActivities': 'None', 'changeInOperatingLiabilities': '57824000', 'changeInOperatingAssets': '61885000', 'depreciationDepletionAndAmortization': '11961000', 'capitalExpenditures': '8948000', 'changeInReceivables': '46226000', 'changeInInventory': '16185000', 'profitLoss': '114855000', 'cashflowFromInvestment': '-338001000', 'cashflowFromFinancing': '-3896000', 'proceedsFromRepaymentsOfShortTermDebt': '0', 'paymentsForRepurchaseOfCommonStock': '0', 'paymentsForRepurchaseOfEquity': '0', 'paymentsForRepurchaseOfPreferredStock': 'None', 'dividendPayout': 'None', 'dividendPayoutCommonStock': 'None', 'dividendPayoutPreferredStock': 'None', 'proceedsFromIssuanceOfCommonStock': '0', 'proceedsFromIssuanceOfLongTermDebtAndCapitalSecuritiesNet': '0', 'proceedsFromIssuanceOfPreferredStock': '0', 'proceedsFromRepurchaseOfEquity': '693000', 'proceedsFromSaleOfTreasuryStock': 'None', 'changeInCashAndCashEquivalents': '-153887000', 'changeInExchangeRate': 'None', 'netIncome': '114812000'}, {'fiscalDateEnding': '2022-06-30', 'reportedCurrency': 'USD', 'operatingCashflow': '200650000', 'paymentsForOperatingActivities': '1325000', 'proceedsFromOperatingActivities': 'None', 'changeInOperatingLiabilities': '28066000', 'changeInOperatingAssets': '370000', 'depreciationDepletionAndAmortization': '15247000', 'capitalExpenditures': '8691000', 'changeInReceivables': '-51770000', 'changeInInventory': '33830000', 'profitLoss': '76976000', 'cashflowFromInvestment': '44491000', 'cashflowFromFinancing': '-1280000', 'proceedsFromRepaymentsOfShortTermDebt': '0', 'paymentsForRepurchaseOfCommonStock': '0', 'paymentsForRepurchaseOfEquity': '0', 'paymentsForRepurchaseOfPreferredStock': 'None', 'dividendPayout': 'None', 'dividendPayoutCommonStock': 'None', 'dividendPayoutPreferredStock': 'None', 'proceedsFromIssuanceOfCommonStock': '0', 'proceedsFromIssuanceOfLongTermDebtAndCapitalSecuritiesNet': '0', 'proceedsFromIssuanceOfPreferredStock': '0', 'proceedsFromRepurchaseOfEquity': '4183000', 'proceedsFromSaleOfTreasuryStock': 'None', 'changeInCashAndCashEquivalents': '243861000', 'changeInExchangeRate': 'None', 'netIncome': '76976000'}, {'fiscalDateEnding': '2022-03-31', 'reportedCurrency': 'USD', 'operatingCashflow': '102443000', 'paymentsForOperatingActivities': '1518000', 'proceedsFromOperatingActivities': 'None', 'changeInOperatingLiabilities': '20256000', 'changeInOperatingAssets': '49302000', 'depreciationDepletionAndAmortization': '15558000', 'capitalExpenditures': '12375000', 'changeInReceivables': '24224000', 'changeInInventory': '22036000', 'profitLoss': '51814000', 'cashflowFromInvestment': '39735000', 'cashflowFromFinancing': '-8940000', 'proceedsFromRepaymentsOfShortTermDebt': '0', 'paymentsForRepurchaseOfCommonStock': '0', 'paymentsForRepurchaseOfEquity': '0', 'paymentsForRepurchaseOfPreferredStock': 'None', 'dividendPayout': 'None', 'dividendPayoutCommonStock': 'None', 'dividendPayoutPreferredStock': 'None', 'proceedsFromIssuanceOfCommonStock': '0', 'proceedsFromIssuanceOfLongTermDebtAndCapitalSecuritiesNet': '0', 'proceedsFromIssuanceOfPreferredStock': '0', 'proceedsFromRepurchaseOfEquity': '404000', 'proceedsFromSaleOfTreasuryStock': 'None', 'changeInCashAndCashEquivalents': '133238000', 'changeInExchangeRate': 'None', 'netIncome': '51821000'}, {'fiscalDateEnding': '2021-12-31', 'reportedCurrency': 'USD', 'operatingCashflow': '97173000', 'paymentsForOperatingActivities': '7096000', 'proceedsFromOperatingActivities': 'None', 'changeInOperatingLiabilities': '59255000', 'changeInOperatingAssets': '71832000', 'depreciationDepletionAndAmortization': '9437000', 'capitalExpenditures': '13208000', 'changeInReceivables': '58091000', 'changeInInventory': '5618000', 'profitLoss': '52591000', 'cashflowFromInvestment': '-556518000', 'cashflowFromFinancing': '-306232000', 'proceedsFromRepaymentsOfShortTermDebt': '0', 'paymentsForRepurchaseOfCommonStock': '300000000', 'paymentsForRepurchaseOfEquity': '300000000', 'paymentsForRepurchaseOfPreferredStock': 'None', 'dividendPayout': 'None', 'dividendPayoutCommonStock': 'None', 'dividendPayoutPreferredStock': 'None', 'proceedsFromIssuanceOfCommonStock': '0', 'proceedsFromIssuanceOfLongTermDebtAndCapitalSecuritiesNet': '0', 'proceedsFromIssuanceOfPreferredStock': '0', 'proceedsFromRepurchaseOfEquity': '-296200000', 'proceedsFromSaleOfTreasuryStock': 'None', 'changeInCashAndCashEquivalents': '-765577000', 'changeInExchangeRate': 'None', 'netIncome': '52591000'}, {'fiscalDateEnding': '2021-09-30', 'reportedCurrency': 'USD', 'operatingCashflow': '113354000', 'paymentsForOperatingActivities': '1529000', 'proceedsFromOperatingActivities': 'None', 'changeInOperatingLiabilities': '41296000', 'changeInOperatingAssets': '25754000', 'depreciationDepletionAndAmortization': '8255000', 'capitalExpenditures': '12932000', 'changeInReceivables': '-5462000', 'changeInInventory': '27648000', 'profitLoss': '21809000', 'cashflowFromInvestment': '-536422000', 'cashflowFromFinancing': '-3271000', 'proceedsFromRepaymentsOfShortTermDebt': '0', 'paymentsForRepurchaseOfCommonStock': 'None', 'paymentsForRepurchaseOfEquity': 'None', 'paymentsForRepurchaseOfPreferredStock': 'None', 'dividendPayout': 'None', 'dividendPayoutCommonStock': 'None', 'dividendPayoutPreferredStock': 'None', 'proceedsFromIssuanceOfCommonStock': '0', 'proceedsFromIssuanceOfLongTermDebtAndCapitalSecuritiesNet': '0', 'proceedsFromIssuanceOfPreferredStock': '0', 'proceedsFromRepurchaseOfEquity': '42000', 'proceedsFromSaleOfTreasuryStock': 'None', 'changeInCashAndCashEquivalents': '20280000', 'changeInExchangeRate': 'None', 'netIncome': '21809000'}, {'fiscalDateEnding': '2021-06-30', 'reportedCurrency': 'USD', 'operatingCashflow': '65660000', 'paymentsForOperatingActivities': '1425000', 'proceedsFromOperatingActivities': 'None', 'changeInOperatingLiabilities': '38983000', 'changeInOperatingAssets': '57846000', 'depreciationDepletionAndAmortization': '7596000', 'capitalExpenditures': '16428000', 'changeInReceivables': '44812000', 'changeInInventory': '2880000', 'profitLoss': '39346000', 'cashflowFromInvestment': '-36428000', 'cashflowFromFinancing': '-205757000', 'proceedsFromRepaymentsOfShortTermDebt': '0', 'paymentsForRepurchaseOfCommonStock': 'None', 'paymentsForRepurchaseOfEquity': 'None', 'paymentsForRepurchaseOfPreferredStock': 'None', 'dividendPayout': 'None', 'dividendPayoutCommonStock': 'None', 'dividendPayoutPreferredStock': 'None', 'proceedsFromIssuanceOfCommonStock': '0', 'proceedsFromIssuanceOfLongTermDebtAndCapitalSecuritiesNet': '0', 'proceedsFromIssuanceOfPreferredStock': '0', 'proceedsFromRepurchaseOfEquity': '-196572000', 'proceedsFromSaleOfTreasuryStock': 'None', 'changeInCashAndCashEquivalents': '37921000', 'changeInExchangeRate': 'None', 'netIncome': '39351000'}, {'fiscalDateEnding': '2021-03-31', 'reportedCurrency': 'USD', 'operatingCashflow': '75841000', 'paymentsForOperatingActivities': '1361000', 'proceedsFromOperatingActivities': 'None', 'changeInOperatingLiabilities': '55816000', 'changeInOperatingAssets': '51871000', 'depreciationDepletionAndAmortization': '5558000', 'capitalExpenditures': '9940000', 'changeInReceivables': '53719000', 'changeInInventory': '-6888000', 'profitLoss': '31698000', 'cashflowFromInvestment': '-90179000', 'cashflowFromFinancing': '824671000', 'proceedsFromRepaymentsOfShortTermDebt': '0', 'paymentsForRepurchaseOfCommonStock': 'None', 'paymentsForRepurchaseOfEquity': 'None', 'paymentsForRepurchaseOfPreferredStock': 'None', 'dividendPayout': 'None', 'dividendPayoutCommonStock': 'None', 'dividendPayoutPreferredStock': 'None', 'proceedsFromIssuanceOfCommonStock': '0', 'proceedsFromIssuanceOfLongTermDebtAndCapitalSecuritiesNet': '0', 'proceedsFromIssuanceOfPreferredStock': '220800000', 'proceedsFromRepurchaseOfEquity': '221014000', 'proceedsFromSaleOfTreasuryStock': 'None', 'changeInCashAndCashEquivalents': '810333000', 'changeInExchangeRate': 'None', 'netIncome': '31698000'}, {'fiscalDateEnding': '2020-12-31', 'reportedCurrency': 'USD', 'operatingCashflow': '84180000', 'paymentsForOperatingActivities': '6678000', 'proceedsFromOperatingActivities': 'None', 'changeInOperatingLiabilities': '58906000', 'changeInOperatingAssets': '68878000', 'depreciationDepletionAndAmortization': '5353000', 'capitalExpenditures': '8851000', 'changeInReceivables': '57854000', 'changeInInventory': '4229000', 'profitLoss': '72991000', 'cashflowFromInvestment': '-13861000', 'cashflowFromFinancing': '-53635000', 'proceedsFromRepaymentsOfShortTermDebt': '0', 'paymentsForRepurchaseOfCommonStock': 'None', 'paymentsForRepurchaseOfEquity': 'None', 'paymentsForRepurchaseOfPreferredStock': 'None', 'dividendPayout': 'None', 'dividendPayoutCommonStock': 'None', 'dividendPayoutPreferredStock': 'None', 'proceedsFromIssuanceOfCommonStock': '0', 'proceedsFromIssuanceOfLongTermDebtAndCapitalSecuritiesNet': '0', 'proceedsFromIssuanceOfPreferredStock': '0', 'proceedsFromRepurchaseOfEquity': '3687000', 'proceedsFromSaleOfTreasuryStock': 'None', 'changeInCashAndCashEquivalents': '72991000', 'changeInExchangeRate': 'None', 'netIncome': '72991000'}, {'fiscalDateEnding': '2020-09-30', 'reportedCurrency': 'USD', 'operatingCashflow': '67501000', 'paymentsForOperatingActivities': '1252000', 'proceedsFromOperatingActivities': 'None', 'changeInOperatingLiabilities': '32451000', 'changeInOperatingAssets': '34839000', 'depreciationDepletionAndAmortization': '4765000', 'capitalExpenditures': '3903000', 'changeInReceivables': '32633000', 'changeInInventory': '6349000', 'profitLoss': '39362000', 'cashflowFromInvestment': '-3903000', 'cashflowFromFinancing': '-9164000', 'proceedsFromRepaymentsOfShortTermDebt': '0', 'paymentsForRepurchaseOfCommonStock': 'None', 'paymentsForRepurchaseOfEquity': 'None', 'paymentsForRepurchaseOfPreferredStock': 'None', 'dividendPayout': 'None', 'dividendPayoutCommonStock': 'None', 'dividendPayoutPreferredStock': 'None', 'proceedsFromIssuanceOfCommonStock': '0', 'proceedsFromIssuanceOfLongTermDebtAndCapitalSecuritiesNet': '0', 'proceedsFromIssuanceOfPreferredStock': '0', 'proceedsFromRepurchaseOfEquity': '-138000', 'proceedsFromSaleOfTreasuryStock': 'None', 'changeInCashAndCashEquivalents': '38110000', 'changeInExchangeRate': 'None', 'netIncome': '39362000'}, {'fiscalDateEnding': '2020-06-30', 'reportedCurrency': 'USD', 'operatingCashflow': '25431000', 'paymentsForOperatingActivities': '1145000', 'proceedsFromOperatingActivities': 'None', 'changeInOperatingLiabilities': '-7634000', 'changeInOperatingAssets': '1633000', 'depreciationDepletionAndAmortization': '4141000', 'capitalExpenditures': '4451000', 'changeInReceivables': '-6529000', 'changeInInventory': '-3430000', 'profitLoss': '-47255000', 'cashflowFromInvestment': '-4451000', 'cashflowFromFinancing': '-7594000', 'proceedsFromRepaymentsOfShortTermDebt': '0', 'paymentsForRepurchaseOfCommonStock': 'None', 'paymentsForRepurchaseOfEquity': 'None', 'paymentsForRepurchaseOfPreferredStock': 'None', 'dividendPayout': 'None', 'dividendPayoutCommonStock': 'None', 'dividendPayoutPreferredStock': 'None', 'proceedsFromIssuanceOfCommonStock': '0', 'proceedsFromIssuanceOfLongTermDebtAndCapitalSecuritiesNet': '0', 'proceedsFromIssuanceOfPreferredStock': '0', 'proceedsFromRepurchaseOfEquity': '2867000', 'proceedsFromSaleOfTreasuryStock': 'None', 'changeInCashAndCashEquivalents': '-48400000', 'changeInExchangeRate': 'None', 'netIncome': '-47294000'}, {'fiscalDateEnding': '2020-03-31', 'reportedCurrency': 'USD', 'operatingCashflow': '39222000', 'paymentsForOperatingActivities': '1014000', 'proceedsFromOperatingActivities': 'None', 'changeInOperatingLiabilities': '-58526000', 'changeInOperatingAssets': '-29568000', 'depreciationDepletionAndAmortization': '3844000', 'capitalExpenditures': '3353000', 'changeInReceivables': '-49637000', 'changeInInventory': '2560000', 'profitLoss': '68968000', 'cashflowFromInvestment': '-3353000', 'cashflowFromFinancing': '262071000', 'proceedsFromRepaymentsOfShortTermDebt': '0', 'paymentsForRepurchaseOfCommonStock': 'None', 'paymentsForRepurchaseOfEquity': 'None', 'paymentsForRepurchaseOfPreferredStock': 'None', 'dividendPayout': 'None', 'dividendPayoutCommonStock': 'None', 'dividendPayoutPreferredStock': 'None', 'proceedsFromIssuanceOfCommonStock': '0', 'proceedsFromIssuanceOfLongTermDebtAndCapitalSecuritiesNet': '0', 'proceedsFromIssuanceOfPreferredStock': '71552000', 'proceedsFromRepurchaseOfEquity': '73531000', 'proceedsFromSaleOfTreasuryStock': 'None', 'changeInCashAndCashEquivalents': '297940000', 'changeInExchangeRate': 'None', 'netIncome': '68936000'}, {'fiscalDateEnding': '2019-12-31', 'reportedCurrency': 'USD', 'operatingCashflow': '102271000', 'paymentsForOperatingActivities': '5467000', 'proceedsFromOperatingActivities': 'None', 'changeInOperatingLiabilities': '65011000', 'changeInOperatingAssets': '93465000', 'depreciationDepletionAndAmortization': '2568000', 'capitalExpenditures': '7420000', 'changeInReceivables': '12606000', 'changeInInventory': '1825000', 'profitLoss': '116666000', 'cashflowFromInvestment': '-7420000', 'cashflowFromFinancing': '-1966000', 'proceedsFromRepaymentsOfShortTermDebt': '0', 'paymentsForRepurchaseOfCommonStock': 'None', 'paymentsForRepurchaseOfEquity': 'None', 'paymentsForRepurchaseOfPreferredStock': 'None', 'dividendPayout': 'None', 'dividendPayoutCommonStock': 'None', 'dividendPayoutPreferredStock': 'None', 'proceedsFromIssuanceOfCommonStock': '0', 'proceedsFromIssuanceOfLongTermDebtAndCapitalSecuritiesNet': '0', 'proceedsFromIssuanceOfPreferredStock': '-1000', 'proceedsFromRepurchaseOfEquity': '2059000', 'proceedsFromSaleOfTreasuryStock': 'None', 'changeInCashAndCashEquivalents': '116666000', 'changeInExchangeRate': 'None', 'netIncome': '116666000'}, {'fiscalDateEnding': '2019-09-30', 'reportedCurrency': 'USD', 'operatingCashflow': '4961000', 'paymentsForOperatingActivities': '1019000', 'proceedsFromOperatingActivities': 'None', 'changeInOperatingLiabilities': '6728000', 'changeInOperatingAssets': '46238000', 'depreciationDepletionAndAmortization': '3857000', 'capitalExpenditures': '4192000', 'changeInReceivables': '37035000', 'changeInInventory': '10137000', 'profitLoss': '31099000', 'cashflowFromInvestment': '-4192000', 'cashflowFromFinancing': '-3140000', 'proceedsFromRepaymentsOfShortTermDebt': '0', 'paymentsForRepurchaseOfCommonStock': 'None', 'paymentsForRepurchaseOfEquity': 'None', 'paymentsForRepurchaseOfPreferredStock': 'None', 'dividendPayout': 'None', 'dividendPayoutCommonStock': 'None', 'dividendPayoutPreferredStock': 'None', 'proceedsFromIssuanceOfCommonStock': '0', 'proceedsFromIssuanceOfLongTermDebtAndCapitalSecuritiesNet': '0', 'proceedsFromIssuanceOfPreferredStock': '0', 'proceedsFromRepurchaseOfEquity': '2393000', 'proceedsFromSaleOfTreasuryStock': 'None', 'changeInCashAndCashEquivalents': '30080000', 'changeInExchangeRate': 'None', 'netIncome': '31099000'}, {'fiscalDateEnding': '2019-06-30', 'reportedCurrency': 'USD', 'operatingCashflow': '14772000', 'paymentsForOperatingActivities': '857000', 'proceedsFromOperatingActivities': 'None', 'changeInOperatingLiabilities': '16280000', 'changeInOperatingAssets': '30116000', 'depreciationDepletionAndAmortization': '4122000', 'capitalExpenditures': '2518000', 'changeInReceivables': '15838000', 'changeInInventory': '7123000', 'profitLoss': '10618000', 'cashflowFromInvestment': '-2518000', 'cashflowFromFinancing': '115378000', 'proceedsFromRepaymentsOfShortTermDebt': '0', 'paymentsForRepurchaseOfCommonStock': 'None', 'paymentsForRepurchaseOfEquity': 'None', 'paymentsForRepurchaseOfPreferredStock': 'None', 'dividendPayout': 'None', 'dividendPayoutCommonStock': 'None', 'dividendPayoutPreferredStock': 'None', 'proceedsFromIssuanceOfCommonStock': '0', 'proceedsFromIssuanceOfLongTermDebtAndCapitalSecuritiesNet': '0', 'proceedsFromIssuanceOfPreferredStock': '29819000', 'proceedsFromRepurchaseOfEquity': '30042000', 'proceedsFromSaleOfTreasuryStock': 'None', 'changeInCashAndCashEquivalents': '9761000', 'changeInExchangeRate': 'None', 'netIncome': '10618000'}, {'fiscalDateEnding': '2019-03-31', 'reportedCurrency': 'USD', 'operatingCashflow': '17063000', 'paymentsForOperatingActivities': '737000', 'proceedsFromOperatingActivities': 'None', 'changeInOperatingLiabilities': '6429000', 'changeInOperatingAssets': '2383000', 'depreciationDepletionAndAmortization': '3572000', 'capitalExpenditures': '658000', 'changeInReceivables': '3266000', 'changeInInventory': '-3296000', 'profitLoss': '2765000', 'cashflowFromInvestment': '-658000', 'cashflowFromFinancing': '-44422000', 'proceedsFromRepaymentsOfShortTermDebt': '0', 'paymentsForRepurchaseOfCommonStock': 'None', 'paymentsForRepurchaseOfEquity': 'None', 'paymentsForRepurchaseOfPreferredStock': 'None', 'dividendPayout': 'None', 'dividendPayoutCommonStock': 'None', 'dividendPayoutPreferredStock': 'None', 'proceedsFromIssuanceOfCommonStock': '0', 'proceedsFromIssuanceOfLongTermDebtAndCapitalSecuritiesNet': '0', 'proceedsFromIssuanceOfPreferredStock': '0', 'proceedsFromRepurchaseOfEquity': '309000', 'proceedsFromSaleOfTreasuryStock': 'None', 'changeInCashAndCashEquivalents': '-28017000', 'changeInExchangeRate': 'None', 'netIncome': '2765000'}, {'fiscalDateEnding': '2018-12-31', 'reportedCurrency': 'USD', 'operatingCashflow': '1875000', 'paymentsForOperatingActivities': 'None', 'proceedsFromOperatingActivities': 'None', 'changeInOperatingLiabilities': '22567000', 'changeInOperatingAssets': '25578000', 'depreciationDepletionAndAmortization': '2717000', 'capitalExpenditures': '1767000', 'changeInReceivables': '24186000', 'changeInInventory': '-1620000', 'profitLoss': '709000', 'cashflowFromInvestment': '-7767000', 'cashflowFromFinancing': '-3996000', 'proceedsFromRepaymentsOfShortTermDebt': '0', 'paymentsForRepurchaseOfCommonStock': 'None', 'paymentsForRepurchaseOfEquity': 'None', 'paymentsForRepurchaseOfPreferredStock': 'None', 'dividendPayout': 'None', 'dividendPayoutCommonStock': 'None', 'dividendPayoutPreferredStock': 'None', 'proceedsFromIssuanceOfCommonStock': '-5000', 'proceedsFromIssuanceOfLongTermDebtAndCapitalSecuritiesNet': '-328000', 'proceedsFromIssuanceOfPreferredStock': 'None', 'proceedsFromRepurchaseOfEquity': '644000', 'proceedsFromSaleOfTreasuryStock': 'None', 'changeInCashAndCashEquivalents': '-9927000', 'changeInExchangeRate': '-39000', 'netIncome': '709000'}, {'fiscalDateEnding': '2018-09-30', 'reportedCurrency': 'USD', 'operatingCashflow': '6816000', 'paymentsForOperatingActivities': 'None', 'proceedsFromOperatingActivities': 'None', 'changeInOperatingLiabilities': '5000000', 'changeInOperatingAssets': '4086000', 'depreciationDepletionAndAmortization': '2481000', 'capitalExpenditures': '909000', 'changeInReceivables': '-4774000', 'changeInInventory': '416000', 'profitLoss': '-3470000', 'cashflowFromInvestment': '-9909000', 'cashflowFromFinancing': '60866000', 'proceedsFromRepaymentsOfShortTermDebt': '0', 'paymentsForRepurchaseOfCommonStock': 'None', 'paymentsForRepurchaseOfEquity': 'None', 'paymentsForRepurchaseOfPreferredStock': 'None', 'dividendPayout': 'None', 'dividendPayoutCommonStock': 'None', 'dividendPayoutPreferredStock': 'None', 'proceedsFromIssuanceOfCommonStock': '-152000', 'proceedsFromIssuanceOfLongTermDebtAndCapitalSecuritiesNet': '62772000', 'proceedsFromIssuanceOfPreferredStock': 'None', 'proceedsFromRepurchaseOfEquity': '629000', 'proceedsFromSaleOfTreasuryStock': 'None', 'changeInCashAndCashEquivalents': '57693000', 'changeInExchangeRate': '-80000', 'netIncome': '-3470000'}, {'fiscalDateEnding': '2018-06-30', 'reportedCurrency': 'USD', 'operatingCashflow': '4080000', 'paymentsForOperatingActivities': 'None', 'proceedsFromOperatingActivities': 'None', 'changeInOperatingLiabilities': '2239000', 'changeInOperatingAssets': '2669000', 'depreciationDepletionAndAmortization': '2193000', 'capitalExpenditures': '432000', 'changeInReceivables': '3228000', 'changeInInventory': '-1071000', 'profitLoss': '-3738000', 'cashflowFromInvestment': '-432000', 'cashflowFromFinancing': '2014000', 'proceedsFromRepaymentsOfShortTermDebt': '0', 'paymentsForRepurchaseOfCommonStock': 'None', 'paymentsForRepurchaseOfEquity': 'None', 'paymentsForRepurchaseOfPreferredStock': 'None', 'dividendPayout': 'None', 'dividendPayoutCommonStock': 'None', 'dividendPayoutPreferredStock': 'None', 'proceedsFromIssuanceOfCommonStock': '0', 'proceedsFromIssuanceOfLongTermDebtAndCapitalSecuritiesNet': '3271000', 'proceedsFromIssuanceOfPreferredStock': 'None', 'proceedsFromRepurchaseOfEquity': '1101000', 'proceedsFromSaleOfTreasuryStock': 'None', 'changeInCashAndCashEquivalents': '5216000', 'changeInExchangeRate': '-446000', 'netIncome': '-3738000'}, {'fiscalDateEnding': '2018-03-31', 'reportedCurrency': 'USD', 'operatingCashflow': '3361000', 'paymentsForOperatingActivities': 'None', 'proceedsFromOperatingActivities': 'None', 'changeInOperatingLiabilities': '-12847000', 'changeInOperatingAssets': '-15543000', 'depreciationDepletionAndAmortization': '2276000', 'capitalExpenditures': '1043000', 'changeInReceivables': '-9125000', 'changeInInventory': '-7457000', 'profitLoss': '-5128000', 'cashflowFromInvestment': '-1043000', 'cashflowFromFinancing': '21730000', 'proceedsFromRepaymentsOfShortTermDebt': '0', 'paymentsForRepurchaseOfCommonStock': 'None', 'paymentsForRepurchaseOfEquity': 'None', 'paymentsForRepurchaseOfPreferredStock': 'None', 'dividendPayout': 'None', 'dividendPayoutCommonStock': 'None', 'dividendPayoutPreferredStock': 'None', 'proceedsFromIssuanceOfCommonStock': '19923000', 'proceedsFromIssuanceOfLongTermDebtAndCapitalSecuritiesNet': '2309000', 'proceedsFromIssuanceOfPreferredStock': 'None', 'proceedsFromRepurchaseOfEquity': '20192000', 'proceedsFromSaleOfTreasuryStock': 'None', 'changeInCashAndCashEquivalents': '24111000', 'changeInExchangeRate': '63000', 'netIncome': '-5128000'}]}\n"
     ]
    }
   ],
   "source": [
    "#Use for Cash Flows\n",
    "# replace the \"demo\" apikey below with your own key from https://www.alphavantage.co/support/#api-key\n",
    "url_cash = 'https://www.alphavantage.co/query?function=CASH_FLOW&symbol='+stock+'&apikey=API-KEY'\n",
    "r_cash = requests.get(url_cash)\n",
    "cash = r_cash.json()\n",
    "\n",
    "print(cash)"
   ]
  },
  {
   "cell_type": "code",
   "execution_count": 20,
   "id": "1a0f9de0",
   "metadata": {
    "scrolled": false
   },
   "outputs": [
    {
     "name": "stdout",
     "output_type": "stream",
     "text": [
      "{'Symbol': 'ENPH', 'AssetType': 'Common Stock', 'Name': 'Enphase Energy Inc', 'Description': 'Enphase Energy is an American energy technology company headquartered in Fremont, California. Enphase designs and manufactures software-driven home energy solutions that span solar generation, home energy storage and web-based monitoring and control.', 'CIK': '1463101', 'Exchange': 'NASDAQ', 'Currency': 'USD', 'Country': 'USA', 'Sector': 'MANUFACTURING', 'Industry': 'SEMICONDUCTORS & RELATED DEVICES', 'Address': '47281 BAYSIDE PARKWAY, FREMONT, CA, US', 'FiscalYearEnd': 'December', 'LatestQuarter': '2022-12-31', 'MarketCapitalization': '26752047000', 'EBITDA': '503717000', 'PERatio': '66.21', 'PEGRatio': '2.197', 'BookValue': '6.05', 'DividendPerShare': '0', 'DividendYield': '0', 'EPS': '2.96', 'RevenuePerShareTTM': '17.22', 'ProfitMargin': '0.171', 'OperatingMarginTTM': '0.194', 'ReturnOnAssetsTTM': '0.11', 'ReturnOnEquityTTM': '0.633', 'RevenueTTM': '2330853000', 'GrossProfitTTM': '974595000', 'DilutedEPSTTM': '2.96', 'QuarterlyEarningsGrowthYOY': '1.837', 'QuarterlyRevenueGrowthYOY': '0.756', 'AnalystTargetPrice': '295.03', 'TrailingPE': '66.21', 'ForwardPE': '69.44', 'PriceToSalesRatioTTM': '21.14', 'PriceToBookRatio': '74.15', 'EVToRevenue': '22.34', 'EVToEBITDA': '110.55', 'Beta': '1.485', '52WeekHigh': '339.92', '52WeekLow': '128.67', '50DayMovingAverage': '214.89', '200DayMovingAverage': '255.38', 'SharesOutstanding': '136497000', 'DividendDate': 'None', 'ExDividendDate': 'None'}\n"
     ]
    }
   ],
   "source": [
    "url_overview = 'https://www.alphavantage.co/query?function=OVERVIEW&symbol='+stock+'&apikey=API-KEY'\n",
    "r_overview = requests.get(url_overview)\n",
    "data_overview = r_overview.json()\n",
    "\n",
    "print(data_overview)"
   ]
  },
  {
   "cell_type": "code",
   "execution_count": 21,
   "id": "1831dd36",
   "metadata": {},
   "outputs": [
    {
     "data": {
      "text/plain": [
       "{'Symbol': 'ENPH',\n",
       " 'AssetType': 'Common Stock',\n",
       " 'Name': 'Enphase Energy Inc',\n",
       " 'Description': 'Enphase Energy is an American energy technology company headquartered in Fremont, California. Enphase designs and manufactures software-driven home energy solutions that span solar generation, home energy storage and web-based monitoring and control.',\n",
       " 'CIK': '1463101',\n",
       " 'Exchange': 'NASDAQ',\n",
       " 'Currency': 'USD',\n",
       " 'Country': 'USA',\n",
       " 'Sector': 'MANUFACTURING',\n",
       " 'Industry': 'SEMICONDUCTORS & RELATED DEVICES',\n",
       " 'Address': '47281 BAYSIDE PARKWAY, FREMONT, CA, US',\n",
       " 'FiscalYearEnd': 'December',\n",
       " 'LatestQuarter': '2022-12-31',\n",
       " 'MarketCapitalization': '26752047000',\n",
       " 'EBITDA': '503717000',\n",
       " 'PERatio': '66.21',\n",
       " 'PEGRatio': '2.197',\n",
       " 'BookValue': '6.05',\n",
       " 'DividendPerShare': '0',\n",
       " 'DividendYield': '0',\n",
       " 'EPS': '2.96',\n",
       " 'RevenuePerShareTTM': '17.22',\n",
       " 'ProfitMargin': '0.171',\n",
       " 'OperatingMarginTTM': '0.194',\n",
       " 'ReturnOnAssetsTTM': '0.11',\n",
       " 'ReturnOnEquityTTM': '0.633',\n",
       " 'RevenueTTM': '2330853000',\n",
       " 'GrossProfitTTM': '974595000',\n",
       " 'DilutedEPSTTM': '2.96',\n",
       " 'QuarterlyEarningsGrowthYOY': '1.837',\n",
       " 'QuarterlyRevenueGrowthYOY': '0.756',\n",
       " 'AnalystTargetPrice': '295.03',\n",
       " 'TrailingPE': '66.21',\n",
       " 'ForwardPE': '69.44',\n",
       " 'PriceToSalesRatioTTM': '21.14',\n",
       " 'PriceToBookRatio': '74.15',\n",
       " 'EVToRevenue': '22.34',\n",
       " 'EVToEBITDA': '110.55',\n",
       " 'Beta': '1.485',\n",
       " '52WeekHigh': '339.92',\n",
       " '52WeekLow': '128.67',\n",
       " '50DayMovingAverage': '214.89',\n",
       " '200DayMovingAverage': '255.38',\n",
       " 'SharesOutstanding': '136497000',\n",
       " 'DividendDate': 'None',\n",
       " 'ExDividendDate': 'None'}"
      ]
     },
     "execution_count": 21,
     "metadata": {},
     "output_type": "execute_result"
    }
   ],
   "source": [
    "data_overview"
   ]
  },
  {
   "cell_type": "code",
   "execution_count": 22,
   "id": "118d08b2",
   "metadata": {
    "scrolled": false
   },
   "outputs": [],
   "source": [
    "annual_income = pd.DataFrame(data['annualReports']).T"
   ]
  },
  {
   "cell_type": "code",
   "execution_count": 23,
   "id": "e2377f0d",
   "metadata": {},
   "outputs": [],
   "source": [
    "quarterly_income = pd.DataFrame(data['quarterlyReports']).T"
   ]
  },
  {
   "cell_type": "code",
   "execution_count": 24,
   "id": "667a0264",
   "metadata": {},
   "outputs": [],
   "source": [
    "annual_balance = pd.DataFrame(balance['annualReports']).T"
   ]
  },
  {
   "cell_type": "code",
   "execution_count": 25,
   "id": "cffc5203",
   "metadata": {},
   "outputs": [],
   "source": [
    "quarterly_balance = pd.DataFrame(balance['quarterlyReports']).T"
   ]
  },
  {
   "cell_type": "code",
   "execution_count": 26,
   "id": "3d5d8b8d",
   "metadata": {},
   "outputs": [],
   "source": [
    "annual_cash = pd.DataFrame(cash['annualReports']).T"
   ]
  },
  {
   "cell_type": "code",
   "execution_count": 27,
   "id": "f21feb2a",
   "metadata": {},
   "outputs": [],
   "source": [
    "quarterly_cash = pd.DataFrame(cash['quarterlyReports']).T"
   ]
  },
  {
   "cell_type": "code",
   "execution_count": 28,
   "id": "a1927331",
   "metadata": {},
   "outputs": [],
   "source": [
    "company_overview = data_overview"
   ]
  },
  {
   "cell_type": "code",
   "execution_count": 34,
   "id": "472c36f9",
   "metadata": {},
   "outputs": [
    {
     "data": {
      "text/html": [
       "<div>\n",
       "<style scoped>\n",
       "    .dataframe tbody tr th:only-of-type {\n",
       "        vertical-align: middle;\n",
       "    }\n",
       "\n",
       "    .dataframe tbody tr th {\n",
       "        vertical-align: top;\n",
       "    }\n",
       "\n",
       "    .dataframe thead th {\n",
       "        text-align: right;\n",
       "    }\n",
       "</style>\n",
       "<table border=\"1\" class=\"dataframe\">\n",
       "  <thead>\n",
       "    <tr style=\"text-align: right;\">\n",
       "      <th></th>\n",
       "      <th>0</th>\n",
       "      <th>1</th>\n",
       "      <th>2</th>\n",
       "      <th>3</th>\n",
       "      <th>4</th>\n",
       "    </tr>\n",
       "  </thead>\n",
       "  <tbody>\n",
       "    <tr>\n",
       "      <th>fiscalDateEnding</th>\n",
       "      <td>2022-12-31</td>\n",
       "      <td>2021-12-31</td>\n",
       "      <td>2020-12-31</td>\n",
       "      <td>2019-12-31</td>\n",
       "      <td>2018-12-31</td>\n",
       "    </tr>\n",
       "    <tr>\n",
       "      <th>reportedCurrency</th>\n",
       "      <td>USD</td>\n",
       "      <td>USD</td>\n",
       "      <td>USD</td>\n",
       "      <td>USD</td>\n",
       "      <td>USD</td>\n",
       "    </tr>\n",
       "    <tr>\n",
       "      <th>grossProfit</th>\n",
       "      <td>974595000</td>\n",
       "      <td>554422000</td>\n",
       "      <td>345981000</td>\n",
       "      <td>221245000</td>\n",
       "      <td>94445000</td>\n",
       "    </tr>\n",
       "    <tr>\n",
       "      <th>totalRevenue</th>\n",
       "      <td>2330853000</td>\n",
       "      <td>1382049000</td>\n",
       "      <td>774425000</td>\n",
       "      <td>624333000</td>\n",
       "      <td>316159000</td>\n",
       "    </tr>\n",
       "    <tr>\n",
       "      <th>costOfRevenue</th>\n",
       "      <td>1356258000</td>\n",
       "      <td>827627000</td>\n",
       "      <td>428444000</td>\n",
       "      <td>403088000</td>\n",
       "      <td>221714000</td>\n",
       "    </tr>\n",
       "    <tr>\n",
       "      <th>costofGoodsAndServicesSold</th>\n",
       "      <td>1356258000</td>\n",
       "      <td>827627000</td>\n",
       "      <td>428444000</td>\n",
       "      <td>403088000</td>\n",
       "      <td>221714000</td>\n",
       "    </tr>\n",
       "    <tr>\n",
       "      <th>operatingIncome</th>\n",
       "      <td>448261000</td>\n",
       "      <td>215832000</td>\n",
       "      <td>186439000</td>\n",
       "      <td>102729000</td>\n",
       "      <td>1596000</td>\n",
       "    </tr>\n",
       "    <tr>\n",
       "      <th>sellingGeneralAndAdministrative</th>\n",
       "      <td>355104000</td>\n",
       "      <td>233064000</td>\n",
       "      <td>103621000</td>\n",
       "      <td>75536000</td>\n",
       "      <td>56133000</td>\n",
       "    </tr>\n",
       "    <tr>\n",
       "      <th>researchAndDevelopment</th>\n",
       "      <td>168846000</td>\n",
       "      <td>105526000</td>\n",
       "      <td>55921000</td>\n",
       "      <td>40381000</td>\n",
       "      <td>32587000</td>\n",
       "    </tr>\n",
       "    <tr>\n",
       "      <th>operatingExpenses</th>\n",
       "      <td>526334000</td>\n",
       "      <td>338590000</td>\n",
       "      <td>159542000</td>\n",
       "      <td>118516000</td>\n",
       "      <td>92849000</td>\n",
       "    </tr>\n",
       "    <tr>\n",
       "      <th>investmentIncomeNet</th>\n",
       "      <td>None</td>\n",
       "      <td>None</td>\n",
       "      <td>None</td>\n",
       "      <td>None</td>\n",
       "      <td>None</td>\n",
       "    </tr>\n",
       "    <tr>\n",
       "      <th>netInterestIncome</th>\n",
       "      <td>4218000</td>\n",
       "      <td>-44457000</td>\n",
       "      <td>-18845000</td>\n",
       "      <td>-7178000</td>\n",
       "      <td>-9635000</td>\n",
       "    </tr>\n",
       "    <tr>\n",
       "      <th>interestIncome</th>\n",
       "      <td>13656000</td>\n",
       "      <td>695000</td>\n",
       "      <td>2156000</td>\n",
       "      <td>2513000</td>\n",
       "      <td>1058000</td>\n",
       "    </tr>\n",
       "    <tr>\n",
       "      <th>interestExpense</th>\n",
       "      <td>9438000</td>\n",
       "      <td>45152000</td>\n",
       "      <td>21001000</td>\n",
       "      <td>9691000</td>\n",
       "      <td>10693000</td>\n",
       "    </tr>\n",
       "    <tr>\n",
       "      <th>nonInterestIncome</th>\n",
       "      <td>2330853000</td>\n",
       "      <td>1382049000</td>\n",
       "      <td>730077000</td>\n",
       "      <td>622181000</td>\n",
       "      <td>316159000</td>\n",
       "    </tr>\n",
       "    <tr>\n",
       "      <th>otherNonOperatingIncome</th>\n",
       "      <td>-431000</td>\n",
       "      <td>6050000</td>\n",
       "      <td>-799000</td>\n",
       "      <td>-5437000</td>\n",
       "      <td>-2190000</td>\n",
       "    </tr>\n",
       "    <tr>\n",
       "      <th>depreciation</th>\n",
       "      <td>27700000</td>\n",
       "      <td>16700000</td>\n",
       "      <td>9700000</td>\n",
       "      <td>7300000</td>\n",
       "      <td>8300000</td>\n",
       "    </tr>\n",
       "    <tr>\n",
       "      <th>depreciationAndAmortization</th>\n",
       "      <td>24696000</td>\n",
       "      <td>9500000</td>\n",
       "      <td>5092000</td>\n",
       "      <td>4727000</td>\n",
       "      <td>1400000</td>\n",
       "    </tr>\n",
       "    <tr>\n",
       "      <th>incomeBeforeTax</th>\n",
       "      <td>452048000</td>\n",
       "      <td>120928000</td>\n",
       "      <td>119410000</td>\n",
       "      <td>90114000</td>\n",
       "      <td>-10229000</td>\n",
       "    </tr>\n",
       "    <tr>\n",
       "      <th>incomeTaxExpense</th>\n",
       "      <td>54686000</td>\n",
       "      <td>-24521000</td>\n",
       "      <td>-14585000</td>\n",
       "      <td>-71034000</td>\n",
       "      <td>1398000</td>\n",
       "    </tr>\n",
       "    <tr>\n",
       "      <th>interestAndDebtExpense</th>\n",
       "      <td>9438000</td>\n",
       "      <td>101649000</td>\n",
       "      <td>21001000</td>\n",
       "      <td>17843000</td>\n",
       "      <td>9635000</td>\n",
       "    </tr>\n",
       "    <tr>\n",
       "      <th>netIncomeFromContinuingOperations</th>\n",
       "      <td>397362000</td>\n",
       "      <td>145449000</td>\n",
       "      <td>133995000</td>\n",
       "      <td>161148000</td>\n",
       "      <td>-11627000</td>\n",
       "    </tr>\n",
       "    <tr>\n",
       "      <th>comprehensiveIncomeNetOfTax</th>\n",
       "      <td>388500000</td>\n",
       "      <td>142995000</td>\n",
       "      <td>135352000</td>\n",
       "      <td>159483000</td>\n",
       "      <td>-10229000</td>\n",
       "    </tr>\n",
       "    <tr>\n",
       "      <th>ebit</th>\n",
       "      <td>461486000</td>\n",
       "      <td>166080000</td>\n",
       "      <td>140411000</td>\n",
       "      <td>99805000</td>\n",
       "      <td>464000</td>\n",
       "    </tr>\n",
       "    <tr>\n",
       "      <th>ebitda</th>\n",
       "      <td>486182000</td>\n",
       "      <td>175580000</td>\n",
       "      <td>145503000</td>\n",
       "      <td>104532000</td>\n",
       "      <td>1864000</td>\n",
       "    </tr>\n",
       "    <tr>\n",
       "      <th>netIncome</th>\n",
       "      <td>397362000</td>\n",
       "      <td>145449000</td>\n",
       "      <td>133995000</td>\n",
       "      <td>161148000</td>\n",
       "      <td>-11627000</td>\n",
       "    </tr>\n",
       "  </tbody>\n",
       "</table>\n",
       "</div>"
      ],
      "text/plain": [
       "                                            0           1           2  \\\n",
       "fiscalDateEnding                   2022-12-31  2021-12-31  2020-12-31   \n",
       "reportedCurrency                          USD         USD         USD   \n",
       "grossProfit                         974595000   554422000   345981000   \n",
       "totalRevenue                       2330853000  1382049000   774425000   \n",
       "costOfRevenue                      1356258000   827627000   428444000   \n",
       "costofGoodsAndServicesSold         1356258000   827627000   428444000   \n",
       "operatingIncome                     448261000   215832000   186439000   \n",
       "sellingGeneralAndAdministrative     355104000   233064000   103621000   \n",
       "researchAndDevelopment              168846000   105526000    55921000   \n",
       "operatingExpenses                   526334000   338590000   159542000   \n",
       "investmentIncomeNet                      None        None        None   \n",
       "netInterestIncome                     4218000   -44457000   -18845000   \n",
       "interestIncome                       13656000      695000     2156000   \n",
       "interestExpense                       9438000    45152000    21001000   \n",
       "nonInterestIncome                  2330853000  1382049000   730077000   \n",
       "otherNonOperatingIncome               -431000     6050000     -799000   \n",
       "depreciation                         27700000    16700000     9700000   \n",
       "depreciationAndAmortization          24696000     9500000     5092000   \n",
       "incomeBeforeTax                     452048000   120928000   119410000   \n",
       "incomeTaxExpense                     54686000   -24521000   -14585000   \n",
       "interestAndDebtExpense                9438000   101649000    21001000   \n",
       "netIncomeFromContinuingOperations   397362000   145449000   133995000   \n",
       "comprehensiveIncomeNetOfTax         388500000   142995000   135352000   \n",
       "ebit                                461486000   166080000   140411000   \n",
       "ebitda                              486182000   175580000   145503000   \n",
       "netIncome                           397362000   145449000   133995000   \n",
       "\n",
       "                                            3           4  \n",
       "fiscalDateEnding                   2019-12-31  2018-12-31  \n",
       "reportedCurrency                          USD         USD  \n",
       "grossProfit                         221245000    94445000  \n",
       "totalRevenue                        624333000   316159000  \n",
       "costOfRevenue                       403088000   221714000  \n",
       "costofGoodsAndServicesSold          403088000   221714000  \n",
       "operatingIncome                     102729000     1596000  \n",
       "sellingGeneralAndAdministrative      75536000    56133000  \n",
       "researchAndDevelopment               40381000    32587000  \n",
       "operatingExpenses                   118516000    92849000  \n",
       "investmentIncomeNet                      None        None  \n",
       "netInterestIncome                    -7178000    -9635000  \n",
       "interestIncome                        2513000     1058000  \n",
       "interestExpense                       9691000    10693000  \n",
       "nonInterestIncome                   622181000   316159000  \n",
       "otherNonOperatingIncome              -5437000    -2190000  \n",
       "depreciation                          7300000     8300000  \n",
       "depreciationAndAmortization           4727000     1400000  \n",
       "incomeBeforeTax                      90114000   -10229000  \n",
       "incomeTaxExpense                    -71034000     1398000  \n",
       "interestAndDebtExpense               17843000     9635000  \n",
       "netIncomeFromContinuingOperations   161148000   -11627000  \n",
       "comprehensiveIncomeNetOfTax         159483000   -10229000  \n",
       "ebit                                 99805000      464000  \n",
       "ebitda                              104532000     1864000  \n",
       "netIncome                           161148000   -11627000  "
      ]
     },
     "execution_count": 34,
     "metadata": {},
     "output_type": "execute_result"
    }
   ],
   "source": [
    "annual_income"
   ]
  },
  {
   "cell_type": "code",
   "execution_count": 37,
   "id": "1a21fd61",
   "metadata": {},
   "outputs": [],
   "source": [
    "#Storing the financial statements into a csv file\n",
    "annual_cash.to_csv(f'Statements Database.csv')"
   ]
  }
 ],
 "metadata": {
  "kernelspec": {
   "display_name": "Python 3 (ipykernel)",
   "language": "python",
   "name": "python3"
  },
  "language_info": {
   "codemirror_mode": {
    "name": "ipython",
    "version": 3
   },
   "file_extension": ".py",
   "mimetype": "text/x-python",
   "name": "python",
   "nbconvert_exporter": "python",
   "pygments_lexer": "ipython3",
   "version": "3.10.12"
  }
 },
 "nbformat": 4,
 "nbformat_minor": 5
}
