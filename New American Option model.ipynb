{
 "cells": [
  {
   "cell_type": "code",
   "execution_count": 1,
   "metadata": {
    "id": "qSi0QF9-lokN"
   },
   "outputs": [],
   "source": [
    "import yfinance as yahoofinance\n",
    "import numpy as np\n",
    "import matplotlib.pyplot\n",
    "import math\n",
    "import matplotlib.pyplot as plt\n",
    "import time"
   ]
  },
  {
   "cell_type": "code",
   "execution_count": 105,
   "metadata": {
    "colab": {
     "base_uri": "https://localhost:8080/"
    },
    "executionInfo": {
     "elapsed": 3841,
     "status": "ok",
     "timestamp": 1697643267228,
     "user": {
      "displayName": "Alejandro Hernandez",
      "userId": "11634302383300305553"
     },
     "user_tz": 300
    },
    "id": "tFHcz7O8tdV5",
    "outputId": "7650d1dc-d62a-409f-f021-95d4245fe0a1"
   },
   "outputs": [
    {
     "name": "stdout",
     "output_type": "stream",
     "text": [
      "KR\n",
      "[*********************100%%**********************]  1 of 1 completed\n"
     ]
    }
   ],
   "source": [
    "stock = input()\n",
    "data = yahoofinance.download(stock)\n",
    "ticker = yahoofinance.Ticker(stock)\n",
    "data = ticker.history(period=\"1y\")\n",
    "close = data.Close[-1]"
   ]
  },
  {
   "cell_type": "code",
   "execution_count": 106,
   "metadata": {
    "colab": {
     "base_uri": "https://localhost:8080/"
    },
    "executionInfo": {
     "elapsed": 54,
     "status": "ok",
     "timestamp": 1697643267229,
     "user": {
      "displayName": "Alejandro Hernandez",
      "userId": "11634302383300305553"
     },
     "user_tz": 300
    },
    "id": "IhGSe_HnkfXA",
    "outputId": "59fe5677-e0a3-429d-81ce-de3f467ba917"
   },
   "outputs": [
    {
     "data": {
      "text/plain": [
       "1.7273369616234655"
      ]
     },
     "execution_count": 106,
     "metadata": {},
     "output_type": "execute_result"
    }
   ],
   "source": [
    "sigma = data.Close.std()\n",
    "sigma"
   ]
  },
  {
   "cell_type": "code",
   "execution_count": 107,
   "metadata": {
    "id": "SILA8hm9l7P7"
   },
   "outputs": [],
   "source": [
    "stock_price = close\n",
    "strike_price = 22.5\n",
    "put_strike = 22.5\n",
    "days_to_expiration = 70\n",
    "time_to_expiration = days_to_expiration/365\n",
    "implied_volatility = sigma/100\n",
    "up_factor = math.exp(implied_volatility * math.sqrt(time_to_expiration))\n",
    "down_factor = 1/up_factor\n",
    "interest_rate = 5.5/100\n",
    "inflation = 3.1/100\n",
    "risk_free_rate = interest_rate - inflation"
   ]
  },
  {
   "cell_type": "code",
   "execution_count": 108,
   "metadata": {
    "colab": {
     "base_uri": "https://localhost:8080/"
    },
    "executionInfo": {
     "elapsed": 49,
     "status": "ok",
     "timestamp": 1697643267230,
     "user": {
      "displayName": "Alejandro Hernandez",
      "userId": "11634302383300305553"
     },
     "user_tz": 300
    },
    "id": "udWEIxtF079q",
    "outputId": "cefe0ce3-4909-4d9e-827d-d616b8acf499"
   },
   "outputs": [
    {
     "data": {
      "text/plain": [
       "0.9924640487339541"
      ]
     },
     "execution_count": 108,
     "metadata": {},
     "output_type": "execute_result"
    }
   ],
   "source": [
    "down_factor"
   ]
  },
  {
   "cell_type": "code",
   "execution_count": 109,
   "metadata": {
    "id": "I-YgdALgtdcy"
   },
   "outputs": [],
   "source": [
    "nodes = 50"
   ]
  },
  {
   "cell_type": "code",
   "execution_count": 110,
   "metadata": {
    "id": "0BhSQ64XCisH"
   },
   "outputs": [],
   "source": [
    "tree = np.zeros((nodes + 1, nodes + 1), dtype=float)"
   ]
  },
  {
   "cell_type": "code",
   "execution_count": 111,
   "metadata": {
    "id": "2tbAX8zTCn-G"
   },
   "outputs": [],
   "source": [
    "tree[0][0] = stock_price"
   ]
  },
  {
   "cell_type": "code",
   "execution_count": 112,
   "metadata": {
    "id": "nH6Svr-xl7ad"
   },
   "outputs": [],
   "source": [
    "# Populate the tree with values based on up and down factors\n",
    "for i in range(1, nodes):\n",
    "    for j in range(i + 1):\n",
    "        if j == 0:\n",
    "            # Down movement\n",
    "            tree[i][j] = tree[i - 1][j] * down_factor\n",
    "            tree[i][j-1] = tree[i - 1][j - 1] * up_factor\n",
    "        else:\n",
    "            # Up movement\n",
    "            tree[i][j] = tree[i - 1][j - 1] * up_factor\n",
    "            tree[i][j-1] = tree[i - 1][j - 1] * down_factor"
   ]
  },
  {
   "cell_type": "code",
   "execution_count": 113,
   "metadata": {
    "colab": {
     "base_uri": "https://localhost:8080/"
    },
    "executionInfo": {
     "elapsed": 41,
     "status": "ok",
     "timestamp": 1697643267231,
     "user": {
      "displayName": "Alejandro Hernandez",
      "userId": "11634302383300305553"
     },
     "user_tz": 300
    },
    "id": "GB5PeMUixypD",
    "outputId": "ec55f586-df11-4e38-8951-9e800302ed28"
   },
   "outputs": [
    {
     "data": {
      "text/plain": [
       "array([[46.04999924,  0.        ,  0.        , ...,  0.        ,\n",
       "         0.        ,  0.        ],\n",
       "       [45.70296869, 46.39966485,  0.        , ...,  0.        ,\n",
       "         0.        ,  0.        ],\n",
       "       [45.35855334, 46.04999924, 46.75198553, ...,  0.        ,\n",
       "         0.        ,  0.        ],\n",
       "       ...,\n",
       "       [32.02869518, 32.51694069, 33.01262901, ..., 66.20945429,\n",
       "         0.        ,  0.        ],\n",
       "       [31.7873285 , 32.27189461, 32.76384744, ..., 65.71050307,\n",
       "        66.71219414,  0.        ],\n",
       "       [ 0.        ,  0.        ,  0.        , ...,  0.        ,\n",
       "         0.        ,  0.        ]])"
      ]
     },
     "execution_count": 113,
     "metadata": {},
     "output_type": "execute_result"
    }
   ],
   "source": [
    "tree"
   ]
  },
  {
   "cell_type": "code",
   "execution_count": 114,
   "metadata": {
    "id": "Lytiby3-BSis"
   },
   "outputs": [],
   "source": [
    "#Visualize the binomial tree using matplotlib\n",
    "#start_time = time.time()\n",
    "#plt.figure(figsize=(100, 100))\n",
    "#for i in range(nodes):\n",
    "#    for j in range(i + 1):\n",
    "#        plt.plot([j, j + 1], [nodes - i - 1, nodes - i], 'b', lw=2)\n",
    "#        plt.plot([j, j - 1], [nodes - i - 1, nodes - i], 'r', lw=2)\n",
    "#        plt.text(j, nodes - i - 0.5, f'{tree[i][j]:.2f}', ha='center', va='center')\n",
    "\n",
    "#plt.xlabel('Time Step')\n",
    "#plt.ylabel('Node')\n",
    "#plt.title('Binomial Tree Visualization')\n",
    "#plt.grid()\n",
    "#plt.show()\n",
    "\n",
    "#end_time = time.time()\n",
    "#elapsed_time = end_time - start_time\n",
    "\n",
    "#print(f\"Execution took {elapsed_time:.2f} seconds\")"
   ]
  },
  {
   "cell_type": "code",
   "execution_count": 115,
   "metadata": {
    "id": "w1FeEDKmSEka"
   },
   "outputs": [],
   "source": [
    "exercise_stock_prices = tree[-2]\n",
    "exercise_stock_prices = exercise_stock_prices[:-1]"
   ]
  },
  {
   "cell_type": "code",
   "execution_count": 116,
   "metadata": {
    "colab": {
     "base_uri": "https://localhost:8080/",
     "height": 447
    },
    "executionInfo": {
     "elapsed": 331,
     "status": "ok",
     "timestamp": 1697643267528,
     "user": {
      "displayName": "Alejandro Hernandez",
      "userId": "11634302383300305553"
     },
     "user_tz": 300
    },
    "id": "jnW8dwkr0Pa5",
    "outputId": "c8275c9d-c282-4027-9434-8bdaf33d9fee"
   },
   "outputs": [
    {
     "data": {
      "text/plain": [
       "[<matplotlib.lines.Line2D at 0x260c4e07ac0>]"
      ]
     },
     "execution_count": 116,
     "metadata": {},
     "output_type": "execute_result"
    },
    {
     "data": {
      "image/png": "[encoded data removed]",
      "text/plain": [
       "<Figure size 640x480 with 1 Axes>"
      ]
     },
     "metadata": {},
     "output_type": "display_data"
    }
   ],
   "source": [
    "plt.plot(exercise_stock_prices)"
   ]
  },
  {
   "cell_type": "code",
   "execution_count": 117,
   "metadata": {
    "colab": {
     "base_uri": "https://localhost:8080/",
     "height": 569
    },
    "executionInfo": {
     "elapsed": 31,
     "status": "ok",
     "timestamp": 1697643267529,
     "user": {
      "displayName": "Alejandro Hernandez",
      "userId": "11634302383300305553"
     },
     "user_tz": 300
    },
    "id": "1QPNPWWcUPT1",
    "outputId": "767d3755-f3d0-4ad8-a5a0-2e72d5ea2c23"
   },
   "outputs": [
    {
     "data": {
      "text/plain": [
       "(array([4., 3., 4., 3., 3., 2., 3., 3., 2., 2., 3., 2., 2., 2., 2., 2., 2.,\n",
       "        2., 2., 2.]),\n",
       " array([31.7873285 , 33.53357178, 35.27981506, 37.02605834, 38.77230162,\n",
       "        40.51854491, 42.26478819, 44.01103147, 45.75727475, 47.50351803,\n",
       "        49.24976132, 50.9960046 , 52.74224788, 54.48849116, 56.23473445,\n",
       "        57.98097773, 59.72722101, 61.47346429, 63.21970757, 64.96595086,\n",
       "        66.71219414]),\n",
       " <BarContainer object of 20 artists>)"
      ]
     },
     "execution_count": 117,
     "metadata": {},
     "output_type": "execute_result"
    },
    {
     "data": {
      "image/png": "[encoded data removed]",
      "text/plain": [
       "<Figure size 640x480 with 1 Axes>"
      ]
     },
     "metadata": {},
     "output_type": "display_data"
    }
   ],
   "source": [
    "plt.hist(exercise_stock_prices, bins = 20)"
   ]
  },
  {
   "cell_type": "code",
   "execution_count": 118,
   "metadata": {
    "colab": {
     "base_uri": "https://localhost:8080/"
    },
    "executionInfo": {
     "elapsed": 25,
     "status": "ok",
     "timestamp": 1697643267530,
     "user": {
      "displayName": "Alejandro Hernandez",
      "userId": "11634302383300305553"
     },
     "user_tz": 300
    },
    "id": "GePpJSEiUPXn",
    "outputId": "4367da0a-6b5c-4e6e-ecdc-159a2e853ece"
   },
   "outputs": [
    {
     "name": "stdout",
     "output_type": "stream",
     "text": [
      "Expected Intrinsic Value (Call): 616.38\n",
      "Expected Intrinsic Value (Put): 0.00\n",
      "Total Option Value: 616.38\n"
     ]
    }
   ],
   "source": [
    "# Calculate the intrinsic values for both call and put options for each final stock price\n",
    "intrinsic_values_call = [max(exercise_stock_prices - strike_price, 0) for exercise_stock_prices in exercise_stock_prices]\n",
    "intrinsic_values_put = [max(put_strike - exercise_stock_prices, 0) for exercise_stock_prices in exercise_stock_prices]\n",
    "\n",
    "# Define the probabilities of reaching each final stock price (you need to determine these probabilities)\n",
    "# For example, if you have an up probability of 0.5 and a down probability of 0.5 in your binomial model:\n",
    "probabilities = [0.5, 0.5]\n",
    "\n",
    "# Calculate the expected intrinsic values for both call and put options\n",
    "expected_intrinsic_value_call = sum(iv * 0.5 for iv in intrinsic_values_call)\n",
    "expected_intrinsic_value_put = sum(iv * 0.5 for iv in intrinsic_values_put)\n",
    "\n",
    "# Calculate the total option value if both options are exercised today\n",
    "total_option_value = expected_intrinsic_value_call + expected_intrinsic_value_put\n",
    "\n",
    "print(f\"Expected Intrinsic Value (Call): {expected_intrinsic_value_call:.2f}\")\n",
    "print(f\"Expected Intrinsic Value (Put): {expected_intrinsic_value_put:.2f}\")\n",
    "print(f\"Total Option Value: {total_option_value:.2f}\")"
   ]
  },
  {
   "cell_type": "code",
   "execution_count": 119,
   "metadata": {
    "colab": {
     "base_uri": "https://localhost:8080/"
    },
    "executionInfo": {
     "elapsed": 24,
     "status": "ok",
     "timestamp": 1697643267531,
     "user": {
      "displayName": "Alejandro Hernandez",
      "userId": "11634302383300305553"
     },
     "user_tz": 300
    },
    "id": "mBrAyGL6UPac",
    "outputId": "cc1eef22-7ddd-4d95-d11b-33fc84584d62"
   },
   "outputs": [
    {
     "data": {
      "text/plain": [
       "array([31.7873285 , 32.27189461, 32.76384744, 33.26329961, 33.77036543,\n",
       "       34.28516096, 34.80780404, 35.33841428, 35.87711316, 36.42402395,\n",
       "       36.97927186, 37.54298397, 38.11528931, 38.69631887, 39.28620564,\n",
       "       39.88508466, 40.49309298, 41.11036979, 41.73705636, 42.37329615,\n",
       "       43.01923477, 43.67502009, 44.3408022 , 45.01673349, 45.70296869,\n",
       "       46.39966485, 47.10698145, 47.82508039, 48.55412603, 49.29428524,\n",
       "       50.04572744, 50.80862463, 51.58315142, 52.36948511, 53.16780566,\n",
       "       53.97829582, 54.80114109, 55.63652981, 56.4846532 , 57.34570539,\n",
       "       58.21988346, 59.1073875 , 60.00842066, 60.92318916, 61.8519024 ,\n",
       "       62.79477295, 63.75201662, 64.72385251, 65.71050307, 66.71219414])"
      ]
     },
     "execution_count": 119,
     "metadata": {},
     "output_type": "execute_result"
    }
   ],
   "source": [
    "exercise_stock_prices"
   ]
  },
  {
   "cell_type": "code",
   "execution_count": 120,
   "metadata": {
    "colab": {
     "base_uri": "https://localhost:8080/"
    },
    "executionInfo": {
     "elapsed": 172,
     "status": "ok",
     "timestamp": 1697643267682,
     "user": {
      "displayName": "Alejandro Hernandez",
      "userId": "11634302383300305553"
     },
     "user_tz": 300
    },
    "id": "6S5nituRUPfN",
    "outputId": "f6e4e3f5-2383-4650-faed-1228f845b7f6"
   },
   "outputs": [
    {
     "data": {
      "text/plain": [
       "[9.287328495882864,\n",
       " 9.77189460690925,\n",
       " 10.26384744488206,\n",
       " 10.763299613084392,\n",
       " 11.270365431324052,\n",
       " 11.785160962100292,\n",
       " 12.307804037169355,\n",
       " 12.838414284515068,\n",
       " 13.37711315573052,\n",
       " 13.924023953817183,\n",
       " 14.47927186140776,\n",
       " 15.042983969419318,\n",
       " 15.615289306143154,\n",
       " 16.196318866778157,\n",
       " 16.78620564341434,\n",
       " 17.385084655473435,\n",
       " 17.993092980613568,\n",
       " 18.610369786105018,\n",
       " 19.23705636068425,\n",
       " 19.87329614689356,\n",
       " 20.51923477391373,\n",
       " 21.175020090897085,\n",
       " 21.840802200808795,\n",
       " 22.516733494783978,\n",
       " 23.202968687008585,\n",
       " 23.899664850131984,\n",
       " 24.606981451219376,\n",
       " 25.32508038825228,\n",
       " 26.05412602718546,\n",
       " 26.79428523956865,\n",
       " 27.5457274407419,\n",
       " 28.308624628613096,\n",
       " 29.08315142302665,\n",
       " 29.869485105732288,\n",
       " 30.667805660963154,\n",
       " 31.478295816632468,\n",
       " 32.30114108615819,\n",
       " 33.136529810925275,\n",
       " 33.98465320339519,\n",
       " 34.84570539087262,\n",
       " 35.719883459939325,\n",
       " 36.60738750156541,\n",
       " 37.50842065690821,\n",
       " 38.423189163809305,\n",
       " 39.35190240400046,\n",
       " 40.294772951029046,\n",
       " 41.25201661891408,\n",
       " 42.223852511543996,\n",
       " 43.21050307282745,\n",
       " 44.21219413760855]"
      ]
     },
     "execution_count": 120,
     "metadata": {},
     "output_type": "execute_result"
    }
   ],
   "source": [
    "intrinsic_values_call"
   ]
  }
 ],
 "metadata": {
  "colab": {
   "authorship_tag": "ABX9TyNiZJxjQTeBTGwLaAyWYeEl",
   "provenance": []
  },
  "kernelspec": {
   "display_name": "Python 3 (ipykernel)",
   "language": "python",
   "name": "python3"
  },
  "language_info": {
   "codemirror_mode": {
    "name": "ipython",
    "version": 3
   },
   "file_extension": ".py",
   "mimetype": "text/x-python",
   "name": "python",
   "nbconvert_exporter": "python",
   "pygments_lexer": "ipython3",
   "version": "3.10.12"
  }
 },
 "nbformat": 4,
 "nbformat_minor": 1
}
