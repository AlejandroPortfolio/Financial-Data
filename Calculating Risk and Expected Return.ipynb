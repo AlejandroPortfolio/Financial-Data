{
 "cells": [
  {
   "cell_type": "code",
   "execution_count": 2,
   "id": "49d9d32c",
   "metadata": {},
   "outputs": [],
   "source": [
    "#import the necessary libraries\n",
    "import yfinance as yahoofinance\n",
    "import pandas as pd\n",
    "import numpy as np\n",
    "from sklearn.linear_model import LinearRegression\n",
    "import matplotlib.pyplot as plt"
   ]
  },
  {
   "cell_type": "code",
   "execution_count": 3,
   "id": "10374900",
   "metadata": {},
   "outputs": [
    {
     "name": "stdout",
     "output_type": "stream",
     "text": [
      "[*********************100%***********************]  5 of 5 completed\n",
      "[*********************100%***********************]  5 of 5 completed\n"
     ]
    }
   ],
   "source": [
    "#Download the market(S&P500) and the other stocks\n",
    "stock = ['^GSPC','MU','AMD','NVDA','ROKU']\n",
    "data = yahoofinance.download(stock)\n",
    "ticker = yahoofinance.Tickers(stock)\n",
    "data = ticker.history(period='5y', interval='1mo')"
   ]
  },
  {
   "cell_type": "code",
   "execution_count": 4,
   "id": "93c47357",
   "metadata": {},
   "outputs": [
    {
     "data": {
      "text/html": [
       "<div>\n",
       "<style scoped>\n",
       "    .dataframe tbody tr th:only-of-type {\n",
       "        vertical-align: middle;\n",
       "    }\n",
       "\n",
       "    .dataframe tbody tr th {\n",
       "        vertical-align: top;\n",
       "    }\n",
       "\n",
       "    .dataframe thead th {\n",
       "        text-align: right;\n",
       "    }\n",
       "</style>\n",
       "<table border=\"1\" class=\"dataframe\">\n",
       "  <thead>\n",
       "    <tr style=\"text-align: right;\">\n",
       "      <th></th>\n",
       "      <th>AMD</th>\n",
       "      <th>MU</th>\n",
       "      <th>NVDA</th>\n",
       "      <th>ROKU</th>\n",
       "      <th>^GSPC</th>\n",
       "    </tr>\n",
       "    <tr>\n",
       "      <th>Date</th>\n",
       "      <th></th>\n",
       "      <th></th>\n",
       "      <th></th>\n",
       "      <th></th>\n",
       "      <th></th>\n",
       "    </tr>\n",
       "  </thead>\n",
       "  <tbody>\n",
       "    <tr>\n",
       "      <th>2017-11-01</th>\n",
       "      <td>10.890000</td>\n",
       "      <td>42.056782</td>\n",
       "      <td>49.649464</td>\n",
       "      <td>43.900002</td>\n",
       "      <td>2647.580078</td>\n",
       "    </tr>\n",
       "    <tr>\n",
       "      <th>2017-11-22</th>\n",
       "      <td>NaN</td>\n",
       "      <td>NaN</td>\n",
       "      <td>NaN</td>\n",
       "      <td>NaN</td>\n",
       "      <td>NaN</td>\n",
       "    </tr>\n",
       "    <tr>\n",
       "      <th>2017-12-01</th>\n",
       "      <td>10.280000</td>\n",
       "      <td>40.796764</td>\n",
       "      <td>47.899178</td>\n",
       "      <td>51.779999</td>\n",
       "      <td>2673.610107</td>\n",
       "    </tr>\n",
       "    <tr>\n",
       "      <th>2018-01-01</th>\n",
       "      <td>13.740000</td>\n",
       "      <td>43.376324</td>\n",
       "      <td>60.845577</td>\n",
       "      <td>40.619999</td>\n",
       "      <td>2823.810059</td>\n",
       "    </tr>\n",
       "    <tr>\n",
       "      <th>2018-02-01</th>\n",
       "      <td>12.110000</td>\n",
       "      <td>48.426319</td>\n",
       "      <td>59.904903</td>\n",
       "      <td>40.770000</td>\n",
       "      <td>2713.830078</td>\n",
       "    </tr>\n",
       "    <tr>\n",
       "      <th>...</th>\n",
       "      <td>...</td>\n",
       "      <td>...</td>\n",
       "      <td>...</td>\n",
       "      <td>...</td>\n",
       "      <td>...</td>\n",
       "    </tr>\n",
       "    <tr>\n",
       "      <th>2022-09-01</th>\n",
       "      <td>63.360001</td>\n",
       "      <td>49.994514</td>\n",
       "      <td>121.353935</td>\n",
       "      <td>56.400002</td>\n",
       "      <td>3585.620117</td>\n",
       "    </tr>\n",
       "    <tr>\n",
       "      <th>2022-09-07</th>\n",
       "      <td>NaN</td>\n",
       "      <td>NaN</td>\n",
       "      <td>NaN</td>\n",
       "      <td>NaN</td>\n",
       "      <td>NaN</td>\n",
       "    </tr>\n",
       "    <tr>\n",
       "      <th>2022-10-01</th>\n",
       "      <td>57.849998</td>\n",
       "      <td>52.638935</td>\n",
       "      <td>115.000000</td>\n",
       "      <td>53.060001</td>\n",
       "      <td>3577.030029</td>\n",
       "    </tr>\n",
       "    <tr>\n",
       "      <th>2022-10-07</th>\n",
       "      <td>NaN</td>\n",
       "      <td>NaN</td>\n",
       "      <td>NaN</td>\n",
       "      <td>NaN</td>\n",
       "      <td>NaN</td>\n",
       "    </tr>\n",
       "    <tr>\n",
       "      <th>2022-10-13</th>\n",
       "      <td>58.939999</td>\n",
       "      <td>54.860001</td>\n",
       "      <td>119.599998</td>\n",
       "      <td>51.939999</td>\n",
       "      <td>3669.909912</td>\n",
       "    </tr>\n",
       "  </tbody>\n",
       "</table>\n",
       "<p>85 rows × 5 columns</p>\n",
       "</div>"
      ],
      "text/plain": [
       "                  AMD         MU        NVDA       ROKU        ^GSPC\n",
       "Date                                                                \n",
       "2017-11-01  10.890000  42.056782   49.649464  43.900002  2647.580078\n",
       "2017-11-22        NaN        NaN         NaN        NaN          NaN\n",
       "2017-12-01  10.280000  40.796764   47.899178  51.779999  2673.610107\n",
       "2018-01-01  13.740000  43.376324   60.845577  40.619999  2823.810059\n",
       "2018-02-01  12.110000  48.426319   59.904903  40.770000  2713.830078\n",
       "...               ...        ...         ...        ...          ...\n",
       "2022-09-01  63.360001  49.994514  121.353935  56.400002  3585.620117\n",
       "2022-09-07        NaN        NaN         NaN        NaN          NaN\n",
       "2022-10-01  57.849998  52.638935  115.000000  53.060001  3577.030029\n",
       "2022-10-07        NaN        NaN         NaN        NaN          NaN\n",
       "2022-10-13  58.939999  54.860001  119.599998  51.939999  3669.909912\n",
       "\n",
       "[85 rows x 5 columns]"
      ]
     },
     "execution_count": 4,
     "metadata": {},
     "output_type": "execute_result"
    }
   ],
   "source": [
    "data.Close"
   ]
  },
  {
   "cell_type": "code",
   "execution_count": 5,
   "id": "efaf352d",
   "metadata": {},
   "outputs": [],
   "source": [
    "close = data.Close"
   ]
  },
  {
   "cell_type": "code",
   "execution_count": 6,
   "id": "795e9b9c",
   "metadata": {},
   "outputs": [],
   "source": [
    "#Calculate the log returns of the stocks and the market\n",
    "log_returns = np.log(close/close.shift())"
   ]
  },
  {
   "cell_type": "code",
   "execution_count": 7,
   "id": "116deb69",
   "metadata": {
    "scrolled": false
   },
   "outputs": [],
   "source": [
    "log_returns.dropna(inplace=True)"
   ]
  },
  {
   "cell_type": "code",
   "execution_count": 8,
   "id": "0048119c",
   "metadata": {},
   "outputs": [],
   "source": [
    "#Calculate the Covariance of the stocks and the market\n",
    "covariance = log_returns.cov()"
   ]
  },
  {
   "cell_type": "code",
   "execution_count": 9,
   "id": "3c1cff9f",
   "metadata": {},
   "outputs": [],
   "source": [
    "#Calculate the variance of the market\n",
    "variance = log_returns['^GSPC'].var()"
   ]
  },
  {
   "cell_type": "code",
   "execution_count": 10,
   "id": "2c73078e",
   "metadata": {},
   "outputs": [
    {
     "data": {
      "text/plain": [
       "0.0026094252958790633"
      ]
     },
     "execution_count": 10,
     "metadata": {},
     "output_type": "execute_result"
    }
   ],
   "source": [
    "variance"
   ]
  },
  {
   "cell_type": "code",
   "execution_count": 11,
   "id": "52f4a115",
   "metadata": {},
   "outputs": [
    {
     "data": {
      "text/plain": [
       "AMD      2.214657\n",
       "MU       1.314235\n",
       "NVDA     1.517308\n",
       "ROKU     1.492304\n",
       "^GSPC    1.000000\n",
       "Name: ^GSPC, dtype: float64"
      ]
     },
     "execution_count": 11,
     "metadata": {},
     "output_type": "execute_result"
    }
   ],
   "source": [
    "#Formula for calculating Beta\n",
    "beta = covariance.loc['^GSPC'] / variance\n",
    "beta"
   ]
  },
  {
   "cell_type": "code",
   "execution_count": 23,
   "id": "44d10d86",
   "metadata": {},
   "outputs": [],
   "source": [
    "#Assing x and y Values to create a linear regression model\n",
    "x = log_returns['^GSPC'].iloc[1:].to_numpy().reshape(-1,1)\n",
    "y = log_returns['AMD'].iloc[1:].to_numpy().reshape(-1,1)"
   ]
  },
  {
   "cell_type": "code",
   "execution_count": 24,
   "id": "4db8a63b",
   "metadata": {},
   "outputs": [
    {
     "data": {
      "text/plain": [
       "2.133086190329136"
      ]
     },
     "execution_count": 24,
     "metadata": {},
     "output_type": "execute_result"
    }
   ],
   "source": [
    "#Slope is the Beta in the linear Regression and can varie from the value we got using the formula\n",
    "linear_regression = LinearRegression()\n",
    "linear_regression.fit(x,y)\n",
    "\n",
    "linear_regression.coef_[0,0]"
   ]
  },
  {
   "cell_type": "code",
   "execution_count": 14,
   "id": "ce40b6fb",
   "metadata": {},
   "outputs": [
    {
     "data": {
      "text/plain": [
       "<matplotlib.collections.PathCollection at 0x2ae3eeef4f0>"
      ]
     },
     "execution_count": 14,
     "metadata": {},
     "output_type": "execute_result"
    },
    {
     "data": {
      "image/png": "[encoded data removed]",
      "text/plain": [
       "<Figure size 1152x576 with 1 Axes>"
      ]
     },
     "metadata": {
      "needs_background": "light"
     },
     "output_type": "display_data"
    }
   ],
   "source": [
    "plt.figure(figsize=(16,8))\n",
    "plt.scatter(x,y)"
   ]
  },
  {
   "cell_type": "code",
   "execution_count": 15,
   "id": "0cf8925a",
   "metadata": {},
   "outputs": [],
   "source": [
    "#Calculating the expected market return of a stock based on their Beta\n",
    "risk_free_rate = (3.769-8.3)/100"
   ]
  },
  {
   "cell_type": "code",
   "execution_count": 16,
   "id": "c4eb1275",
   "metadata": {
    "scrolled": true
   },
   "outputs": [
    {
     "data": {
      "text/plain": [
       "-0.04531"
      ]
     },
     "execution_count": 16,
     "metadata": {},
     "output_type": "execute_result"
    }
   ],
   "source": [
    "risk_free_rate"
   ]
  },
  {
   "cell_type": "code",
   "execution_count": 17,
   "id": "fa280f1b",
   "metadata": {},
   "outputs": [],
   "source": [
    "#Calculate the market risk premium\n",
    "market_risk_premium = 0.10 - risk_free_rate"
   ]
  },
  {
   "cell_type": "code",
   "execution_count": 18,
   "id": "a7b8ca06",
   "metadata": {},
   "outputs": [],
   "source": [
    "#Use the values that were calculated to calculate the expected market return using the Capital Asset Price Model(CAPM)\n",
    "capital_asset_price_model = risk_free_rate + (beta['ROKU']*market_risk_premium)"
   ]
  },
  {
   "cell_type": "code",
   "execution_count": 19,
   "id": "ecbe6534",
   "metadata": {},
   "outputs": [
    {
     "data": {
      "text/plain": [
       "0.17153671314859587"
      ]
     },
     "execution_count": 19,
     "metadata": {},
     "output_type": "execute_result"
    }
   ],
   "source": [
    "capital_asset_price_model"
   ]
  },
  {
   "cell_type": "code",
   "execution_count": 20,
   "id": "a2549882",
   "metadata": {
    "scrolled": true
   },
   "outputs": [
    {
     "data": {
      "text/plain": [
       "array([0.04651077])"
      ]
     },
     "execution_count": 20,
     "metadata": {},
     "output_type": "execute_result"
    }
   ],
   "source": [
    "#Y-intercept in the linear regressing is the Alpha\n",
    "#Alpha shows the performance of the stock against the market in this scenario, \n",
    "#A positive Alpha can be assume to be outperforming the market while a\n",
    "#negative alpha assume the stock is underperforming the market \n",
    "linear_regression.intercept_"
   ]
  },
  {
   "cell_type": "code",
   "execution_count": 21,
   "id": "1d743642",
   "metadata": {},
   "outputs": [],
   "source": [
    "#Just to clean up the value and store it in a table\n",
    "table = pd.Series(linear_regression.intercept_)\n",
    "spread = pd.DataFrame(table)"
   ]
  },
  {
   "cell_type": "code",
   "execution_count": 22,
   "id": "bdb2bcea",
   "metadata": {},
   "outputs": [
    {
     "data": {
      "text/html": [
       "<div>\n",
       "<style scoped>\n",
       "    .dataframe tbody tr th:only-of-type {\n",
       "        vertical-align: middle;\n",
       "    }\n",
       "\n",
       "    .dataframe tbody tr th {\n",
       "        vertical-align: top;\n",
       "    }\n",
       "\n",
       "    .dataframe thead th {\n",
       "        text-align: right;\n",
       "    }\n",
       "</style>\n",
       "<table border=\"1\" class=\"dataframe\">\n",
       "  <thead>\n",
       "    <tr style=\"text-align: right;\">\n",
       "      <th></th>\n",
       "      <th>0</th>\n",
       "    </tr>\n",
       "  </thead>\n",
       "  <tbody>\n",
       "    <tr>\n",
       "      <th>0</th>\n",
       "      <td>0.046511</td>\n",
       "    </tr>\n",
       "  </tbody>\n",
       "</table>\n",
       "</div>"
      ],
      "text/plain": [
       "          0\n",
       "0  0.046511"
      ]
     },
     "execution_count": 22,
     "metadata": {},
     "output_type": "execute_result"
    }
   ],
   "source": [
    "spread"
   ]
  }
 ],
 "metadata": {
  "kernelspec": {
   "display_name": "Python 3 (ipykernel)",
   "language": "python",
   "name": "python3"
  },
  "language_info": {
   "codemirror_mode": {
    "name": "ipython",
    "version": 3
   },
   "file_extension": ".py",
   "mimetype": "text/x-python",
   "name": "python",
   "nbconvert_exporter": "python",
   "pygments_lexer": "ipython3",
   "version": "3.9.12"
  }
 },
 "nbformat": 4,
 "nbformat_minor": 5
}
