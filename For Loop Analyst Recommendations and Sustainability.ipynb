{
 "cells": [
  {
   "cell_type": "code",
   "execution_count": 2,
   "id": "8bf9477e",
   "metadata": {},
   "outputs": [],
   "source": [
    "#Import the necessary libraries\n",
    "import yfinance as yahoofinance\n",
    "import yahoo_fin.stock_info as si\n",
    "import pandas as pd"
   ]
  },
  {
   "cell_type": "code",
   "execution_count": 3,
   "id": "9da58a27",
   "metadata": {},
   "outputs": [],
   "source": [
    "stock = [\"AAPL\", \"AMZN\", \"TSLA\",\"MSFT\"]"
   ]
  },
  {
   "cell_type": "code",
   "execution_count": 4,
   "id": "4d324cad",
   "metadata": {
    "scrolled": false
   },
   "outputs": [
    {
     "name": "stdout",
     "output_type": "stream",
     "text": [
      "                                   Firm      To Grade From Grade Action\n",
      "Date                                                                   \n",
      "2012-02-09 08:17:00   Canaccord Genuity           Buy              main\n",
      "2012-03-08 07:33:00      FBN Securities    Outperform              main\n",
      "2012-03-13 06:08:00           Jefferies           Buy              main\n",
      "2012-03-14 06:13:00      Morgan Stanley    Overweight              main\n",
      "2012-03-14 08:21:00   Canaccord Genuity           Buy              main\n",
      "...                                 ...           ...        ...    ...\n",
      "2022-09-20 12:49:31  Evercore ISI Group    Outperform              main\n",
      "2022-09-29 10:27:52   B of A Securities       Neutral        Buy   down\n",
      "2022-09-29 10:49:15          Rosenblatt           Buy    Neutral     up\n",
      "2022-10-11 11:11:31            Barclays  Equal-Weight              main\n",
      "2022-10-13 11:57:43       Credit Suisse    Outperform              main\n",
      "\n",
      "[860 rows x 4 columns]\n",
      "                                  Firm      To Grade From Grade Action\n",
      "Date                                                                  \n",
      "2011-12-29 12:47:00       PiperJaffray                            main\n",
      "2012-02-15 07:33:00       PiperJaffray    Overweight              main\n",
      "2012-02-16 06:17:00     Morgan Stanley  Equal-Weight              down\n",
      "2012-04-02 06:06:00       Bank oferica       Neutral              down\n",
      "2012-04-27 06:21:00       Bank oferica           Buy                up\n",
      "...                                ...           ...        ...    ...\n",
      "2022-07-29 13:47:03          Jefferies           Buy              main\n",
      "2022-07-29 13:49:55        Cowen & Co.    Outperform              main\n",
      "2022-07-29 13:52:53                UBS           Buy              main\n",
      "2022-09-28 12:58:45  Truist Securities           Buy              main\n",
      "2022-10-03 14:14:14  B of A Securities           Buy              main\n",
      "\n",
      "[539 rows x 4 columns]\n",
      "                                  Firm    To Grade From Grade Action\n",
      "Date                                                                \n",
      "2012-02-16 07:42:00          JP Morgan  Overweight              main\n",
      "2012-02-16 13:53:00         Wunderlich        Hold              down\n",
      "2012-02-17 06:17:00         Oxen Group         Buy              init\n",
      "2012-03-26 07:31:00         Wunderlich         Buy                up\n",
      "2012-05-22 05:57:00        Maxim Group         Buy              init\n",
      "...                                ...         ...        ...    ...\n",
      "2022-09-29 13:00:10      Piper Sandler  Overweight              main\n",
      "2022-10-03 12:52:09  Truist Securities         Buy              main\n",
      "2022-10-04 13:16:16      Goldman Sachs         Buy              main\n",
      "2022-10-06 11:27:43             Mizuho         Buy              main\n",
      "2022-10-10 14:26:42     Morgan Stanley  Overweight              main\n",
      "\n",
      "[488 rows x 4 columns]\n",
      "                                 Firm       To Grade From Grade Action\n",
      "Date                                                                  \n",
      "2012-03-16 08:19:00    Argus Research            Buy                up\n",
      "2012-03-19 14:00:00    Hilliard Lyons  Long-Term Buy              main\n",
      "2012-03-22 07:03:00    Morgan Stanley     Overweight              main\n",
      "2012-04-03 11:53:00               UBS            Buy              main\n",
      "2012-04-20 06:18:00     Deutsche Bank            Buy              main\n",
      "...                               ...            ...        ...    ...\n",
      "2022-07-29 09:11:53    Wolfe Research     Outperform              main\n",
      "2022-08-12 10:54:35        Guggenheim        Neutral              init\n",
      "2022-09-22 13:45:58  MoffettNathanson           Hold              init\n",
      "2022-10-04 13:00:11       Oppenheimer     Outperform              main\n",
      "2022-10-12 11:43:56       Wells Fargo     Overweight              main\n",
      "\n",
      "[397 rows x 4 columns]\n"
     ]
    }
   ],
   "source": [
    "#Analyst recommendations\n",
    "for i in range(len(stock)):\n",
    "    data = yahoofinance.Ticker(stock[i])\n",
    "    data.recommendations\n",
    "    #data.recommendations.to_csv(f'Data_2.csv')\n",
    "    print(data.recommendations)"
   ]
  },
  {
   "cell_type": "code",
   "execution_count": null,
   "id": "3ca7f3df",
   "metadata": {
    "scrolled": false
   },
   "outputs": [
    {
     "name": "stdout",
     "output_type": "stream",
     "text": [
      "                                     Value\n",
      "2022-8                                    \n",
      "palmOil                              False\n",
      "controversialWeapons                 False\n",
      "gambling                             False\n",
      "socialScore                           6.86\n",
      "nuclear                              False\n",
      "furLeather                           False\n",
      "alcoholic                            False\n",
      "gmo                                  False\n",
      "catholic                             False\n",
      "socialPercentile                      None\n",
      "peerCount                               55\n",
      "governanceScore                       9.18\n",
      "environmentPercentile                 None\n",
      "animalTesting                        False\n",
      "tobacco                              False\n",
      "totalEsg                             16.68\n",
      "highestControversy                       3\n",
      "esgPerformance                  UNDER_PERF\n",
      "coal                                 False\n",
      "pesticides                           False\n",
      "adult                                False\n",
      "percentile                           14.68\n",
      "peerGroup              Technology Hardware\n",
      "smallArms                            False\n",
      "environmentScore                      0.65\n",
      "governancePercentile                  None\n",
      "militaryContract                     False\n"
     ]
    }
   ],
   "source": [
    "#Get the ESG score for the stocks\n",
    "for i in range(len(stock)):\n",
    "    data = yahoofinance.Ticker(stock[i])\n",
    "    data.sustainability\n",
    "    #data.recommendations.to_csv(f'Data_2.csv')\n",
    "    print(data.sustainability)"
   ]
  }
 ],
 "metadata": {
  "kernelspec": {
   "display_name": "Python 3 (ipykernel)",
   "language": "python",
   "name": "python3"
  },
  "language_info": {
   "codemirror_mode": {
    "name": "ipython",
    "version": 3
   },
   "file_extension": ".py",
   "mimetype": "text/x-python",
   "name": "python",
   "nbconvert_exporter": "python",
   "pygments_lexer": "ipython3",
   "version": "3.9.12"
  }
 },
 "nbformat": 4,
 "nbformat_minor": 5
}
