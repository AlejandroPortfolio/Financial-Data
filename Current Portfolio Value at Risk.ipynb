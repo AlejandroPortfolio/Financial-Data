{
 "cells": [
  {
   "cell_type": "code",
   "execution_count": 1,
   "id": "ceef5c0c",
   "metadata": {},
   "outputs": [],
   "source": [
    "import yfinance as yahoofinance\n",
    "import matplotlib.pyplot as plt\n",
    "from scipy.stats import norm\n",
    "import numpy as np\n",
    "import pandas as pd"
   ]
  },
  {
   "cell_type": "code",
   "execution_count": 2,
   "id": "fb5be8fa",
   "metadata": {
    "scrolled": true
   },
   "outputs": [
    {
     "name": "stdout",
     "output_type": "stream",
     "text": [
      "QTWO,SSTI,OPRX,RDVT,CNNE,EVBG,RMNI,FLGT,APPS,CZR\n",
      "[*********************100%%**********************]  10 of 10 completed\n",
      "[*********************100%%**********************]  10 of 10 completed\n"
     ]
    }
   ],
   "source": [
    "#Download the market(S&P500) and the other stocks\n",
    "stock = input()\n",
    "data = yahoofinance.download(stock)\n",
    "ticker = yahoofinance.Tickers(stock)\n",
    "data = ticker.history(period='1y')"
   ]
  },
  {
   "cell_type": "code",
   "execution_count": 3,
   "id": "c8c3196e",
   "metadata": {},
   "outputs": [
    {
     "data": {
      "text/plain": [
       "10"
      ]
     },
     "execution_count": 3,
     "metadata": {},
     "output_type": "execute_result"
    }
   ],
   "source": [
    "stock_list = stock.split(\",\")\n",
    "len(stock_list)"
   ]
  },
  {
   "cell_type": "code",
   "execution_count": 4,
   "id": "e29ba01f",
   "metadata": {},
   "outputs": [],
   "source": [
    "portfolio = []\n",
    "def invested(array):\n",
    "    for i in range(len(array)):\n",
    "        stock = array[i]\n",
    "        data = yahoofinance.download(stock)\n",
    "        ticker = yahoofinance.Ticker(stock)\n",
    "        data = ticker.history(period='1y')\n",
    "        price = data.Close[-1]\n",
    "        print(\"Stock Price $\",round(price,2))\n",
    "        print(\"Amount of Shares\", stock, \":\")\n",
    "        total = price * float(input())\n",
    "        portfolio.append(round(total,2))"
   ]
  },
  {
   "cell_type": "code",
   "execution_count": 5,
   "id": "90724b9c",
   "metadata": {
    "scrolled": false
   },
   "outputs": [
    {
     "name": "stdout",
     "output_type": "stream",
     "text": [
      "[*********************100%%**********************]  1 of 1 completed\n",
      "Stock Price $ 43.91\n",
      "Amount of Shares QTWO :\n",
      "0.212\n",
      "[*********************100%%**********************]  1 of 1 completed\n",
      "Stock Price $ 25.16\n",
      "Amount of Shares SSTI :\n",
      "0.352\n",
      "[*********************100%%**********************]  1 of 1 completed\n",
      "Stock Price $ 14.33\n",
      "Amount of Shares OPRX :\n",
      "0.553\n",
      "[*********************100%%**********************]  1 of 1 completed\n",
      "Stock Price $ 20.21\n",
      "Amount of Shares RDVT :\n",
      "0.378\n",
      "[*********************100%%**********************]  1 of 1 completed\n",
      "Stock Price $ 19.93\n",
      "Amount of Shares CNNE :\n",
      "0.347\n",
      "[*********************100%%**********************]  1 of 1 completed\n",
      "Stock Price $ 24.63\n",
      "Amount of Shares EVBG :\n",
      "0.258\n",
      "[*********************100%%**********************]  1 of 1 completed\n",
      "Stock Price $ 3.28\n",
      "Amount of Shares RMNI :\n",
      "1.819\n",
      "[*********************100%%**********************]  1 of 1 completed\n",
      "Stock Price $ 29.92\n",
      "Amount of Shares FLGT :\n",
      "0.188\n",
      "[*********************100%%**********************]  1 of 1 completed\n",
      "Stock Price $ 6.98\n",
      "Amount of Shares APPS :\n",
      "0.733\n",
      "[*********************100%%**********************]  1 of 1 completed\n",
      "Stock Price $ 47.67\n",
      "Amount of Shares CZR :\n",
      "0.018\n"
     ]
    }
   ],
   "source": [
    "invested(stock_list)"
   ]
  },
  {
   "cell_type": "code",
   "execution_count": 6,
   "id": "e05672ef",
   "metadata": {},
   "outputs": [
    {
     "name": "stdout",
     "output_type": "stream",
     "text": [
      "0    64.56\n",
      "dtype: float64\n"
     ]
    }
   ],
   "source": [
    "portfolio_amount = pd.DataFrame(portfolio).sum()\n",
    "portfolio_amount = portfolio_amount\n",
    "portfolio_amount.tolist()\n",
    "print(portfolio_amount)"
   ]
  },
  {
   "cell_type": "code",
   "execution_count": 7,
   "id": "884afc77",
   "metadata": {},
   "outputs": [],
   "source": [
    "weighted = []\n",
    "def weight(amount, array):\n",
    "    for i in range(len(array)):\n",
    "        stock = array[i]\n",
    "        data = yahoofinance.download(stock)\n",
    "        ticker = yahoofinance.Ticker(stock)\n",
    "        data = ticker.history(period='1y')\n",
    "        price = data.Close[-1]\n",
    "        print(\"Stock Price $\",round(price,2))\n",
    "        print(\"Amount of Shares\", stock, \":\")\n",
    "        weights = (price*float(input()))/amount\n",
    "        weighted.append(weights)"
   ]
  },
  {
   "cell_type": "code",
   "execution_count": 8,
   "id": "63992176",
   "metadata": {},
   "outputs": [
    {
     "name": "stdout",
     "output_type": "stream",
     "text": [
      "[*********************100%%**********************]  1 of 1 completed\n",
      "Stock Price $ 43.91\n",
      "Amount of Shares QTWO :\n",
      "0.212\n",
      "[*********************100%%**********************]  1 of 1 completed\n",
      "Stock Price $ 25.16\n",
      "Amount of Shares SSTI :\n",
      "0.352\n",
      "[*********************100%%**********************]  1 of 1 completed\n",
      "Stock Price $ 14.33\n",
      "Amount of Shares OPRX :\n",
      "0.553\n",
      "[*********************100%%**********************]  1 of 1 completed\n",
      "Stock Price $ 20.21\n",
      "Amount of Shares RDVT :\n",
      "0.378\n",
      "[*********************100%%**********************]  1 of 1 completed\n",
      "Stock Price $ 19.94\n",
      "Amount of Shares CNNE :\n",
      "0.347\n",
      "[*********************100%%**********************]  1 of 1 completed\n",
      "Stock Price $ 24.63\n",
      "Amount of Shares EVBG :\n",
      "0.258\n",
      "[*********************100%%**********************]  1 of 1 completed\n",
      "Stock Price $ 3.27\n",
      "Amount of Shares RMNI :\n",
      "1.819\n",
      "[*********************100%%**********************]  1 of 1 completed\n",
      "Stock Price $ 29.94\n",
      "Amount of Shares FLGT :\n",
      "0.188\n",
      "[*********************100%%**********************]  1 of 1 completed\n",
      "Stock Price $ 6.97\n",
      "Amount of Shares APPS :\n",
      "0.733\n",
      "[*********************100%%**********************]  1 of 1 completed\n",
      "Stock Price $ 47.69\n",
      "Amount of Shares CZR :\n",
      "0.018\n"
     ]
    }
   ],
   "source": [
    "weight(portfolio_amount,stock_list)"
   ]
  },
  {
   "cell_type": "code",
   "execution_count": 9,
   "id": "c18c2db1",
   "metadata": {},
   "outputs": [],
   "source": [
    "weighted = pd.DataFrame(weighted)[0]"
   ]
  },
  {
   "cell_type": "code",
   "execution_count": 10,
   "id": "13c33cb6",
   "metadata": {},
   "outputs": [],
   "source": [
    "weighted = weighted.values.tolist()"
   ]
  },
  {
   "cell_type": "code",
   "execution_count": 11,
   "id": "0236f918",
   "metadata": {},
   "outputs": [],
   "source": [
    "#weighted.clear()"
   ]
  },
  {
   "cell_type": "code",
   "execution_count": 12,
   "id": "1b0cafdb",
   "metadata": {},
   "outputs": [],
   "source": [
    "returns = (data.Close - data.Close.shift(1))/data.Close.shift(1)\n",
    "stdev = returns.std() * (252**0.5)"
   ]
  },
  {
   "cell_type": "code",
   "execution_count": 13,
   "id": "cb259180",
   "metadata": {},
   "outputs": [
    {
     "data": {
      "text/plain": [
       "APPS    0.763697\n",
       "CNNE    0.293193\n",
       "CZR     0.456163\n",
       "EVBG    0.495238\n",
       "FLGT    0.446641\n",
       "OPRX    0.613923\n",
       "QTWO    0.521256\n",
       "RDVT    0.438858\n",
       "RMNI    0.689741\n",
       "SSTI    0.608726\n",
       "dtype: float64"
      ]
     },
     "execution_count": 13,
     "metadata": {},
     "output_type": "execute_result"
    }
   ],
   "source": [
    "stdev"
   ]
  },
  {
   "cell_type": "code",
   "execution_count": 14,
   "id": "728b9073",
   "metadata": {
    "scrolled": false
   },
   "outputs": [
    {
     "data": {
      "text/html": [
       "<div>\n",
       "<style scoped>\n",
       "    .dataframe tbody tr th:only-of-type {\n",
       "        vertical-align: middle;\n",
       "    }\n",
       "\n",
       "    .dataframe tbody tr th {\n",
       "        vertical-align: top;\n",
       "    }\n",
       "\n",
       "    .dataframe thead th {\n",
       "        text-align: right;\n",
       "    }\n",
       "</style>\n",
       "<table border=\"1\" class=\"dataframe\">\n",
       "  <thead>\n",
       "    <tr style=\"text-align: right;\">\n",
       "      <th></th>\n",
       "      <th>APPS</th>\n",
       "      <th>CNNE</th>\n",
       "      <th>CZR</th>\n",
       "      <th>EVBG</th>\n",
       "      <th>FLGT</th>\n",
       "      <th>OPRX</th>\n",
       "      <th>QTWO</th>\n",
       "      <th>RDVT</th>\n",
       "      <th>RMNI</th>\n",
       "      <th>SSTI</th>\n",
       "    </tr>\n",
       "  </thead>\n",
       "  <tbody>\n",
       "    <tr>\n",
       "      <th>APPS</th>\n",
       "      <td>0.002314</td>\n",
       "      <td>0.000371</td>\n",
       "      <td>0.000611</td>\n",
       "      <td>0.000668</td>\n",
       "      <td>0.000428</td>\n",
       "      <td>0.000457</td>\n",
       "      <td>0.000722</td>\n",
       "      <td>0.000370</td>\n",
       "      <td>0.000444</td>\n",
       "      <td>0.000389</td>\n",
       "    </tr>\n",
       "    <tr>\n",
       "      <th>CNNE</th>\n",
       "      <td>0.000371</td>\n",
       "      <td>0.000341</td>\n",
       "      <td>0.000296</td>\n",
       "      <td>0.000255</td>\n",
       "      <td>0.000198</td>\n",
       "      <td>0.000204</td>\n",
       "      <td>0.000294</td>\n",
       "      <td>0.000121</td>\n",
       "      <td>0.000173</td>\n",
       "      <td>0.000164</td>\n",
       "    </tr>\n",
       "    <tr>\n",
       "      <th>CZR</th>\n",
       "      <td>0.000611</td>\n",
       "      <td>0.000296</td>\n",
       "      <td>0.000826</td>\n",
       "      <td>0.000411</td>\n",
       "      <td>0.000313</td>\n",
       "      <td>0.000356</td>\n",
       "      <td>0.000471</td>\n",
       "      <td>0.000195</td>\n",
       "      <td>0.000317</td>\n",
       "      <td>0.000338</td>\n",
       "    </tr>\n",
       "    <tr>\n",
       "      <th>EVBG</th>\n",
       "      <td>0.000668</td>\n",
       "      <td>0.000255</td>\n",
       "      <td>0.000411</td>\n",
       "      <td>0.000973</td>\n",
       "      <td>0.000309</td>\n",
       "      <td>0.000267</td>\n",
       "      <td>0.000417</td>\n",
       "      <td>0.000119</td>\n",
       "      <td>0.000260</td>\n",
       "      <td>0.000295</td>\n",
       "    </tr>\n",
       "    <tr>\n",
       "      <th>FLGT</th>\n",
       "      <td>0.000428</td>\n",
       "      <td>0.000198</td>\n",
       "      <td>0.000313</td>\n",
       "      <td>0.000309</td>\n",
       "      <td>0.000792</td>\n",
       "      <td>0.000182</td>\n",
       "      <td>0.000252</td>\n",
       "      <td>0.000171</td>\n",
       "      <td>0.000194</td>\n",
       "      <td>0.000149</td>\n",
       "    </tr>\n",
       "    <tr>\n",
       "      <th>OPRX</th>\n",
       "      <td>0.000457</td>\n",
       "      <td>0.000204</td>\n",
       "      <td>0.000356</td>\n",
       "      <td>0.000267</td>\n",
       "      <td>0.000182</td>\n",
       "      <td>0.001496</td>\n",
       "      <td>0.000436</td>\n",
       "      <td>0.000103</td>\n",
       "      <td>0.000253</td>\n",
       "      <td>0.000231</td>\n",
       "    </tr>\n",
       "    <tr>\n",
       "      <th>QTWO</th>\n",
       "      <td>0.000722</td>\n",
       "      <td>0.000294</td>\n",
       "      <td>0.000471</td>\n",
       "      <td>0.000417</td>\n",
       "      <td>0.000252</td>\n",
       "      <td>0.000436</td>\n",
       "      <td>0.001078</td>\n",
       "      <td>0.000202</td>\n",
       "      <td>0.000351</td>\n",
       "      <td>0.000154</td>\n",
       "    </tr>\n",
       "    <tr>\n",
       "      <th>RDVT</th>\n",
       "      <td>0.000370</td>\n",
       "      <td>0.000121</td>\n",
       "      <td>0.000195</td>\n",
       "      <td>0.000119</td>\n",
       "      <td>0.000171</td>\n",
       "      <td>0.000103</td>\n",
       "      <td>0.000202</td>\n",
       "      <td>0.000764</td>\n",
       "      <td>0.000078</td>\n",
       "      <td>0.000098</td>\n",
       "    </tr>\n",
       "    <tr>\n",
       "      <th>RMNI</th>\n",
       "      <td>0.000444</td>\n",
       "      <td>0.000173</td>\n",
       "      <td>0.000317</td>\n",
       "      <td>0.000260</td>\n",
       "      <td>0.000194</td>\n",
       "      <td>0.000253</td>\n",
       "      <td>0.000351</td>\n",
       "      <td>0.000078</td>\n",
       "      <td>0.001888</td>\n",
       "      <td>0.000226</td>\n",
       "    </tr>\n",
       "    <tr>\n",
       "      <th>SSTI</th>\n",
       "      <td>0.000389</td>\n",
       "      <td>0.000164</td>\n",
       "      <td>0.000338</td>\n",
       "      <td>0.000295</td>\n",
       "      <td>0.000149</td>\n",
       "      <td>0.000231</td>\n",
       "      <td>0.000154</td>\n",
       "      <td>0.000098</td>\n",
       "      <td>0.000226</td>\n",
       "      <td>0.001470</td>\n",
       "    </tr>\n",
       "  </tbody>\n",
       "</table>\n",
       "</div>"
      ],
      "text/plain": [
       "          APPS      CNNE       CZR      EVBG      FLGT      OPRX      QTWO  \\\n",
       "APPS  0.002314  0.000371  0.000611  0.000668  0.000428  0.000457  0.000722   \n",
       "CNNE  0.000371  0.000341  0.000296  0.000255  0.000198  0.000204  0.000294   \n",
       "CZR   0.000611  0.000296  0.000826  0.000411  0.000313  0.000356  0.000471   \n",
       "EVBG  0.000668  0.000255  0.000411  0.000973  0.000309  0.000267  0.000417   \n",
       "FLGT  0.000428  0.000198  0.000313  0.000309  0.000792  0.000182  0.000252   \n",
       "OPRX  0.000457  0.000204  0.000356  0.000267  0.000182  0.001496  0.000436   \n",
       "QTWO  0.000722  0.000294  0.000471  0.000417  0.000252  0.000436  0.001078   \n",
       "RDVT  0.000370  0.000121  0.000195  0.000119  0.000171  0.000103  0.000202   \n",
       "RMNI  0.000444  0.000173  0.000317  0.000260  0.000194  0.000253  0.000351   \n",
       "SSTI  0.000389  0.000164  0.000338  0.000295  0.000149  0.000231  0.000154   \n",
       "\n",
       "          RDVT      RMNI      SSTI  \n",
       "APPS  0.000370  0.000444  0.000389  \n",
       "CNNE  0.000121  0.000173  0.000164  \n",
       "CZR   0.000195  0.000317  0.000338  \n",
       "EVBG  0.000119  0.000260  0.000295  \n",
       "FLGT  0.000171  0.000194  0.000149  \n",
       "OPRX  0.000103  0.000253  0.000231  \n",
       "QTWO  0.000202  0.000351  0.000154  \n",
       "RDVT  0.000764  0.000078  0.000098  \n",
       "RMNI  0.000078  0.001888  0.000226  \n",
       "SSTI  0.000098  0.000226  0.001470  "
      ]
     },
     "execution_count": 14,
     "metadata": {},
     "output_type": "execute_result"
    }
   ],
   "source": [
    "covariance = returns.cov()\n",
    "covariance"
   ]
  },
  {
   "cell_type": "code",
   "execution_count": 15,
   "id": "c8f5b1fe",
   "metadata": {},
   "outputs": [
    {
     "data": {
      "text/plain": [
       "[0.1441902101556903,\n",
       " 0.13715242010066941,\n",
       " 0.12273756600962549,\n",
       " 0.11832992029012801,\n",
       " 0.10717441427072479,\n",
       " 0.09842843530789626,\n",
       " 0.09213336377486567,\n",
       " 0.08718587516113432,\n",
       " 0.07917104144817244,\n",
       " 0.013296468018599157]"
      ]
     },
     "execution_count": 15,
     "metadata": {},
     "output_type": "execute_result"
    }
   ],
   "source": [
    "weighted"
   ]
  },
  {
   "cell_type": "code",
   "execution_count": 16,
   "id": "39d13b02",
   "metadata": {},
   "outputs": [
    {
     "data": {
      "text/plain": [
       "0.0004236849651872674"
      ]
     },
     "execution_count": 16,
     "metadata": {},
     "output_type": "execute_result"
    }
   ],
   "source": [
    "portfolio_variance = covariance.mul(weighted,axis=0).mul(weighted,axis=1).sum().sum()\n",
    "portfolio_variance"
   ]
  },
  {
   "cell_type": "code",
   "execution_count": 17,
   "id": "194b6db0",
   "metadata": {},
   "outputs": [
    {
     "data": {
      "text/plain": [
       "0.020583609139003475"
      ]
     },
     "execution_count": 17,
     "metadata": {},
     "output_type": "execute_result"
    }
   ],
   "source": [
    "portfolio_stdev = np.sqrt(portfolio_variance)\n",
    "portfolio_stdev"
   ]
  },
  {
   "cell_type": "code",
   "execution_count": 18,
   "id": "618ee507",
   "metadata": {},
   "outputs": [
    {
     "data": {
      "text/plain": [
       "0.3267546651957572"
      ]
     },
     "execution_count": 18,
     "metadata": {},
     "output_type": "execute_result"
    }
   ],
   "source": [
    "annual_portfolio_variance = portfolio_stdev * np.sqrt(252)\n",
    "annual_portfolio_variance"
   ]
  },
  {
   "cell_type": "code",
   "execution_count": 19,
   "id": "2c8201ac",
   "metadata": {},
   "outputs": [
    {
     "data": {
      "text/plain": [
       "0    1.04612\n",
       "dtype: float64"
      ]
     },
     "execution_count": 19,
     "metadata": {},
     "output_type": "execute_result"
    }
   ],
   "source": [
    "return_total = pd.DataFrame(returns.sum()).sum()\n",
    "return_total"
   ]
  },
  {
   "cell_type": "code",
   "execution_count": 20,
   "id": "f3f416d1",
   "metadata": {},
   "outputs": [
    {
     "data": {
      "text/plain": [
       "1.0459102547668018"
      ]
     },
     "execution_count": 20,
     "metadata": {},
     "output_type": "execute_result"
    }
   ],
   "source": [
    "portfolio_returns = np.dot(weighted,return_total.sum())\n",
    "portfolio_returns = portfolio_returns.sum()\n",
    "portfolio_returns"
   ]
  },
  {
   "cell_type": "code",
   "execution_count": 21,
   "id": "24614b28",
   "metadata": {},
   "outputs": [],
   "source": [
    "stock_list.insert(-1,\"^GSPC\")"
   ]
  },
  {
   "cell_type": "code",
   "execution_count": 22,
   "id": "8be4518b",
   "metadata": {},
   "outputs": [],
   "source": [
    "close = []\n",
    "cov = []\n",
    "var = []\n",
    "capm = []\n",
    "risk_free = []\n",
    "def capm_model(array):\n",
    "    stock = stock_list\n",
    "    data = yahoofinance.download(stock)\n",
    "    ticker = yahoofinance.Tickers(stock)\n",
    "    data = ticker.history(period='1y')\n",
    "    log_returns = np.log(data.Close/data.Close.shift())\n",
    "    log_returns.dropna(inplace=True)\n",
    "    covariance = log_returns.cov()\n",
    "    variance = log_returns['^GSPC'].var()\n",
    "    beta = covariance.loc['^GSPC'] / variance\n",
    "    risk_free_rate = (5.5-3.1)/100\n",
    "    market_risk_premium = 0.10 - risk_free_rate\n",
    "    for i in range(len(stock[0:len(stock)])):\n",
    "        capital_asset_price_model = risk_free_rate + (beta[stock[i]]*market_risk_premium)\n",
    "        capm.append(capital_asset_price_model)\n",
    "    close.append(data.Close)\n",
    "    cov.append(covariance)\n",
    "    var.append(variance)\n",
    "    risk_free.append(risk_free_rate)"
   ]
  },
  {
   "cell_type": "code",
   "execution_count": 23,
   "id": "a3a593fd",
   "metadata": {
    "scrolled": false
   },
   "outputs": [
    {
     "name": "stdout",
     "output_type": "stream",
     "text": [
      "[*********************100%%**********************]  11 of 11 completed\n",
      "[*********************100%%**********************]  11 of 11 completed\n"
     ]
    }
   ],
   "source": [
    "capm_model(stock_list)"
   ]
  },
  {
   "cell_type": "code",
   "execution_count": 24,
   "id": "71fb24dd",
   "metadata": {},
   "outputs": [
    {
     "data": {
      "text/plain": [
       "['QTWO',\n",
       " 'SSTI',\n",
       " 'OPRX',\n",
       " 'RDVT',\n",
       " 'CNNE',\n",
       " 'EVBG',\n",
       " 'RMNI',\n",
       " 'FLGT',\n",
       " 'APPS',\n",
       " '^GSPC',\n",
       " 'CZR']"
      ]
     },
     "execution_count": 24,
     "metadata": {},
     "output_type": "execute_result"
    }
   ],
   "source": [
    "stock_list"
   ]
  },
  {
   "cell_type": "code",
   "execution_count": 25,
   "id": "0751e14c",
   "metadata": {},
   "outputs": [
    {
     "data": {
      "text/plain": [
       "0.10000000000000003"
      ]
     },
     "execution_count": 25,
     "metadata": {},
     "output_type": "execute_result"
    }
   ],
   "source": [
    "market = stock_list.index(\"^GSPC\")\n",
    "market = capm[market]\n",
    "market"
   ]
  },
  {
   "cell_type": "code",
   "execution_count": 26,
   "id": "304ad55f",
   "metadata": {},
   "outputs": [],
   "source": [
    "stock_list.remove(\"^GSPC\")"
   ]
  },
  {
   "cell_type": "code",
   "execution_count": 27,
   "id": "35fceb85",
   "metadata": {},
   "outputs": [],
   "source": [
    "capm.remove(market)"
   ]
  },
  {
   "cell_type": "code",
   "execution_count": 28,
   "id": "36e3cac2",
   "metadata": {},
   "outputs": [
    {
     "data": {
      "text/plain": [
       "[0.19799707083894624,\n",
       " 0.10579228271438126,\n",
       " 0.1555949131508045,\n",
       " 0.09045336317936228,\n",
       " 0.1338314893560715,\n",
       " 0.17084298994147776,\n",
       " 0.13426186760767497,\n",
       " 0.12148709822839981,\n",
       " 0.21624404366796393,\n",
       " 0.1977800253570111]"
      ]
     },
     "execution_count": 28,
     "metadata": {},
     "output_type": "execute_result"
    }
   ],
   "source": [
    "capm"
   ]
  },
  {
   "cell_type": "code",
   "execution_count": 29,
   "id": "f339201b",
   "metadata": {
    "scrolled": false
   },
   "outputs": [
    {
     "data": {
      "text/plain": [
       "[               APPS       CNNE        CZR       EVBG       FLGT       OPRX  \\\n",
       " Date                                                                         \n",
       " 2022-12-28  14.0100  19.580000  39.990002  26.950001  29.230000  15.900000   \n",
       " 2022-12-29  15.3100  20.510000  41.439999  28.530001  30.030001  16.559999   \n",
       " 2022-12-30  15.2400  20.650000  41.599998  29.580000  29.780001  16.799999   \n",
       " 2023-01-03  15.0300  20.580000  42.259998  28.660000  30.660000  17.120001   \n",
       " 2023-01-04  15.8500  21.400000  45.389999  28.480000  31.080000  18.840000   \n",
       " ...             ...        ...        ...        ...        ...        ...   \n",
       " 2023-12-21   6.8900  19.790001  47.669998  24.059999  29.809999  14.250000   \n",
       " 2023-12-22   6.8300  19.719999  46.820000  24.370001  30.230000  14.000000   \n",
       " 2023-12-26   6.9700  19.850000  47.549999  24.700001  30.270000  14.080000   \n",
       " 2023-12-27   6.9900  19.860001  47.160000  24.559999  30.150000  14.100000   \n",
       " 2023-12-28   6.9731  19.930000  47.689999  24.629999  29.940001  14.329000   \n",
       " \n",
       "                  QTWO       RDVT  RMNI       SSTI        ^GSPC  \n",
       " Date                                                            \n",
       " 2022-12-28  24.530001  22.730000  3.73  30.510000  3783.219971  \n",
       " 2022-12-29  26.379999  22.740000  3.87  32.590000  3849.280029  \n",
       " 2022-12-30  26.870001  23.020000  3.81  33.830002  3839.500000  \n",
       " 2023-01-03  27.180000  22.719999  4.11  34.650002  3824.139893  \n",
       " 2023-01-04  28.559999  22.920000  4.17  34.230000  3852.969971  \n",
       " ...               ...        ...   ...        ...          ...  \n",
       " 2023-12-21  43.259998  20.500000  3.32  24.670000  4746.750000  \n",
       " 2023-12-22  43.419998  20.410000  3.37  24.280001  4754.629883  \n",
       " 2023-12-26  43.970001  20.299999  3.41  24.270000  4774.750000  \n",
       " 2023-12-27  44.119999  20.290001  3.31  25.530001  4781.580078  \n",
       " 2023-12-28  43.900002  20.209999  3.27  25.155001  4791.859863  \n",
       " \n",
       " [252 rows x 11 columns]]"
      ]
     },
     "execution_count": 29,
     "metadata": {},
     "output_type": "execute_result"
    }
   ],
   "source": [
    "close"
   ]
  },
  {
   "cell_type": "code",
   "execution_count": 30,
   "id": "224c15f3",
   "metadata": {},
   "outputs": [
    {
     "data": {
      "text/plain": [
       "0    0.75182\n",
       "dtype: float64"
      ]
     },
     "execution_count": 30,
     "metadata": {},
     "output_type": "execute_result"
    }
   ],
   "source": [
    "portfolio_value = portfolio\n",
    "portfolio_value = pd.DataFrame(portfolio_value).sum()\n",
    "days = 20\n",
    "trading_days = 252\n",
    "capm = pd.DataFrame(capm)\n",
    "expect = []\n",
    "for i in range(len(stock_list)):\n",
    "    expected = portfolio_amount * (capm[0][i]*weighted[i])\n",
    "    expect.append(expected)\n",
    "expect = pd.DataFrame(expect).sum()\n",
    "expect = expect * (days/trading_days)\n",
    "expect"
   ]
  },
  {
   "cell_type": "code",
   "execution_count": 31,
   "id": "1398e7fc",
   "metadata": {},
   "outputs": [
    {
     "data": {
      "text/plain": [
       "['QTWO', 'SSTI', 'OPRX', 'RDVT', 'CNNE', 'EVBG', 'RMNI', 'FLGT', 'APPS', 'CZR']"
      ]
     },
     "execution_count": 31,
     "metadata": {},
     "output_type": "execute_result"
    }
   ],
   "source": [
    "stock_list"
   ]
  },
  {
   "cell_type": "code",
   "execution_count": 32,
   "id": "950319f9",
   "metadata": {},
   "outputs": [
    {
     "data": {
      "text/html": [
       "<div>\n",
       "<style scoped>\n",
       "    .dataframe tbody tr th:only-of-type {\n",
       "        vertical-align: middle;\n",
       "    }\n",
       "\n",
       "    .dataframe tbody tr th {\n",
       "        vertical-align: top;\n",
       "    }\n",
       "\n",
       "    .dataframe thead th {\n",
       "        text-align: right;\n",
       "    }\n",
       "</style>\n",
       "<table border=\"1\" class=\"dataframe\">\n",
       "  <thead>\n",
       "    <tr style=\"text-align: right;\">\n",
       "      <th></th>\n",
       "      <th>0</th>\n",
       "    </tr>\n",
       "  </thead>\n",
       "  <tbody>\n",
       "    <tr>\n",
       "      <th>0</th>\n",
       "      <td>0.197997</td>\n",
       "    </tr>\n",
       "    <tr>\n",
       "      <th>1</th>\n",
       "      <td>0.105792</td>\n",
       "    </tr>\n",
       "    <tr>\n",
       "      <th>2</th>\n",
       "      <td>0.155595</td>\n",
       "    </tr>\n",
       "    <tr>\n",
       "      <th>3</th>\n",
       "      <td>0.090453</td>\n",
       "    </tr>\n",
       "    <tr>\n",
       "      <th>4</th>\n",
       "      <td>0.133831</td>\n",
       "    </tr>\n",
       "    <tr>\n",
       "      <th>5</th>\n",
       "      <td>0.170843</td>\n",
       "    </tr>\n",
       "    <tr>\n",
       "      <th>6</th>\n",
       "      <td>0.134262</td>\n",
       "    </tr>\n",
       "    <tr>\n",
       "      <th>7</th>\n",
       "      <td>0.121487</td>\n",
       "    </tr>\n",
       "    <tr>\n",
       "      <th>8</th>\n",
       "      <td>0.216244</td>\n",
       "    </tr>\n",
       "    <tr>\n",
       "      <th>9</th>\n",
       "      <td>0.197780</td>\n",
       "    </tr>\n",
       "  </tbody>\n",
       "</table>\n",
       "</div>"
      ],
      "text/plain": [
       "          0\n",
       "0  0.197997\n",
       "1  0.105792\n",
       "2  0.155595\n",
       "3  0.090453\n",
       "4  0.133831\n",
       "5  0.170843\n",
       "6  0.134262\n",
       "7  0.121487\n",
       "8  0.216244\n",
       "9  0.197780"
      ]
     },
     "execution_count": 32,
     "metadata": {},
     "output_type": "execute_result"
    }
   ],
   "source": [
    "capm"
   ]
  },
  {
   "cell_type": "code",
   "execution_count": 33,
   "id": "aedf2cb3",
   "metadata": {
    "scrolled": true
   },
   "outputs": [
    {
     "data": {
      "text/plain": [
       "0    0.75\n",
       "dtype: float64"
      ]
     },
     "execution_count": 33,
     "metadata": {},
     "output_type": "execute_result"
    }
   ],
   "source": [
    "np.round(expect,2)"
   ]
  },
  {
   "cell_type": "code",
   "execution_count": 34,
   "id": "21ff6661",
   "metadata": {},
   "outputs": [
    {
     "data": {
      "text/plain": [
       "0    1.011617\n",
       "dtype: float64"
      ]
     },
     "execution_count": 34,
     "metadata": {},
     "output_type": "execute_result"
    }
   ],
   "source": [
    "(round(expect,2)+portfolio_value)/portfolio_value"
   ]
  },
  {
   "cell_type": "code",
   "execution_count": 35,
   "id": "5088bd70",
   "metadata": {
    "scrolled": true
   },
   "outputs": [
    {
     "data": {
      "text/plain": [
       "APPS   -0.001461\n",
       "CNNE    0.000243\n",
       "CZR     0.001110\n",
       "EVBG    0.000143\n",
       "FLGT    0.000480\n",
       "OPRX    0.000358\n",
       "QTWO    0.002874\n",
       "RDVT   -0.000089\n",
       "RMNI    0.000504\n",
       "SSTI    0.000005\n",
       "dtype: float64"
      ]
     },
     "execution_count": 35,
     "metadata": {},
     "output_type": "execute_result"
    }
   ],
   "source": [
    "mean = returns.mean()\n",
    "mean"
   ]
  },
  {
   "cell_type": "code",
   "execution_count": 36,
   "id": "bd7fa0a3",
   "metadata": {},
   "outputs": [
    {
     "data": {
      "text/plain": [
       "0    0.000417\n",
       "dtype: float64"
      ]
     },
     "execution_count": 36,
     "metadata": {},
     "output_type": "execute_result"
    }
   ],
   "source": [
    "portfolio_mean = []\n",
    "for i in range(len(stock_list)):\n",
    "    total = mean[i].cumprod()\n",
    "    portfolio_mean.append(total)\n",
    "portfolio_mean = (pd.DataFrame(portfolio_mean).sum())/len(stock_list)\n",
    "portfolio_mean"
   ]
  },
  {
   "cell_type": "code",
   "execution_count": 37,
   "id": "6271dfa0",
   "metadata": {},
   "outputs": [],
   "source": [
    "fitfh_percentile = -1.645\n",
    "one_percentile = -2.326"
   ]
  },
  {
   "cell_type": "code",
   "execution_count": 38,
   "id": "2ed788b5",
   "metadata": {},
   "outputs": [
    {
     "data": {
      "text/plain": [
       "43.90999984741211"
      ]
     },
     "execution_count": 38,
     "metadata": {},
     "output_type": "execute_result"
    }
   ],
   "source": [
    "data.Close[stock_list[0]][-1]"
   ]
  },
  {
   "cell_type": "code",
   "execution_count": 39,
   "id": "dd01c021",
   "metadata": {
    "scrolled": false
   },
   "outputs": [
    {
     "data": {
      "image/png": "[encoded data removed]",
      "text/plain": [
       "<Figure size 640x480 with 1 Axes>"
      ]
     },
     "metadata": {},
     "output_type": "display_data"
    }
   ],
   "source": [
    "portfolio_return = []\n",
    "portfolio_risk = []\n",
    "portfolio_expected_return = []\n",
    "portfolio_weight = []\n",
    "for x in range(1000):\n",
    "    weight = np.random.random_sample(len(stock_list))\n",
    "    weight = (weight/np.sum(weight))\n",
    "    investment_amount = portfolio_amount\n",
    "\n",
    "    simulation_repetions = np.random.normal(portfolio_mean,portfolio_stdev,252)\n",
    "    simulated_returns = simulation_repetions\n",
    "    simulated_mean = simulated_returns.mean()\n",
    "    simulated_stdev = simulated_returns.std()\n",
    "    simulated_portfolio_mean = simulated_mean\n",
    "    simulation_repetion = np.random.normal(simulated_portfolio_mean,simulated_stdev,252)\n",
    "    simulated_return = simulation_repetion\n",
    "    \n",
    "    simulated_weigths = []\n",
    "    for i in range(len(stock_list)):\n",
    "        sim_weights = weight[i]\n",
    "        simulated_weigths.append(sim_weights)\n",
    "    simulated_portfolio_stdev = simulated_stdev\n",
    "    simulated_portfolio_stdev\n",
    "    \n",
    "    simulated_annual_portfolio_variance = simulated_portfolio_stdev * np.sqrt(252)\n",
    "    simulated_annual_portfolio_variance\n",
    "    simulated_portfolio_returns = np.dot(simulated_weigths,simulated_returns.sum())\n",
    "    simulated_portfolio_returns\n",
    "    simulated_expected_return = []\n",
    "    for i in range(len(stock_list)):\n",
    "        sim_returns = portfolio_amount*((data.Close[stock_list[i]][-1]*simulated_weigths[i]))\n",
    "        simulated_expected_return.append(sim_returns)\n",
    "    simulated_expected_return = pd.DataFrame(simulated_expected_return)\n",
    "    simulated_expected_return = simulated_expected_return.sum()\n",
    "    simulated_expected_return = simulated_expected_return * (days/trading_days)\n",
    "    worst_case_loss = (one_percentile * simulated_stdev) + simulated_mean\n",
    "    plt.hist(simulated_return, bins=10)\n",
    "    plt.axvline(0, color='black')\n",
    "    plt.axvline((one_percentile * simulated_stdev) + simulated_mean, color='black')\n",
    "    portfolio_risk.append(worst_case_loss)\n",
    "    portfolio_return.append(simulated_portfolio_returns)\n",
    "    portfolio_weight.append(simulated_weigths)\n",
    "    portfolio_expected_return.append(simulated_expected_return)"
   ]
  },
  {
   "cell_type": "code",
   "execution_count": 40,
   "id": "9f35c8f7",
   "metadata": {},
   "outputs": [
    {
     "data": {
      "text/plain": [
       "0   -3.06\n",
       "dtype: float64"
      ]
     },
     "execution_count": 40,
     "metadata": {},
     "output_type": "execute_result"
    }
   ],
   "source": [
    "portfolio_risk = pd.DataFrame(portfolio_risk)\n",
    "average_mean = portfolio_risk.mean()\n",
    "max_5th_percentile_loss = portfolio_amount * average_mean\n",
    "round(max_5th_percentile_loss,2)"
   ]
  },
  {
   "cell_type": "code",
   "execution_count": 41,
   "id": "77b0100b",
   "metadata": {},
   "outputs": [
    {
     "data": {
      "text/plain": [
       "<matplotlib.legend.Legend at 0x17668509810>"
      ]
     },
     "execution_count": 41,
     "metadata": {},
     "output_type": "execute_result"
    },
    {
     "data": {
      "image/png": "[encoded data removed]",
      "text/plain": [
       "<Figure size 640x480 with 1 Axes>"
      ]
     },
     "metadata": {},
     "output_type": "display_data"
    }
   ],
   "source": [
    "plt.plot(figsize=(1,50))\n",
    "plt.pie(weighted)\n",
    "plt.legend(stock_list)"
   ]
  },
  {
   "cell_type": "code",
   "execution_count": 42,
   "id": "fd06d5ad",
   "metadata": {
    "scrolled": false
   },
   "outputs": [
    {
     "data": {
      "text/plain": [
       "<matplotlib.legend.Legend at 0x17668550640>"
      ]
     },
     "execution_count": 42,
     "metadata": {},
     "output_type": "execute_result"
    },
    {
     "data": {
      "image/png": "[encoded data removed]",
      "text/plain": [
       "<Figure size 640x480 with 1 Axes>"
      ]
     },
     "metadata": {},
     "output_type": "display_data"
    }
   ],
   "source": [
    "plt.pie(capm[0])\n",
    "plt.legend(stock_list)"
   ]
  },
  {
   "cell_type": "code",
   "execution_count": 43,
   "id": "db34e396",
   "metadata": {},
   "outputs": [],
   "source": [
    "#file = pd.DataFrame(portfolio_risk)\n",
    "#file.to_csv(f'Data.csv')"
   ]
  }
 ],
 "metadata": {
  "kernelspec": {
   "display_name": "Python 3 (ipykernel)",
   "language": "python",
   "name": "python3"
  },
  "language_info": {
   "codemirror_mode": {
    "name": "ipython",
    "version": 3
   },
   "file_extension": ".py",
   "mimetype": "text/x-python",
   "name": "python",
   "nbconvert_exporter": "python",
   "pygments_lexer": "ipython3",
   "version": "3.10.12"
  }
 },
 "nbformat": 4,
 "nbformat_minor": 5
}
