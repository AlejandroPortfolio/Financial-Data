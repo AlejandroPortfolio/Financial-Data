{
 "cells": [
  {
   "cell_type": "code",
   "execution_count": 9,
   "id": "810ca54c",
   "metadata": {
    "scrolled": false
   },
   "outputs": [
    {
     "name": "stdout",
     "output_type": "stream",
     "text": [
      "Title: Let’s look at the key reasons that are pushing Microsoft Corporation (MSFT) to new highs\n",
      "Information: https://newsdaemon.com/2022/10/04/lets-look-at-the-key-reasons-that-are-pushing-microsoft-corporation-msft-to-new-highs-2/\n",
      "Title: Microsoft (NASDAQ:MSFT) Price Target Cut to $275.00\n",
      "Information: https://www.marketbeat.com/instant-alerts/nasdaq-msft-a-buy-or-sell-right-now-2022-10/\n",
      "Title: TTEC Digital achieves the Microsoft Business Applications 2022/2023 Inner Circle Award\n",
      "Information: https://www.marketscreener.com/quote/stock/TTEC-HOLDINGS-INC-40135661/news/TTEC-Digital-achieves-the-Microsoft-Business-Applications-2022-2023-Inner-Circle-Award-41924920/\n",
      "Title: Microsoft Co. (NASDAQ:MSFT) Shares Acquired by Wolff Wiese Magana LLC\n",
      "Information: https://www.etfdailynews.com/2022/10/04/microsoft-co-nasdaqmsft-shares-acquired-by-wolff-wiese-magana-llc/\n",
      "Title: Amarillo National Bank Purchases 5,974 Shares of Microsoft Co. (NASDAQ:MSFT)\n",
      "Information: https://www.etfdailynews.com/2022/10/04/amarillo-national-bank-purchases-5974-shares-of-microsoft-co-nasdaqmsft/\n",
      "Title: Investmark Advisory Group LLC Purchases 1,191 Shares of Microsoft Co. (NASDAQ:MSFT)\n",
      "Information: https://www.etfdailynews.com/2022/10/04/investmark-advisory-group-llc-purchases-1191-shares-of-microsoft-co-nasdaqmsft/\n",
      "Title: Microsoft Teams: Here's everything new in the last two months\n",
      "Information: https://www.zdnet.com/article/microsoft-teams-heres-everything-new-in-the-last-two-months/\n",
      "Title: CMH Wealth Management LLC Acquires 3391 Shares of Microsoft Co. (NASDAQ:MSFT)\n",
      "Information: https://reporter.am/2022/10/04/cmh-wealth-management-llc-acquires-3391-shares-of-microsoft-co-nasdaqmsft.html\n",
      "Title: Exane Asset Management Increases Holdings in Microsoft Co. (NASDAQ:MSFT)\n",
      "Information: https://www.etfdailynews.com/2022/10/04/exane-asset-management-increases-holdings-in-microsoft-co-nasdaqmsft/\n",
      "Title: Newfound Research LLC Purchases 60 Shares of Microsoft Co. (NASDAQ:MSFT)\n",
      "Information: https://www.etfdailynews.com/2022/10/04/newfound-research-llc-purchases-60-shares-of-microsoft-co-nasdaqmsft/\n"
     ]
    }
   ],
   "source": [
    "from GoogleNews import GoogleNews\n",
    "import pandas as pd\n",
    "from vaderSentiment.vaderSentiment import SentimentIntensityAnalyzer\n",
    "import matplotlib.pyplot as plt\n",
    "\n",
    "google_news = GoogleNews(period='1d')\n",
    "google_news.search(\"MSFT\")\n",
    "result = google_news.results()\n",
    "data = pd.DataFrame.from_dict(result)\n",
    "\n",
    "data.head()\n",
    "data.drop(columns=[\"img\"])\n",
    "\n",
    "for r in result:\n",
    "    print(\"Title:\", r[\"title\"])\n",
    "    print(\"Information:\", r[\"link\"])"
   ]
  },
  {
   "cell_type": "code",
   "execution_count": 10,
   "id": "7a7cf614",
   "metadata": {},
   "outputs": [],
   "source": [
    "anaylzer = SentimentIntensityAnalyzer()"
   ]
  },
  {
   "cell_type": "code",
   "execution_count": 11,
   "id": "79571c55",
   "metadata": {
    "scrolled": false
   },
   "outputs": [],
   "source": [
    "negative = []\n",
    "neutral = []\n",
    "positive = []"
   ]
  },
  {
   "cell_type": "code",
   "execution_count": 12,
   "id": "d594947a",
   "metadata": {
    "scrolled": false
   },
   "outputs": [
    {
     "name": "stdout",
     "output_type": "stream",
     "text": [
      "----------------------\n",
      "Description Polarity Score:  3 mins ago:  Microsoft Corporation (NASDAQ: MSFT) on October 03, 2022, started off the \n",
      "session at the price of $235.41, soaring 3.37% from the previous trading \n",
      "day. {'neg': 0.0, 'neu': 1.0, 'pos': 0.0, 'compound': 0.0}\n",
      "            0\n",
      "neg       0.0\n",
      "neu       1.0\n",
      "pos       0.0\n",
      "compound  0.0\n",
      "----------------------\n",
      "Description Polarity Score:  3 mins ago:  Oppenheimer reduced their price target on shares of Microsoft from $300.00 \n",
      "to $275.00 in a research report on Tuesday. {'neg': 0.0, 'neu': 0.891, 'pos': 0.109, 'compound': 0.296}\n",
      "              0\n",
      "neg       0.000\n",
      "neu       0.891\n",
      "pos       0.109\n",
      "compound  0.296\n",
      "----------------------\n",
      "Description Polarity Score:  2 mins ago:  TTEC Digital is honored by Microsoft for outstanding sales achievement and \n",
      "innovation DENVER, Oct. 4, 2022 /PRNewswire/ -- TTEC Holdings, Inc. , one \n",
      "of the... {'neg': 0.0, 'neu': 0.679, 'pos': 0.321, 'compound': 0.886}\n",
      "              0\n",
      "neg       0.000\n",
      "neu       0.679\n",
      "pos       0.321\n",
      "compound  0.886\n",
      "----------------------\n",
      "Description Polarity Score:  1 hour ago:  Read Microsoft Co. (NASDAQ:MSFT) Shares Acquired by Wolff Wiese Magana LLC \n",
      "at ETF Daily News. {'neg': 0.0, 'neu': 0.864, 'pos': 0.136, 'compound': 0.296}\n",
      "              0\n",
      "neg       0.000\n",
      "neu       0.864\n",
      "pos       0.136\n",
      "compound  0.296\n",
      "----------------------\n",
      "Description Polarity Score:  1 hour ago:  Read Amarillo National Bank Purchases 5974 Shares of Microsoft Co. \n",
      "(NASDAQ:MSFT) at ETF Daily News. {'neg': 0.0, 'neu': 0.864, 'pos': 0.136, 'compound': 0.296}\n",
      "              0\n",
      "neg       0.000\n",
      "neu       0.864\n",
      "pos       0.136\n",
      "compound  0.296\n",
      "----------------------\n",
      "Description Polarity Score:  1 hour ago:  Read Investmark Advisory Group LLC Purchases 1191 Shares of Microsoft Co. \n",
      "(NASDAQ:MSFT) at ETF Daily News. {'neg': 0.0, 'neu': 0.872, 'pos': 0.128, 'compound': 0.296}\n",
      "              0\n",
      "neg       0.000\n",
      "neu       0.872\n",
      "pos       0.128\n",
      "compound  0.296\n",
      "----------------------\n",
      "Description Polarity Score:  1 hour ago:  Teams finally offers native support for Apple silicon Macs, and it gets \n",
      "more hybrid work features in Microsoft's latest updates. {'neg': 0.0, 'neu': 0.876, 'pos': 0.124, 'compound': 0.4019}\n",
      "               0\n",
      "neg       0.0000\n",
      "neu       0.8760\n",
      "pos       0.1240\n",
      "compound  0.4019\n",
      "----------------------\n",
      "Description Polarity Score:  2 hours ago:  Read CMH Wealth Management LLC Acquires 3391 Shares of Microsoft Co. \n",
      "(NASDAQ:MSFT) at The AM Reporter. {'neg': 0.0, 'neu': 0.722, 'pos': 0.278, 'compound': 0.6597}\n",
      "               0\n",
      "neg       0.0000\n",
      "neu       0.7220\n",
      "pos       0.2780\n",
      "compound  0.6597\n",
      "----------------------\n",
      "Description Polarity Score:  2 hours ago:  Read Exane Asset Management Increases Holdings in Microsoft Co. \n",
      "(NASDAQ:MSFT) at ETF Daily News. {'neg': 0.0, 'neu': 0.839, 'pos': 0.161, 'compound': 0.3612}\n",
      "               0\n",
      "neg       0.0000\n",
      "neu       0.8390\n",
      "pos       0.1610\n",
      "compound  0.3612\n",
      "----------------------\n",
      "Description Polarity Score:  2 hours ago:  Newfound Research LLC raised its position in shares of Microsoft Co. \n",
      "(NASDAQ:MSFT – Get Rating) by 25.4% in the second quarter, according to the \n",
      "company in... {'neg': 0.0, 'neu': 0.919, 'pos': 0.081, 'compound': 0.296}\n",
      "              0\n",
      "neg       0.000\n",
      "neu       0.919\n",
      "pos       0.081\n",
      "compound  0.296\n"
     ]
    }
   ],
   "source": [
    "for i in range(len(data.title)):\n",
    "    title = data.title[i]\n",
    "    description = data.desc[i]\n",
    "    title_analyze = anaylzer.polarity_scores(title)\n",
    "    desecription_analyze = anaylzer.polarity_scores(description)\n",
    "    #print(\"Title Polarity Score \",data.date[i]+ \": \",data.title[i],title_analyze)\n",
    "    print(\"----------------------\")\n",
    "    print(\"Description Polarity Score: \",data.date[i]+ \": \",data.desc[i],desecription_analyze)\n",
    "    table = pd.Series(desecription_analyze)\n",
    "    news = pd.DataFrame(table)\n",
    "    print(news)"
   ]
  }
 ],
 "metadata": {
  "kernelspec": {
   "display_name": "Python 3 (ipykernel)",
   "language": "python",
   "name": "python3"
  },
  "language_info": {
   "codemirror_mode": {
    "name": "ipython",
    "version": 3
   },
   "file_extension": ".py",
   "mimetype": "text/x-python",
   "name": "python",
   "nbconvert_exporter": "python",
   "pygments_lexer": "ipython3",
   "version": "3.9.12"
  }
 },
 "nbformat": 4,
 "nbformat_minor": 5
}
